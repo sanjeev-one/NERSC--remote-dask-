{
 "cells": [
  {
   "cell_type": "code",
   "execution_count": 6,
   "metadata": {},
   "outputs": [
    {
     "name": "stdout",
     "output_type": "stream",
     "text": [
      "{'scheduler': {'host': {'python': '3.11.7.final.0', 'python-bits': 64, 'OS': 'Linux', 'OS-release': '5.14.21-150400.24.111_12.0.91-cray_shasta_c', 'machine': 'x86_64', 'processor': 'x86_64', 'byteorder': 'little', 'LC_ALL': 'None', 'LANG': 'en_US.UTF-8'}, 'packages': {'python': '3.11.7.final.0', 'dask': '2023.12.1', 'distributed': '2023.12.1', 'msgpack': '1.0.7', 'cloudpickle': '3.0.0', 'tornado': '6.3.3', 'toolz': '0.12.0', 'numpy': '1.26.3', 'pandas': '2.1.4', 'lz4': '4.3.3'}}, 'workers': {'tcp://10.249.20.169:33161': {'host': {'python': '3.11.7.final.0', 'python-bits': 64, 'OS': 'Linux', 'OS-release': '5.14.21-150400.24.111_12.0.91-cray_shasta_c', 'machine': 'x86_64', 'processor': 'x86_64', 'byteorder': 'little', 'LC_ALL': 'None', 'LANG': 'en_US.UTF-8'}, 'packages': {'python': '3.11.7.final.0', 'dask': '2023.12.1', 'distributed': '2023.12.1', 'msgpack': '1.0.7', 'cloudpickle': '3.0.0', 'tornado': '6.3.3', 'toolz': '0.12.0', 'numpy': '1.26.3', 'pandas': '2.1.4', 'lz4': '4.3.3'}}, 'tcp://10.249.20.169:34237': {'host': {'python': '3.11.7.final.0', 'python-bits': 64, 'OS': 'Linux', 'OS-release': '5.14.21-150400.24.111_12.0.91-cray_shasta_c', 'machine': 'x86_64', 'processor': 'x86_64', 'byteorder': 'little', 'LC_ALL': 'None', 'LANG': 'en_US.UTF-8'}, 'packages': {'python': '3.11.7.final.0', 'dask': '2023.12.1', 'distributed': '2023.12.1', 'msgpack': '1.0.7', 'cloudpickle': '3.0.0', 'tornado': '6.3.3', 'toolz': '0.12.0', 'numpy': '1.26.3', 'pandas': '2.1.4', 'lz4': '4.3.3'}}, 'tcp://10.249.20.169:34983': {'host': {'python': '3.11.7.final.0', 'python-bits': 64, 'OS': 'Linux', 'OS-release': '5.14.21-150400.24.111_12.0.91-cray_shasta_c', 'machine': 'x86_64', 'processor': 'x86_64', 'byteorder': 'little', 'LC_ALL': 'None', 'LANG': 'en_US.UTF-8'}, 'packages': {'python': '3.11.7.final.0', 'dask': '2023.12.1', 'distributed': '2023.12.1', 'msgpack': '1.0.7', 'cloudpickle': '3.0.0', 'tornado': '6.3.3', 'toolz': '0.12.0', 'numpy': '1.26.3', 'pandas': '2.1.4', 'lz4': '4.3.3'}}, 'tcp://10.249.20.169:36161': {'host': {'python': '3.11.7.final.0', 'python-bits': 64, 'OS': 'Linux', 'OS-release': '5.14.21-150400.24.111_12.0.91-cray_shasta_c', 'machine': 'x86_64', 'processor': 'x86_64', 'byteorder': 'little', 'LC_ALL': 'None', 'LANG': 'en_US.UTF-8'}, 'packages': {'python': '3.11.7.final.0', 'dask': '2023.12.1', 'distributed': '2023.12.1', 'msgpack': '1.0.7', 'cloudpickle': '3.0.0', 'tornado': '6.3.3', 'toolz': '0.12.0', 'numpy': '1.26.3', 'pandas': '2.1.4', 'lz4': '4.3.3'}}, 'tcp://10.249.20.169:36391': {'host': {'python': '3.11.7.final.0', 'python-bits': 64, 'OS': 'Linux', 'OS-release': '5.14.21-150400.24.111_12.0.91-cray_shasta_c', 'machine': 'x86_64', 'processor': 'x86_64', 'byteorder': 'little', 'LC_ALL': 'None', 'LANG': 'en_US.UTF-8'}, 'packages': {'python': '3.11.7.final.0', 'dask': '2023.12.1', 'distributed': '2023.12.1', 'msgpack': '1.0.7', 'cloudpickle': '3.0.0', 'tornado': '6.3.3', 'toolz': '0.12.0', 'numpy': '1.26.3', 'pandas': '2.1.4', 'lz4': '4.3.3'}}, 'tcp://10.249.20.169:37249': {'host': {'python': '3.11.7.final.0', 'python-bits': 64, 'OS': 'Linux', 'OS-release': '5.14.21-150400.24.111_12.0.91-cray_shasta_c', 'machine': 'x86_64', 'processor': 'x86_64', 'byteorder': 'little', 'LC_ALL': 'None', 'LANG': 'en_US.UTF-8'}, 'packages': {'python': '3.11.7.final.0', 'dask': '2023.12.1', 'distributed': '2023.12.1', 'msgpack': '1.0.7', 'cloudpickle': '3.0.0', 'tornado': '6.3.3', 'toolz': '0.12.0', 'numpy': '1.26.3', 'pandas': '2.1.4', 'lz4': '4.3.3'}}, 'tcp://10.249.20.169:37613': {'host': {'python': '3.11.7.final.0', 'python-bits': 64, 'OS': 'Linux', 'OS-release': '5.14.21-150400.24.111_12.0.91-cray_shasta_c', 'machine': 'x86_64', 'processor': 'x86_64', 'byteorder': 'little', 'LC_ALL': 'None', 'LANG': 'en_US.UTF-8'}, 'packages': {'python': '3.11.7.final.0', 'dask': '2023.12.1', 'distributed': '2023.12.1', 'msgpack': '1.0.7', 'cloudpickle': '3.0.0', 'tornado': '6.3.3', 'toolz': '0.12.0', 'numpy': '1.26.3', 'pandas': '2.1.4', 'lz4': '4.3.3'}}, 'tcp://10.249.20.169:37907': {'host': {'python': '3.11.7.final.0', 'python-bits': 64, 'OS': 'Linux', 'OS-release': '5.14.21-150400.24.111_12.0.91-cray_shasta_c', 'machine': 'x86_64', 'processor': 'x86_64', 'byteorder': 'little', 'LC_ALL': 'None', 'LANG': 'en_US.UTF-8'}, 'packages': {'python': '3.11.7.final.0', 'dask': '2023.12.1', 'distributed': '2023.12.1', 'msgpack': '1.0.7', 'cloudpickle': '3.0.0', 'tornado': '6.3.3', 'toolz': '0.12.0', 'numpy': '1.26.3', 'pandas': '2.1.4', 'lz4': '4.3.3'}}, 'tcp://10.249.20.169:38359': {'host': {'python': '3.11.7.final.0', 'python-bits': 64, 'OS': 'Linux', 'OS-release': '5.14.21-150400.24.111_12.0.91-cray_shasta_c', 'machine': 'x86_64', 'processor': 'x86_64', 'byteorder': 'little', 'LC_ALL': 'None', 'LANG': 'en_US.UTF-8'}, 'packages': {'python': '3.11.7.final.0', 'dask': '2023.12.1', 'distributed': '2023.12.1', 'msgpack': '1.0.7', 'cloudpickle': '3.0.0', 'tornado': '6.3.3', 'toolz': '0.12.0', 'numpy': '1.26.3', 'pandas': '2.1.4', 'lz4': '4.3.3'}}, 'tcp://10.249.20.169:39169': {'host': {'python': '3.11.7.final.0', 'python-bits': 64, 'OS': 'Linux', 'OS-release': '5.14.21-150400.24.111_12.0.91-cray_shasta_c', 'machine': 'x86_64', 'processor': 'x86_64', 'byteorder': 'little', 'LC_ALL': 'None', 'LANG': 'en_US.UTF-8'}, 'packages': {'python': '3.11.7.final.0', 'dask': '2023.12.1', 'distributed': '2023.12.1', 'msgpack': '1.0.7', 'cloudpickle': '3.0.0', 'tornado': '6.3.3', 'toolz': '0.12.0', 'numpy': '1.26.3', 'pandas': '2.1.4', 'lz4': '4.3.3'}}, 'tcp://10.249.20.169:39215': {'host': {'python': '3.11.7.final.0', 'python-bits': 64, 'OS': 'Linux', 'OS-release': '5.14.21-150400.24.111_12.0.91-cray_shasta_c', 'machine': 'x86_64', 'processor': 'x86_64', 'byteorder': 'little', 'LC_ALL': 'None', 'LANG': 'en_US.UTF-8'}, 'packages': {'python': '3.11.7.final.0', 'dask': '2023.12.1', 'distributed': '2023.12.1', 'msgpack': '1.0.7', 'cloudpickle': '3.0.0', 'tornado': '6.3.3', 'toolz': '0.12.0', 'numpy': '1.26.3', 'pandas': '2.1.4', 'lz4': '4.3.3'}}, 'tcp://10.249.20.169:39813': {'host': {'python': '3.11.7.final.0', 'python-bits': 64, 'OS': 'Linux', 'OS-release': '5.14.21-150400.24.111_12.0.91-cray_shasta_c', 'machine': 'x86_64', 'processor': 'x86_64', 'byteorder': 'little', 'LC_ALL': 'None', 'LANG': 'en_US.UTF-8'}, 'packages': {'python': '3.11.7.final.0', 'dask': '2023.12.1', 'distributed': '2023.12.1', 'msgpack': '1.0.7', 'cloudpickle': '3.0.0', 'tornado': '6.3.3', 'toolz': '0.12.0', 'numpy': '1.26.3', 'pandas': '2.1.4', 'lz4': '4.3.3'}}, 'tcp://10.249.20.169:40205': {'host': {'python': '3.11.7.final.0', 'python-bits': 64, 'OS': 'Linux', 'OS-release': '5.14.21-150400.24.111_12.0.91-cray_shasta_c', 'machine': 'x86_64', 'processor': 'x86_64', 'byteorder': 'little', 'LC_ALL': 'None', 'LANG': 'en_US.UTF-8'}, 'packages': {'python': '3.11.7.final.0', 'dask': '2023.12.1', 'distributed': '2023.12.1', 'msgpack': '1.0.7', 'cloudpickle': '3.0.0', 'tornado': '6.3.3', 'toolz': '0.12.0', 'numpy': '1.26.3', 'pandas': '2.1.4', 'lz4': '4.3.3'}}, 'tcp://10.249.20.169:40285': {'host': {'python': '3.11.7.final.0', 'python-bits': 64, 'OS': 'Linux', 'OS-release': '5.14.21-150400.24.111_12.0.91-cray_shasta_c', 'machine': 'x86_64', 'processor': 'x86_64', 'byteorder': 'little', 'LC_ALL': 'None', 'LANG': 'en_US.UTF-8'}, 'packages': {'python': '3.11.7.final.0', 'dask': '2023.12.1', 'distributed': '2023.12.1', 'msgpack': '1.0.7', 'cloudpickle': '3.0.0', 'tornado': '6.3.3', 'toolz': '0.12.0', 'numpy': '1.26.3', 'pandas': '2.1.4', 'lz4': '4.3.3'}}, 'tcp://10.249.20.169:40635': {'host': {'python': '3.11.7.final.0', 'python-bits': 64, 'OS': 'Linux', 'OS-release': '5.14.21-150400.24.111_12.0.91-cray_shasta_c', 'machine': 'x86_64', 'processor': 'x86_64', 'byteorder': 'little', 'LC_ALL': 'None', 'LANG': 'en_US.UTF-8'}, 'packages': {'python': '3.11.7.final.0', 'dask': '2023.12.1', 'distributed': '2023.12.1', 'msgpack': '1.0.7', 'cloudpickle': '3.0.0', 'tornado': '6.3.3', 'toolz': '0.12.0', 'numpy': '1.26.3', 'pandas': '2.1.4', 'lz4': '4.3.3'}}, 'tcp://10.249.20.169:40979': {'host': {'python': '3.11.7.final.0', 'python-bits': 64, 'OS': 'Linux', 'OS-release': '5.14.21-150400.24.111_12.0.91-cray_shasta_c', 'machine': 'x86_64', 'processor': 'x86_64', 'byteorder': 'little', 'LC_ALL': 'None', 'LANG': 'en_US.UTF-8'}, 'packages': {'python': '3.11.7.final.0', 'dask': '2023.12.1', 'distributed': '2023.12.1', 'msgpack': '1.0.7', 'cloudpickle': '3.0.0', 'tornado': '6.3.3', 'toolz': '0.12.0', 'numpy': '1.26.3', 'pandas': '2.1.4', 'lz4': '4.3.3'}}, 'tcp://10.249.20.169:41099': {'host': {'python': '3.11.7.final.0', 'python-bits': 64, 'OS': 'Linux', 'OS-release': '5.14.21-150400.24.111_12.0.91-cray_shasta_c', 'machine': 'x86_64', 'processor': 'x86_64', 'byteorder': 'little', 'LC_ALL': 'None', 'LANG': 'en_US.UTF-8'}, 'packages': {'python': '3.11.7.final.0', 'dask': '2023.12.1', 'distributed': '2023.12.1', 'msgpack': '1.0.7', 'cloudpickle': '3.0.0', 'tornado': '6.3.3', 'toolz': '0.12.0', 'numpy': '1.26.3', 'pandas': '2.1.4', 'lz4': '4.3.3'}}, 'tcp://10.249.20.169:41169': {'host': {'python': '3.11.7.final.0', 'python-bits': 64, 'OS': 'Linux', 'OS-release': '5.14.21-150400.24.111_12.0.91-cray_shasta_c', 'machine': 'x86_64', 'processor': 'x86_64', 'byteorder': 'little', 'LC_ALL': 'None', 'LANG': 'en_US.UTF-8'}, 'packages': {'python': '3.11.7.final.0', 'dask': '2023.12.1', 'distributed': '2023.12.1', 'msgpack': '1.0.7', 'cloudpickle': '3.0.0', 'tornado': '6.3.3', 'toolz': '0.12.0', 'numpy': '1.26.3', 'pandas': '2.1.4', 'lz4': '4.3.3'}}, 'tcp://10.249.20.169:41261': {'host': {'python': '3.11.7.final.0', 'python-bits': 64, 'OS': 'Linux', 'OS-release': '5.14.21-150400.24.111_12.0.91-cray_shasta_c', 'machine': 'x86_64', 'processor': 'x86_64', 'byteorder': 'little', 'LC_ALL': 'None', 'LANG': 'en_US.UTF-8'}, 'packages': {'python': '3.11.7.final.0', 'dask': '2023.12.1', 'distributed': '2023.12.1', 'msgpack': '1.0.7', 'cloudpickle': '3.0.0', 'tornado': '6.3.3', 'toolz': '0.12.0', 'numpy': '1.26.3', 'pandas': '2.1.4', 'lz4': '4.3.3'}}, 'tcp://10.249.20.169:41267': {'host': {'python': '3.11.7.final.0', 'python-bits': 64, 'OS': 'Linux', 'OS-release': '5.14.21-150400.24.111_12.0.91-cray_shasta_c', 'machine': 'x86_64', 'processor': 'x86_64', 'byteorder': 'little', 'LC_ALL': 'None', 'LANG': 'en_US.UTF-8'}, 'packages': {'python': '3.11.7.final.0', 'dask': '2023.12.1', 'distributed': '2023.12.1', 'msgpack': '1.0.7', 'cloudpickle': '3.0.0', 'tornado': '6.3.3', 'toolz': '0.12.0', 'numpy': '1.26.3', 'pandas': '2.1.4', 'lz4': '4.3.3'}}, 'tcp://10.249.20.169:41631': {'host': {'python': '3.11.7.final.0', 'python-bits': 64, 'OS': 'Linux', 'OS-release': '5.14.21-150400.24.111_12.0.91-cray_shasta_c', 'machine': 'x86_64', 'processor': 'x86_64', 'byteorder': 'little', 'LC_ALL': 'None', 'LANG': 'en_US.UTF-8'}, 'packages': {'python': '3.11.7.final.0', 'dask': '2023.12.1', 'distributed': '2023.12.1', 'msgpack': '1.0.7', 'cloudpickle': '3.0.0', 'tornado': '6.3.3', 'toolz': '0.12.0', 'numpy': '1.26.3', 'pandas': '2.1.4', 'lz4': '4.3.3'}}, 'tcp://10.249.20.169:41853': {'host': {'python': '3.11.7.final.0', 'python-bits': 64, 'OS': 'Linux', 'OS-release': '5.14.21-150400.24.111_12.0.91-cray_shasta_c', 'machine': 'x86_64', 'processor': 'x86_64', 'byteorder': 'little', 'LC_ALL': 'None', 'LANG': 'en_US.UTF-8'}, 'packages': {'python': '3.11.7.final.0', 'dask': '2023.12.1', 'distributed': '2023.12.1', 'msgpack': '1.0.7', 'cloudpickle': '3.0.0', 'tornado': '6.3.3', 'toolz': '0.12.0', 'numpy': '1.26.3', 'pandas': '2.1.4', 'lz4': '4.3.3'}}, 'tcp://10.249.20.169:42563': {'host': {'python': '3.11.7.final.0', 'python-bits': 64, 'OS': 'Linux', 'OS-release': '5.14.21-150400.24.111_12.0.91-cray_shasta_c', 'machine': 'x86_64', 'processor': 'x86_64', 'byteorder': 'little', 'LC_ALL': 'None', 'LANG': 'en_US.UTF-8'}, 'packages': {'python': '3.11.7.final.0', 'dask': '2023.12.1', 'distributed': '2023.12.1', 'msgpack': '1.0.7', 'cloudpickle': '3.0.0', 'tornado': '6.3.3', 'toolz': '0.12.0', 'numpy': '1.26.3', 'pandas': '2.1.4', 'lz4': '4.3.3'}}, 'tcp://10.249.20.169:43105': {'host': {'python': '3.11.7.final.0', 'python-bits': 64, 'OS': 'Linux', 'OS-release': '5.14.21-150400.24.111_12.0.91-cray_shasta_c', 'machine': 'x86_64', 'processor': 'x86_64', 'byteorder': 'little', 'LC_ALL': 'None', 'LANG': 'en_US.UTF-8'}, 'packages': {'python': '3.11.7.final.0', 'dask': '2023.12.1', 'distributed': '2023.12.1', 'msgpack': '1.0.7', 'cloudpickle': '3.0.0', 'tornado': '6.3.3', 'toolz': '0.12.0', 'numpy': '1.26.3', 'pandas': '2.1.4', 'lz4': '4.3.3'}}, 'tcp://10.249.20.169:43155': {'host': {'python': '3.11.7.final.0', 'python-bits': 64, 'OS': 'Linux', 'OS-release': '5.14.21-150400.24.111_12.0.91-cray_shasta_c', 'machine': 'x86_64', 'processor': 'x86_64', 'byteorder': 'little', 'LC_ALL': 'None', 'LANG': 'en_US.UTF-8'}, 'packages': {'python': '3.11.7.final.0', 'dask': '2023.12.1', 'distributed': '2023.12.1', 'msgpack': '1.0.7', 'cloudpickle': '3.0.0', 'tornado': '6.3.3', 'toolz': '0.12.0', 'numpy': '1.26.3', 'pandas': '2.1.4', 'lz4': '4.3.3'}}, 'tcp://10.249.20.169:44235': {'host': {'python': '3.11.7.final.0', 'python-bits': 64, 'OS': 'Linux', 'OS-release': '5.14.21-150400.24.111_12.0.91-cray_shasta_c', 'machine': 'x86_64', 'processor': 'x86_64', 'byteorder': 'little', 'LC_ALL': 'None', 'LANG': 'en_US.UTF-8'}, 'packages': {'python': '3.11.7.final.0', 'dask': '2023.12.1', 'distributed': '2023.12.1', 'msgpack': '1.0.7', 'cloudpickle': '3.0.0', 'tornado': '6.3.3', 'toolz': '0.12.0', 'numpy': '1.26.3', 'pandas': '2.1.4', 'lz4': '4.3.3'}}, 'tcp://10.249.20.169:44981': {'host': {'python': '3.11.7.final.0', 'python-bits': 64, 'OS': 'Linux', 'OS-release': '5.14.21-150400.24.111_12.0.91-cray_shasta_c', 'machine': 'x86_64', 'processor': 'x86_64', 'byteorder': 'little', 'LC_ALL': 'None', 'LANG': 'en_US.UTF-8'}, 'packages': {'python': '3.11.7.final.0', 'dask': '2023.12.1', 'distributed': '2023.12.1', 'msgpack': '1.0.7', 'cloudpickle': '3.0.0', 'tornado': '6.3.3', 'toolz': '0.12.0', 'numpy': '1.26.3', 'pandas': '2.1.4', 'lz4': '4.3.3'}}, 'tcp://10.249.20.169:45373': {'host': {'python': '3.11.7.final.0', 'python-bits': 64, 'OS': 'Linux', 'OS-release': '5.14.21-150400.24.111_12.0.91-cray_shasta_c', 'machine': 'x86_64', 'processor': 'x86_64', 'byteorder': 'little', 'LC_ALL': 'None', 'LANG': 'en_US.UTF-8'}, 'packages': {'python': '3.11.7.final.0', 'dask': '2023.12.1', 'distributed': '2023.12.1', 'msgpack': '1.0.7', 'cloudpickle': '3.0.0', 'tornado': '6.3.3', 'toolz': '0.12.0', 'numpy': '1.26.3', 'pandas': '2.1.4', 'lz4': '4.3.3'}}, 'tcp://10.249.20.169:45675': {'host': {'python': '3.11.7.final.0', 'python-bits': 64, 'OS': 'Linux', 'OS-release': '5.14.21-150400.24.111_12.0.91-cray_shasta_c', 'machine': 'x86_64', 'processor': 'x86_64', 'byteorder': 'little', 'LC_ALL': 'None', 'LANG': 'en_US.UTF-8'}, 'packages': {'python': '3.11.7.final.0', 'dask': '2023.12.1', 'distributed': '2023.12.1', 'msgpack': '1.0.7', 'cloudpickle': '3.0.0', 'tornado': '6.3.3', 'toolz': '0.12.0', 'numpy': '1.26.3', 'pandas': '2.1.4', 'lz4': '4.3.3'}}, 'tcp://10.249.20.169:45703': {'host': {'python': '3.11.7.final.0', 'python-bits': 64, 'OS': 'Linux', 'OS-release': '5.14.21-150400.24.111_12.0.91-cray_shasta_c', 'machine': 'x86_64', 'processor': 'x86_64', 'byteorder': 'little', 'LC_ALL': 'None', 'LANG': 'en_US.UTF-8'}, 'packages': {'python': '3.11.7.final.0', 'dask': '2023.12.1', 'distributed': '2023.12.1', 'msgpack': '1.0.7', 'cloudpickle': '3.0.0', 'tornado': '6.3.3', 'toolz': '0.12.0', 'numpy': '1.26.3', 'pandas': '2.1.4', 'lz4': '4.3.3'}}, 'tcp://10.249.20.169:46483': {'host': {'python': '3.11.7.final.0', 'python-bits': 64, 'OS': 'Linux', 'OS-release': '5.14.21-150400.24.111_12.0.91-cray_shasta_c', 'machine': 'x86_64', 'processor': 'x86_64', 'byteorder': 'little', 'LC_ALL': 'None', 'LANG': 'en_US.UTF-8'}, 'packages': {'python': '3.11.7.final.0', 'dask': '2023.12.1', 'distributed': '2023.12.1', 'msgpack': '1.0.7', 'cloudpickle': '3.0.0', 'tornado': '6.3.3', 'toolz': '0.12.0', 'numpy': '1.26.3', 'pandas': '2.1.4', 'lz4': '4.3.3'}}, 'tcp://10.249.20.169:46857': {'host': {'python': '3.11.7.final.0', 'python-bits': 64, 'OS': 'Linux', 'OS-release': '5.14.21-150400.24.111_12.0.91-cray_shasta_c', 'machine': 'x86_64', 'processor': 'x86_64', 'byteorder': 'little', 'LC_ALL': 'None', 'LANG': 'en_US.UTF-8'}, 'packages': {'python': '3.11.7.final.0', 'dask': '2023.12.1', 'distributed': '2023.12.1', 'msgpack': '1.0.7', 'cloudpickle': '3.0.0', 'tornado': '6.3.3', 'toolz': '0.12.0', 'numpy': '1.26.3', 'pandas': '2.1.4', 'lz4': '4.3.3'}}, 'tcp://10.249.20.170:32851': {'host': {'python': '3.11.7.final.0', 'python-bits': 64, 'OS': 'Linux', 'OS-release': '5.14.21-150400.24.111_12.0.91-cray_shasta_c', 'machine': 'x86_64', 'processor': 'x86_64', 'byteorder': 'little', 'LC_ALL': 'None', 'LANG': 'en_US.UTF-8'}, 'packages': {'python': '3.11.7.final.0', 'dask': '2023.12.1', 'distributed': '2023.12.1', 'msgpack': '1.0.7', 'cloudpickle': '3.0.0', 'tornado': '6.3.3', 'toolz': '0.12.0', 'numpy': '1.26.3', 'pandas': '2.1.4', 'lz4': '4.3.3'}}, 'tcp://10.249.20.170:33585': {'host': {'python': '3.11.7.final.0', 'python-bits': 64, 'OS': 'Linux', 'OS-release': '5.14.21-150400.24.111_12.0.91-cray_shasta_c', 'machine': 'x86_64', 'processor': 'x86_64', 'byteorder': 'little', 'LC_ALL': 'None', 'LANG': 'en_US.UTF-8'}, 'packages': {'python': '3.11.7.final.0', 'dask': '2023.12.1', 'distributed': '2023.12.1', 'msgpack': '1.0.7', 'cloudpickle': '3.0.0', 'tornado': '6.3.3', 'toolz': '0.12.0', 'numpy': '1.26.3', 'pandas': '2.1.4', 'lz4': '4.3.3'}}, 'tcp://10.249.20.170:33859': {'host': {'python': '3.11.7.final.0', 'python-bits': 64, 'OS': 'Linux', 'OS-release': '5.14.21-150400.24.111_12.0.91-cray_shasta_c', 'machine': 'x86_64', 'processor': 'x86_64', 'byteorder': 'little', 'LC_ALL': 'None', 'LANG': 'en_US.UTF-8'}, 'packages': {'python': '3.11.7.final.0', 'dask': '2023.12.1', 'distributed': '2023.12.1', 'msgpack': '1.0.7', 'cloudpickle': '3.0.0', 'tornado': '6.3.3', 'toolz': '0.12.0', 'numpy': '1.26.3', 'pandas': '2.1.4', 'lz4': '4.3.3'}}, 'tcp://10.249.20.170:34135': {'host': {'python': '3.11.7.final.0', 'python-bits': 64, 'OS': 'Linux', 'OS-release': '5.14.21-150400.24.111_12.0.91-cray_shasta_c', 'machine': 'x86_64', 'processor': 'x86_64', 'byteorder': 'little', 'LC_ALL': 'None', 'LANG': 'en_US.UTF-8'}, 'packages': {'python': '3.11.7.final.0', 'dask': '2023.12.1', 'distributed': '2023.12.1', 'msgpack': '1.0.7', 'cloudpickle': '3.0.0', 'tornado': '6.3.3', 'toolz': '0.12.0', 'numpy': '1.26.3', 'pandas': '2.1.4', 'lz4': '4.3.3'}}, 'tcp://10.249.20.170:34555': {'host': {'python': '3.11.7.final.0', 'python-bits': 64, 'OS': 'Linux', 'OS-release': '5.14.21-150400.24.111_12.0.91-cray_shasta_c', 'machine': 'x86_64', 'processor': 'x86_64', 'byteorder': 'little', 'LC_ALL': 'None', 'LANG': 'en_US.UTF-8'}, 'packages': {'python': '3.11.7.final.0', 'dask': '2023.12.1', 'distributed': '2023.12.1', 'msgpack': '1.0.7', 'cloudpickle': '3.0.0', 'tornado': '6.3.3', 'toolz': '0.12.0', 'numpy': '1.26.3', 'pandas': '2.1.4', 'lz4': '4.3.3'}}, 'tcp://10.249.20.170:35757': {'host': {'python': '3.11.7.final.0', 'python-bits': 64, 'OS': 'Linux', 'OS-release': '5.14.21-150400.24.111_12.0.91-cray_shasta_c', 'machine': 'x86_64', 'processor': 'x86_64', 'byteorder': 'little', 'LC_ALL': 'None', 'LANG': 'en_US.UTF-8'}, 'packages': {'python': '3.11.7.final.0', 'dask': '2023.12.1', 'distributed': '2023.12.1', 'msgpack': '1.0.7', 'cloudpickle': '3.0.0', 'tornado': '6.3.3', 'toolz': '0.12.0', 'numpy': '1.26.3', 'pandas': '2.1.4', 'lz4': '4.3.3'}}, 'tcp://10.249.20.170:36359': {'host': {'python': '3.11.7.final.0', 'python-bits': 64, 'OS': 'Linux', 'OS-release': '5.14.21-150400.24.111_12.0.91-cray_shasta_c', 'machine': 'x86_64', 'processor': 'x86_64', 'byteorder': 'little', 'LC_ALL': 'None', 'LANG': 'en_US.UTF-8'}, 'packages': {'python': '3.11.7.final.0', 'dask': '2023.12.1', 'distributed': '2023.12.1', 'msgpack': '1.0.7', 'cloudpickle': '3.0.0', 'tornado': '6.3.3', 'toolz': '0.12.0', 'numpy': '1.26.3', 'pandas': '2.1.4', 'lz4': '4.3.3'}}, 'tcp://10.249.20.170:37297': {'host': {'python': '3.11.7.final.0', 'python-bits': 64, 'OS': 'Linux', 'OS-release': '5.14.21-150400.24.111_12.0.91-cray_shasta_c', 'machine': 'x86_64', 'processor': 'x86_64', 'byteorder': 'little', 'LC_ALL': 'None', 'LANG': 'en_US.UTF-8'}, 'packages': {'python': '3.11.7.final.0', 'dask': '2023.12.1', 'distributed': '2023.12.1', 'msgpack': '1.0.7', 'cloudpickle': '3.0.0', 'tornado': '6.3.3', 'toolz': '0.12.0', 'numpy': '1.26.3', 'pandas': '2.1.4', 'lz4': '4.3.3'}}, 'tcp://10.249.20.170:37433': {'host': {'python': '3.11.7.final.0', 'python-bits': 64, 'OS': 'Linux', 'OS-release': '5.14.21-150400.24.111_12.0.91-cray_shasta_c', 'machine': 'x86_64', 'processor': 'x86_64', 'byteorder': 'little', 'LC_ALL': 'None', 'LANG': 'en_US.UTF-8'}, 'packages': {'python': '3.11.7.final.0', 'dask': '2023.12.1', 'distributed': '2023.12.1', 'msgpack': '1.0.7', 'cloudpickle': '3.0.0', 'tornado': '6.3.3', 'toolz': '0.12.0', 'numpy': '1.26.3', 'pandas': '2.1.4', 'lz4': '4.3.3'}}, 'tcp://10.249.20.170:38033': {'host': {'python': '3.11.7.final.0', 'python-bits': 64, 'OS': 'Linux', 'OS-release': '5.14.21-150400.24.111_12.0.91-cray_shasta_c', 'machine': 'x86_64', 'processor': 'x86_64', 'byteorder': 'little', 'LC_ALL': 'None', 'LANG': 'en_US.UTF-8'}, 'packages': {'python': '3.11.7.final.0', 'dask': '2023.12.1', 'distributed': '2023.12.1', 'msgpack': '1.0.7', 'cloudpickle': '3.0.0', 'tornado': '6.3.3', 'toolz': '0.12.0', 'numpy': '1.26.3', 'pandas': '2.1.4', 'lz4': '4.3.3'}}, 'tcp://10.249.20.170:39731': {'host': {'python': '3.11.7.final.0', 'python-bits': 64, 'OS': 'Linux', 'OS-release': '5.14.21-150400.24.111_12.0.91-cray_shasta_c', 'machine': 'x86_64', 'processor': 'x86_64', 'byteorder': 'little', 'LC_ALL': 'None', 'LANG': 'en_US.UTF-8'}, 'packages': {'python': '3.11.7.final.0', 'dask': '2023.12.1', 'distributed': '2023.12.1', 'msgpack': '1.0.7', 'cloudpickle': '3.0.0', 'tornado': '6.3.3', 'toolz': '0.12.0', 'numpy': '1.26.3', 'pandas': '2.1.4', 'lz4': '4.3.3'}}, 'tcp://10.249.20.170:40027': {'host': {'python': '3.11.7.final.0', 'python-bits': 64, 'OS': 'Linux', 'OS-release': '5.14.21-150400.24.111_12.0.91-cray_shasta_c', 'machine': 'x86_64', 'processor': 'x86_64', 'byteorder': 'little', 'LC_ALL': 'None', 'LANG': 'en_US.UTF-8'}, 'packages': {'python': '3.11.7.final.0', 'dask': '2023.12.1', 'distributed': '2023.12.1', 'msgpack': '1.0.7', 'cloudpickle': '3.0.0', 'tornado': '6.3.3', 'toolz': '0.12.0', 'numpy': '1.26.3', 'pandas': '2.1.4', 'lz4': '4.3.3'}}, 'tcp://10.249.20.170:40033': {'host': {'python': '3.11.7.final.0', 'python-bits': 64, 'OS': 'Linux', 'OS-release': '5.14.21-150400.24.111_12.0.91-cray_shasta_c', 'machine': 'x86_64', 'processor': 'x86_64', 'byteorder': 'little', 'LC_ALL': 'None', 'LANG': 'en_US.UTF-8'}, 'packages': {'python': '3.11.7.final.0', 'dask': '2023.12.1', 'distributed': '2023.12.1', 'msgpack': '1.0.7', 'cloudpickle': '3.0.0', 'tornado': '6.3.3', 'toolz': '0.12.0', 'numpy': '1.26.3', 'pandas': '2.1.4', 'lz4': '4.3.3'}}, 'tcp://10.249.20.170:40315': {'host': {'python': '3.11.7.final.0', 'python-bits': 64, 'OS': 'Linux', 'OS-release': '5.14.21-150400.24.111_12.0.91-cray_shasta_c', 'machine': 'x86_64', 'processor': 'x86_64', 'byteorder': 'little', 'LC_ALL': 'None', 'LANG': 'en_US.UTF-8'}, 'packages': {'python': '3.11.7.final.0', 'dask': '2023.12.1', 'distributed': '2023.12.1', 'msgpack': '1.0.7', 'cloudpickle': '3.0.0', 'tornado': '6.3.3', 'toolz': '0.12.0', 'numpy': '1.26.3', 'pandas': '2.1.4', 'lz4': '4.3.3'}}, 'tcp://10.249.20.170:40961': {'host': {'python': '3.11.7.final.0', 'python-bits': 64, 'OS': 'Linux', 'OS-release': '5.14.21-150400.24.111_12.0.91-cray_shasta_c', 'machine': 'x86_64', 'processor': 'x86_64', 'byteorder': 'little', 'LC_ALL': 'None', 'LANG': 'en_US.UTF-8'}, 'packages': {'python': '3.11.7.final.0', 'dask': '2023.12.1', 'distributed': '2023.12.1', 'msgpack': '1.0.7', 'cloudpickle': '3.0.0', 'tornado': '6.3.3', 'toolz': '0.12.0', 'numpy': '1.26.3', 'pandas': '2.1.4', 'lz4': '4.3.3'}}, 'tcp://10.249.20.170:41477': {'host': {'python': '3.11.7.final.0', 'python-bits': 64, 'OS': 'Linux', 'OS-release': '5.14.21-150400.24.111_12.0.91-cray_shasta_c', 'machine': 'x86_64', 'processor': 'x86_64', 'byteorder': 'little', 'LC_ALL': 'None', 'LANG': 'en_US.UTF-8'}, 'packages': {'python': '3.11.7.final.0', 'dask': '2023.12.1', 'distributed': '2023.12.1', 'msgpack': '1.0.7', 'cloudpickle': '3.0.0', 'tornado': '6.3.3', 'toolz': '0.12.0', 'numpy': '1.26.3', 'pandas': '2.1.4', 'lz4': '4.3.3'}}, 'tcp://10.249.20.170:41869': {'host': {'python': '3.11.7.final.0', 'python-bits': 64, 'OS': 'Linux', 'OS-release': '5.14.21-150400.24.111_12.0.91-cray_shasta_c', 'machine': 'x86_64', 'processor': 'x86_64', 'byteorder': 'little', 'LC_ALL': 'None', 'LANG': 'en_US.UTF-8'}, 'packages': {'python': '3.11.7.final.0', 'dask': '2023.12.1', 'distributed': '2023.12.1', 'msgpack': '1.0.7', 'cloudpickle': '3.0.0', 'tornado': '6.3.3', 'toolz': '0.12.0', 'numpy': '1.26.3', 'pandas': '2.1.4', 'lz4': '4.3.3'}}, 'tcp://10.249.20.170:43279': {'host': {'python': '3.11.7.final.0', 'python-bits': 64, 'OS': 'Linux', 'OS-release': '5.14.21-150400.24.111_12.0.91-cray_shasta_c', 'machine': 'x86_64', 'processor': 'x86_64', 'byteorder': 'little', 'LC_ALL': 'None', 'LANG': 'en_US.UTF-8'}, 'packages': {'python': '3.11.7.final.0', 'dask': '2023.12.1', 'distributed': '2023.12.1', 'msgpack': '1.0.7', 'cloudpickle': '3.0.0', 'tornado': '6.3.3', 'toolz': '0.12.0', 'numpy': '1.26.3', 'pandas': '2.1.4', 'lz4': '4.3.3'}}, 'tcp://10.249.20.170:43443': {'host': {'python': '3.11.7.final.0', 'python-bits': 64, 'OS': 'Linux', 'OS-release': '5.14.21-150400.24.111_12.0.91-cray_shasta_c', 'machine': 'x86_64', 'processor': 'x86_64', 'byteorder': 'little', 'LC_ALL': 'None', 'LANG': 'en_US.UTF-8'}, 'packages': {'python': '3.11.7.final.0', 'dask': '2023.12.1', 'distributed': '2023.12.1', 'msgpack': '1.0.7', 'cloudpickle': '3.0.0', 'tornado': '6.3.3', 'toolz': '0.12.0', 'numpy': '1.26.3', 'pandas': '2.1.4', 'lz4': '4.3.3'}}, 'tcp://10.249.20.170:43553': {'host': {'python': '3.11.7.final.0', 'python-bits': 64, 'OS': 'Linux', 'OS-release': '5.14.21-150400.24.111_12.0.91-cray_shasta_c', 'machine': 'x86_64', 'processor': 'x86_64', 'byteorder': 'little', 'LC_ALL': 'None', 'LANG': 'en_US.UTF-8'}, 'packages': {'python': '3.11.7.final.0', 'dask': '2023.12.1', 'distributed': '2023.12.1', 'msgpack': '1.0.7', 'cloudpickle': '3.0.0', 'tornado': '6.3.3', 'toolz': '0.12.0', 'numpy': '1.26.3', 'pandas': '2.1.4', 'lz4': '4.3.3'}}, 'tcp://10.249.20.170:43721': {'host': {'python': '3.11.7.final.0', 'python-bits': 64, 'OS': 'Linux', 'OS-release': '5.14.21-150400.24.111_12.0.91-cray_shasta_c', 'machine': 'x86_64', 'processor': 'x86_64', 'byteorder': 'little', 'LC_ALL': 'None', 'LANG': 'en_US.UTF-8'}, 'packages': {'python': '3.11.7.final.0', 'dask': '2023.12.1', 'distributed': '2023.12.1', 'msgpack': '1.0.7', 'cloudpickle': '3.0.0', 'tornado': '6.3.3', 'toolz': '0.12.0', 'numpy': '1.26.3', 'pandas': '2.1.4', 'lz4': '4.3.3'}}, 'tcp://10.249.20.170:44361': {'host': {'python': '3.11.7.final.0', 'python-bits': 64, 'OS': 'Linux', 'OS-release': '5.14.21-150400.24.111_12.0.91-cray_shasta_c', 'machine': 'x86_64', 'processor': 'x86_64', 'byteorder': 'little', 'LC_ALL': 'None', 'LANG': 'en_US.UTF-8'}, 'packages': {'python': '3.11.7.final.0', 'dask': '2023.12.1', 'distributed': '2023.12.1', 'msgpack': '1.0.7', 'cloudpickle': '3.0.0', 'tornado': '6.3.3', 'toolz': '0.12.0', 'numpy': '1.26.3', 'pandas': '2.1.4', 'lz4': '4.3.3'}}, 'tcp://10.249.20.170:44833': {'host': {'python': '3.11.7.final.0', 'python-bits': 64, 'OS': 'Linux', 'OS-release': '5.14.21-150400.24.111_12.0.91-cray_shasta_c', 'machine': 'x86_64', 'processor': 'x86_64', 'byteorder': 'little', 'LC_ALL': 'None', 'LANG': 'en_US.UTF-8'}, 'packages': {'python': '3.11.7.final.0', 'dask': '2023.12.1', 'distributed': '2023.12.1', 'msgpack': '1.0.7', 'cloudpickle': '3.0.0', 'tornado': '6.3.3', 'toolz': '0.12.0', 'numpy': '1.26.3', 'pandas': '2.1.4', 'lz4': '4.3.3'}}, 'tcp://10.249.20.170:44983': {'host': {'python': '3.11.7.final.0', 'python-bits': 64, 'OS': 'Linux', 'OS-release': '5.14.21-150400.24.111_12.0.91-cray_shasta_c', 'machine': 'x86_64', 'processor': 'x86_64', 'byteorder': 'little', 'LC_ALL': 'None', 'LANG': 'en_US.UTF-8'}, 'packages': {'python': '3.11.7.final.0', 'dask': '2023.12.1', 'distributed': '2023.12.1', 'msgpack': '1.0.7', 'cloudpickle': '3.0.0', 'tornado': '6.3.3', 'toolz': '0.12.0', 'numpy': '1.26.3', 'pandas': '2.1.4', 'lz4': '4.3.3'}}, 'tcp://10.249.20.170:45163': {'host': {'python': '3.11.7.final.0', 'python-bits': 64, 'OS': 'Linux', 'OS-release': '5.14.21-150400.24.111_12.0.91-cray_shasta_c', 'machine': 'x86_64', 'processor': 'x86_64', 'byteorder': 'little', 'LC_ALL': 'None', 'LANG': 'en_US.UTF-8'}, 'packages': {'python': '3.11.7.final.0', 'dask': '2023.12.1', 'distributed': '2023.12.1', 'msgpack': '1.0.7', 'cloudpickle': '3.0.0', 'tornado': '6.3.3', 'toolz': '0.12.0', 'numpy': '1.26.3', 'pandas': '2.1.4', 'lz4': '4.3.3'}}, 'tcp://10.249.20.170:45289': {'host': {'python': '3.11.7.final.0', 'python-bits': 64, 'OS': 'Linux', 'OS-release': '5.14.21-150400.24.111_12.0.91-cray_shasta_c', 'machine': 'x86_64', 'processor': 'x86_64', 'byteorder': 'little', 'LC_ALL': 'None', 'LANG': 'en_US.UTF-8'}, 'packages': {'python': '3.11.7.final.0', 'dask': '2023.12.1', 'distributed': '2023.12.1', 'msgpack': '1.0.7', 'cloudpickle': '3.0.0', 'tornado': '6.3.3', 'toolz': '0.12.0', 'numpy': '1.26.3', 'pandas': '2.1.4', 'lz4': '4.3.3'}}, 'tcp://10.249.20.170:45571': {'host': {'python': '3.11.7.final.0', 'python-bits': 64, 'OS': 'Linux', 'OS-release': '5.14.21-150400.24.111_12.0.91-cray_shasta_c', 'machine': 'x86_64', 'processor': 'x86_64', 'byteorder': 'little', 'LC_ALL': 'None', 'LANG': 'en_US.UTF-8'}, 'packages': {'python': '3.11.7.final.0', 'dask': '2023.12.1', 'distributed': '2023.12.1', 'msgpack': '1.0.7', 'cloudpickle': '3.0.0', 'tornado': '6.3.3', 'toolz': '0.12.0', 'numpy': '1.26.3', 'pandas': '2.1.4', 'lz4': '4.3.3'}}, 'tcp://10.249.20.170:46087': {'host': {'python': '3.11.7.final.0', 'python-bits': 64, 'OS': 'Linux', 'OS-release': '5.14.21-150400.24.111_12.0.91-cray_shasta_c', 'machine': 'x86_64', 'processor': 'x86_64', 'byteorder': 'little', 'LC_ALL': 'None', 'LANG': 'en_US.UTF-8'}, 'packages': {'python': '3.11.7.final.0', 'dask': '2023.12.1', 'distributed': '2023.12.1', 'msgpack': '1.0.7', 'cloudpickle': '3.0.0', 'tornado': '6.3.3', 'toolz': '0.12.0', 'numpy': '1.26.3', 'pandas': '2.1.4', 'lz4': '4.3.3'}}, 'tcp://10.249.20.170:46241': {'host': {'python': '3.11.7.final.0', 'python-bits': 64, 'OS': 'Linux', 'OS-release': '5.14.21-150400.24.111_12.0.91-cray_shasta_c', 'machine': 'x86_64', 'processor': 'x86_64', 'byteorder': 'little', 'LC_ALL': 'None', 'LANG': 'en_US.UTF-8'}, 'packages': {'python': '3.11.7.final.0', 'dask': '2023.12.1', 'distributed': '2023.12.1', 'msgpack': '1.0.7', 'cloudpickle': '3.0.0', 'tornado': '6.3.3', 'toolz': '0.12.0', 'numpy': '1.26.3', 'pandas': '2.1.4', 'lz4': '4.3.3'}}, 'tcp://10.249.20.170:46373': {'host': {'python': '3.11.7.final.0', 'python-bits': 64, 'OS': 'Linux', 'OS-release': '5.14.21-150400.24.111_12.0.91-cray_shasta_c', 'machine': 'x86_64', 'processor': 'x86_64', 'byteorder': 'little', 'LC_ALL': 'None', 'LANG': 'en_US.UTF-8'}, 'packages': {'python': '3.11.7.final.0', 'dask': '2023.12.1', 'distributed': '2023.12.1', 'msgpack': '1.0.7', 'cloudpickle': '3.0.0', 'tornado': '6.3.3', 'toolz': '0.12.0', 'numpy': '1.26.3', 'pandas': '2.1.4', 'lz4': '4.3.3'}}, 'tcp://10.249.20.170:46467': {'host': {'python': '3.11.7.final.0', 'python-bits': 64, 'OS': 'Linux', 'OS-release': '5.14.21-150400.24.111_12.0.91-cray_shasta_c', 'machine': 'x86_64', 'processor': 'x86_64', 'byteorder': 'little', 'LC_ALL': 'None', 'LANG': 'en_US.UTF-8'}, 'packages': {'python': '3.11.7.final.0', 'dask': '2023.12.1', 'distributed': '2023.12.1', 'msgpack': '1.0.7', 'cloudpickle': '3.0.0', 'tornado': '6.3.3', 'toolz': '0.12.0', 'numpy': '1.26.3', 'pandas': '2.1.4', 'lz4': '4.3.3'}}, 'tcp://10.249.20.170:46683': {'host': {'python': '3.11.7.final.0', 'python-bits': 64, 'OS': 'Linux', 'OS-release': '5.14.21-150400.24.111_12.0.91-cray_shasta_c', 'machine': 'x86_64', 'processor': 'x86_64', 'byteorder': 'little', 'LC_ALL': 'None', 'LANG': 'en_US.UTF-8'}, 'packages': {'python': '3.11.7.final.0', 'dask': '2023.12.1', 'distributed': '2023.12.1', 'msgpack': '1.0.7', 'cloudpickle': '3.0.0', 'tornado': '6.3.3', 'toolz': '0.12.0', 'numpy': '1.26.3', 'pandas': '2.1.4', 'lz4': '4.3.3'}}}, 'client': {'host': {'python': '3.11.7.final.0', 'python-bits': 64, 'OS': 'Darwin', 'OS-release': '23.5.0', 'machine': 'arm64', 'processor': 'arm', 'byteorder': 'little', 'LC_ALL': 'None', 'LANG': 'None'}, 'packages': {'python': '3.11.7.final.0', 'dask': '2023.12.1', 'distributed': '2023.12.1', 'msgpack': '1.1.0', 'cloudpickle': '3.1.0', 'tornado': '6.4.1', 'toolz': '1.0.0', 'numpy': '1.26.4', 'pandas': '2.2.3', 'lz4': '4.3.3'}}}\n"
     ]
    },
    {
     "name": "stderr",
     "output_type": "stream",
     "text": [
      "2024-11-12 02:11:01,696 - distributed.client - ERROR - Failed to reconnect to scheduler after 30.00 seconds, closing client\n"
     ]
    }
   ],
   "source": [
    "from dask.distributed import Client\n",
    "\n",
    "# Assuming you've already set up your cluster and client\n",
    "client = Client('localhost:8786')\n",
    "\n",
    "# Get version information\n",
    "versions = client.get_versions()\n",
    "\n",
    "# Print version information\n",
    "print(versions)"
   ]
  },
  {
   "cell_type": "code",
   "execution_count": 8,
   "metadata": {},
   "outputs": [
    {
     "data": {
      "text/html": [
       "<table>\n",
       "    <tr>\n",
       "        <td>\n",
       "            <table style=\"border-collapse: collapse;\">\n",
       "                <thead>\n",
       "                    <tr>\n",
       "                        <td> </td>\n",
       "                        <th> Array </th>\n",
       "                        <th> Chunk </th>\n",
       "                    </tr>\n",
       "                </thead>\n",
       "                <tbody>\n",
       "                    \n",
       "                    <tr>\n",
       "                        <th> Bytes </th>\n",
       "                        <td> 762.94 MiB </td>\n",
       "                        <td> 7.63 MiB </td>\n",
       "                    </tr>\n",
       "                    \n",
       "                    <tr>\n",
       "                        <th> Shape </th>\n",
       "                        <td> (10000, 10000) </td>\n",
       "                        <td> (1000, 1000) </td>\n",
       "                    </tr>\n",
       "                    <tr>\n",
       "                        <th> Dask graph </th>\n",
       "                        <td colspan=\"2\"> 100 chunks in 1 graph layer </td>\n",
       "                    </tr>\n",
       "                    <tr>\n",
       "                        <th> Data type </th>\n",
       "                        <td colspan=\"2\"> float64 numpy.ndarray </td>\n",
       "                    </tr>\n",
       "                </tbody>\n",
       "            </table>\n",
       "        </td>\n",
       "        <td>\n",
       "        <svg width=\"170\" height=\"170\" style=\"stroke:rgb(0,0,0);stroke-width:1\" >\n",
       "\n",
       "  <!-- Horizontal lines -->\n",
       "  <line x1=\"0\" y1=\"0\" x2=\"120\" y2=\"0\" style=\"stroke-width:2\" />\n",
       "  <line x1=\"0\" y1=\"12\" x2=\"120\" y2=\"12\" />\n",
       "  <line x1=\"0\" y1=\"24\" x2=\"120\" y2=\"24\" />\n",
       "  <line x1=\"0\" y1=\"36\" x2=\"120\" y2=\"36\" />\n",
       "  <line x1=\"0\" y1=\"48\" x2=\"120\" y2=\"48\" />\n",
       "  <line x1=\"0\" y1=\"60\" x2=\"120\" y2=\"60\" />\n",
       "  <line x1=\"0\" y1=\"72\" x2=\"120\" y2=\"72\" />\n",
       "  <line x1=\"0\" y1=\"84\" x2=\"120\" y2=\"84\" />\n",
       "  <line x1=\"0\" y1=\"96\" x2=\"120\" y2=\"96\" />\n",
       "  <line x1=\"0\" y1=\"108\" x2=\"120\" y2=\"108\" />\n",
       "  <line x1=\"0\" y1=\"120\" x2=\"120\" y2=\"120\" style=\"stroke-width:2\" />\n",
       "\n",
       "  <!-- Vertical lines -->\n",
       "  <line x1=\"0\" y1=\"0\" x2=\"0\" y2=\"120\" style=\"stroke-width:2\" />\n",
       "  <line x1=\"12\" y1=\"0\" x2=\"12\" y2=\"120\" />\n",
       "  <line x1=\"24\" y1=\"0\" x2=\"24\" y2=\"120\" />\n",
       "  <line x1=\"36\" y1=\"0\" x2=\"36\" y2=\"120\" />\n",
       "  <line x1=\"48\" y1=\"0\" x2=\"48\" y2=\"120\" />\n",
       "  <line x1=\"60\" y1=\"0\" x2=\"60\" y2=\"120\" />\n",
       "  <line x1=\"72\" y1=\"0\" x2=\"72\" y2=\"120\" />\n",
       "  <line x1=\"84\" y1=\"0\" x2=\"84\" y2=\"120\" />\n",
       "  <line x1=\"96\" y1=\"0\" x2=\"96\" y2=\"120\" />\n",
       "  <line x1=\"108\" y1=\"0\" x2=\"108\" y2=\"120\" />\n",
       "  <line x1=\"120\" y1=\"0\" x2=\"120\" y2=\"120\" style=\"stroke-width:2\" />\n",
       "\n",
       "  <!-- Colored Rectangle -->\n",
       "  <polygon points=\"0.0,0.0 120.0,0.0 120.0,120.0 0.0,120.0\" style=\"fill:#ECB172A0;stroke-width:0\"/>\n",
       "\n",
       "  <!-- Text -->\n",
       "  <text x=\"60.000000\" y=\"140.000000\" font-size=\"1.0rem\" font-weight=\"100\" text-anchor=\"middle\" >10000</text>\n",
       "  <text x=\"140.000000\" y=\"60.000000\" font-size=\"1.0rem\" font-weight=\"100\" text-anchor=\"middle\" transform=\"rotate(-90,140.000000,60.000000)\">10000</text>\n",
       "</svg>\n",
       "        </td>\n",
       "    </tr>\n",
       "</table>"
      ],
      "text/plain": [
       "dask.array<random_sample, shape=(10000, 10000), dtype=float64, chunksize=(1000, 1000), chunktype=numpy.ndarray>"
      ]
     },
     "execution_count": 8,
     "metadata": {},
     "output_type": "execute_result"
    }
   ],
   "source": [
    "import dask.array as da\n",
    "x = da.random.random((10000, 10000), chunks=(1000, 1000))\n",
    "x"
   ]
  },
  {
   "cell_type": "code",
   "execution_count": 9,
   "metadata": {},
   "outputs": [
    {
     "name": "stdout",
     "output_type": "stream",
     "text": [
      "Computing the sum of a large random array...\n",
      "Computed result: 50003425.814532876\n"
     ]
    },
    {
     "ename": "RuntimeError",
     "evalue": "No visualization engine detected, please install graphviz or ipycytoscape",
     "output_type": "error",
     "traceback": [
      "\u001b[0;31m---------------------------------------------------------------------------\u001b[0m",
      "\u001b[0;31mRuntimeError\u001b[0m                              Traceback (most recent call last)",
      "Cell \u001b[0;32mIn[9], line 12\u001b[0m\n\u001b[1;32m      8\u001b[0m \u001b[38;5;28mprint\u001b[39m(\u001b[38;5;124mf\u001b[39m\u001b[38;5;124m\"\u001b[39m\u001b[38;5;124mComputed result: \u001b[39m\u001b[38;5;132;01m{\u001b[39;00mcomputed_result\u001b[38;5;132;01m}\u001b[39;00m\u001b[38;5;124m\"\u001b[39m)\n\u001b[1;32m     11\u001b[0m \u001b[38;5;66;03m# Visualize the task graph (optional)\u001b[39;00m\n\u001b[0;32m---> 12\u001b[0m \u001b[43mresult\u001b[49m\u001b[38;5;241;43m.\u001b[39;49m\u001b[43mvisualize\u001b[49m\u001b[43m(\u001b[49m\u001b[43m)\u001b[49m\n",
      "File \u001b[0;32m~/miniforge3/envs/nersc2/lib/python3.11/site-packages/dask/base.py:268\u001b[0m, in \u001b[0;36mDaskMethodsMixin.visualize\u001b[0;34m(self, filename, format, optimize_graph, **kwargs)\u001b[0m\n\u001b[1;32m    224\u001b[0m \u001b[38;5;28;01mdef\u001b[39;00m \u001b[38;5;21mvisualize\u001b[39m(\u001b[38;5;28mself\u001b[39m, filename\u001b[38;5;241m=\u001b[39m\u001b[38;5;124m\"\u001b[39m\u001b[38;5;124mmydask\u001b[39m\u001b[38;5;124m\"\u001b[39m, \u001b[38;5;28mformat\u001b[39m\u001b[38;5;241m=\u001b[39m\u001b[38;5;28;01mNone\u001b[39;00m, optimize_graph\u001b[38;5;241m=\u001b[39m\u001b[38;5;28;01mFalse\u001b[39;00m, \u001b[38;5;241m*\u001b[39m\u001b[38;5;241m*\u001b[39mkwargs):\n\u001b[1;32m    225\u001b[0m \u001b[38;5;250m    \u001b[39m\u001b[38;5;124;03m\"\"\"Render the computation of this object's task graph using graphviz.\u001b[39;00m\n\u001b[1;32m    226\u001b[0m \n\u001b[1;32m    227\u001b[0m \u001b[38;5;124;03m    Requires ``graphviz`` to be installed.\u001b[39;00m\n\u001b[0;32m   (...)\u001b[0m\n\u001b[1;32m    266\u001b[0m \u001b[38;5;124;03m    https://docs.dask.org/en/latest/optimize.html\u001b[39;00m\n\u001b[1;32m    267\u001b[0m \u001b[38;5;124;03m    \"\"\"\u001b[39;00m\n\u001b[0;32m--> 268\u001b[0m     \u001b[38;5;28;01mreturn\u001b[39;00m \u001b[43mvisualize\u001b[49m\u001b[43m(\u001b[49m\n\u001b[1;32m    269\u001b[0m \u001b[43m        \u001b[49m\u001b[38;5;28;43mself\u001b[39;49m\u001b[43m,\u001b[49m\n\u001b[1;32m    270\u001b[0m \u001b[43m        \u001b[49m\u001b[43mfilename\u001b[49m\u001b[38;5;241;43m=\u001b[39;49m\u001b[43mfilename\u001b[49m\u001b[43m,\u001b[49m\n\u001b[1;32m    271\u001b[0m \u001b[43m        \u001b[49m\u001b[38;5;28;43mformat\u001b[39;49m\u001b[38;5;241;43m=\u001b[39;49m\u001b[38;5;28;43mformat\u001b[39;49m\u001b[43m,\u001b[49m\n\u001b[1;32m    272\u001b[0m \u001b[43m        \u001b[49m\u001b[43moptimize_graph\u001b[49m\u001b[38;5;241;43m=\u001b[39;49m\u001b[43moptimize_graph\u001b[49m\u001b[43m,\u001b[49m\n\u001b[1;32m    273\u001b[0m \u001b[43m        \u001b[49m\u001b[38;5;241;43m*\u001b[39;49m\u001b[38;5;241;43m*\u001b[39;49m\u001b[43mkwargs\u001b[49m\u001b[43m,\u001b[49m\n\u001b[1;32m    274\u001b[0m \u001b[43m    \u001b[49m\u001b[43m)\u001b[49m\n",
      "File \u001b[0;32m~/miniforge3/envs/nersc2/lib/python3.11/site-packages/dask/base.py:725\u001b[0m, in \u001b[0;36mvisualize\u001b[0;34m(filename, traverse, optimize_graph, maxval, engine, *args, **kwargs)\u001b[0m\n\u001b[1;32m    721\u001b[0m args, _ \u001b[38;5;241m=\u001b[39m unpack_collections(\u001b[38;5;241m*\u001b[39margs, traverse\u001b[38;5;241m=\u001b[39mtraverse)\n\u001b[1;32m    723\u001b[0m dsk \u001b[38;5;241m=\u001b[39m \u001b[38;5;28mdict\u001b[39m(collections_to_dsk(args, optimize_graph\u001b[38;5;241m=\u001b[39moptimize_graph))\n\u001b[0;32m--> 725\u001b[0m \u001b[38;5;28;01mreturn\u001b[39;00m \u001b[43mvisualize_dsk\u001b[49m\u001b[43m(\u001b[49m\n\u001b[1;32m    726\u001b[0m \u001b[43m    \u001b[49m\u001b[43mdsk\u001b[49m\u001b[38;5;241;43m=\u001b[39;49m\u001b[43mdsk\u001b[49m\u001b[43m,\u001b[49m\n\u001b[1;32m    727\u001b[0m \u001b[43m    \u001b[49m\u001b[43mfilename\u001b[49m\u001b[38;5;241;43m=\u001b[39;49m\u001b[43mfilename\u001b[49m\u001b[43m,\u001b[49m\n\u001b[1;32m    728\u001b[0m \u001b[43m    \u001b[49m\u001b[43mtraverse\u001b[49m\u001b[38;5;241;43m=\u001b[39;49m\u001b[43mtraverse\u001b[49m\u001b[43m,\u001b[49m\n\u001b[1;32m    729\u001b[0m \u001b[43m    \u001b[49m\u001b[43moptimize_graph\u001b[49m\u001b[38;5;241;43m=\u001b[39;49m\u001b[43moptimize_graph\u001b[49m\u001b[43m,\u001b[49m\n\u001b[1;32m    730\u001b[0m \u001b[43m    \u001b[49m\u001b[43mmaxval\u001b[49m\u001b[38;5;241;43m=\u001b[39;49m\u001b[43mmaxval\u001b[49m\u001b[43m,\u001b[49m\n\u001b[1;32m    731\u001b[0m \u001b[43m    \u001b[49m\u001b[43mengine\u001b[49m\u001b[38;5;241;43m=\u001b[39;49m\u001b[43mengine\u001b[49m\u001b[43m,\u001b[49m\n\u001b[1;32m    732\u001b[0m \u001b[43m    \u001b[49m\u001b[38;5;241;43m*\u001b[39;49m\u001b[38;5;241;43m*\u001b[39;49m\u001b[43mkwargs\u001b[49m\u001b[43m,\u001b[49m\n\u001b[1;32m    733\u001b[0m \u001b[43m\u001b[49m\u001b[43m)\u001b[49m\n",
      "File \u001b[0;32m~/miniforge3/envs/nersc2/lib/python3.11/site-packages/dask/base.py:866\u001b[0m, in \u001b[0;36mvisualize_dsk\u001b[0;34m(dsk, filename, traverse, optimize_graph, maxval, o, engine, limit, **kwargs)\u001b[0m\n\u001b[1;32m    864\u001b[0m     \u001b[38;5;28;01mreturn\u001b[39;00m cytoscape_graph(dsk, filename\u001b[38;5;241m=\u001b[39mfilename, \u001b[38;5;241m*\u001b[39m\u001b[38;5;241m*\u001b[39mkwargs)\n\u001b[1;32m    865\u001b[0m \u001b[38;5;28;01melif\u001b[39;00m engine \u001b[38;5;129;01mis\u001b[39;00m \u001b[38;5;28;01mNone\u001b[39;00m:\n\u001b[0;32m--> 866\u001b[0m     \u001b[38;5;28;01mraise\u001b[39;00m \u001b[38;5;167;01mRuntimeError\u001b[39;00m(\n\u001b[1;32m    867\u001b[0m         \u001b[38;5;124m\"\u001b[39m\u001b[38;5;124mNo visualization engine detected, please install graphviz or ipycytoscape\u001b[39m\u001b[38;5;124m\"\u001b[39m\n\u001b[1;32m    868\u001b[0m     )\n\u001b[1;32m    869\u001b[0m \u001b[38;5;28;01melse\u001b[39;00m:\n\u001b[1;32m    870\u001b[0m     \u001b[38;5;28;01mraise\u001b[39;00m \u001b[38;5;167;01mValueError\u001b[39;00m(\u001b[38;5;124mf\u001b[39m\u001b[38;5;124m\"\u001b[39m\u001b[38;5;124mVisualization engine \u001b[39m\u001b[38;5;132;01m{\u001b[39;00mengine\u001b[38;5;132;01m}\u001b[39;00m\u001b[38;5;124m not recognized\u001b[39m\u001b[38;5;124m\"\u001b[39m)\n",
      "\u001b[0;31mRuntimeError\u001b[0m: No visualization engine detected, please install graphviz or ipycytoscape"
     ]
    }
   ],
   "source": [
    "# Create a large Dask array and perform a simple computation\n",
    "array = da.random.random((10000, 10000), chunks=(1000, 1000))\n",
    "result = array.sum()\n",
    "\n",
    "# Trigger computation and print the result\n",
    "print(\"Computing the sum of a large random array...\")\n",
    "computed_result = result.compute()\n",
    "print(f\"Computed result: {computed_result}\")\n",
    "\n",
    "\n",
    "\n"
   ]
  },
  {
   "cell_type": "code",
   "execution_count": 10,
   "metadata": {},
   "outputs": [
    {
     "data": {
      "text/html": [
       "<table>\n",
       "    <tr>\n",
       "        <td>\n",
       "            <table style=\"border-collapse: collapse;\">\n",
       "                <thead>\n",
       "                    <tr>\n",
       "                        <td> </td>\n",
       "                        <th> Array </th>\n",
       "                        <th> Chunk </th>\n",
       "                    </tr>\n",
       "                </thead>\n",
       "                <tbody>\n",
       "                    \n",
       "                    <tr>\n",
       "                        <th> Bytes </th>\n",
       "                        <td> 39.06 kiB </td>\n",
       "                        <td> 3.91 kiB </td>\n",
       "                    </tr>\n",
       "                    \n",
       "                    <tr>\n",
       "                        <th> Shape </th>\n",
       "                        <td> (5000,) </td>\n",
       "                        <td> (500,) </td>\n",
       "                    </tr>\n",
       "                    <tr>\n",
       "                        <th> Dask graph </th>\n",
       "                        <td colspan=\"2\"> 10 chunks in 7 graph layers </td>\n",
       "                    </tr>\n",
       "                    <tr>\n",
       "                        <th> Data type </th>\n",
       "                        <td colspan=\"2\"> float64 numpy.ndarray </td>\n",
       "                    </tr>\n",
       "                </tbody>\n",
       "            </table>\n",
       "        </td>\n",
       "        <td>\n",
       "        <svg width=\"170\" height=\"75\" style=\"stroke:rgb(0,0,0);stroke-width:1\" >\n",
       "\n",
       "  <!-- Horizontal lines -->\n",
       "  <line x1=\"0\" y1=\"0\" x2=\"120\" y2=\"0\" style=\"stroke-width:2\" />\n",
       "  <line x1=\"0\" y1=\"25\" x2=\"120\" y2=\"25\" style=\"stroke-width:2\" />\n",
       "\n",
       "  <!-- Vertical lines -->\n",
       "  <line x1=\"0\" y1=\"0\" x2=\"0\" y2=\"25\" style=\"stroke-width:2\" />\n",
       "  <line x1=\"12\" y1=\"0\" x2=\"12\" y2=\"25\" />\n",
       "  <line x1=\"24\" y1=\"0\" x2=\"24\" y2=\"25\" />\n",
       "  <line x1=\"36\" y1=\"0\" x2=\"36\" y2=\"25\" />\n",
       "  <line x1=\"48\" y1=\"0\" x2=\"48\" y2=\"25\" />\n",
       "  <line x1=\"60\" y1=\"0\" x2=\"60\" y2=\"25\" />\n",
       "  <line x1=\"72\" y1=\"0\" x2=\"72\" y2=\"25\" />\n",
       "  <line x1=\"84\" y1=\"0\" x2=\"84\" y2=\"25\" />\n",
       "  <line x1=\"96\" y1=\"0\" x2=\"96\" y2=\"25\" />\n",
       "  <line x1=\"108\" y1=\"0\" x2=\"108\" y2=\"25\" />\n",
       "  <line x1=\"120\" y1=\"0\" x2=\"120\" y2=\"25\" style=\"stroke-width:2\" />\n",
       "\n",
       "  <!-- Colored Rectangle -->\n",
       "  <polygon points=\"0.0,0.0 120.0,0.0 120.0,25.412616514582485 0.0,25.412616514582485\" style=\"fill:#ECB172A0;stroke-width:0\"/>\n",
       "\n",
       "  <!-- Text -->\n",
       "  <text x=\"60.000000\" y=\"45.412617\" font-size=\"1.0rem\" font-weight=\"100\" text-anchor=\"middle\" >5000</text>\n",
       "  <text x=\"140.000000\" y=\"12.706308\" font-size=\"1.0rem\" font-weight=\"100\" text-anchor=\"middle\" transform=\"rotate(0,140.000000,12.706308)\">1</text>\n",
       "</svg>\n",
       "        </td>\n",
       "    </tr>\n",
       "</table>"
      ],
      "text/plain": [
       "dask.array<mean_agg-aggregate, shape=(5000,), dtype=float64, chunksize=(500,), chunktype=numpy.ndarray>"
      ]
     },
     "execution_count": 10,
     "metadata": {},
     "output_type": "execute_result"
    }
   ],
   "source": [
    "y = x + x.T\n",
    "z = y[::2, 5000:].mean(axis=1)\n",
    "z\n",
    "\n"
   ]
  },
  {
   "cell_type": "code",
   "execution_count": 11,
   "metadata": {},
   "outputs": [
    {
     "data": {
      "text/plain": [
       "array([1.00029359, 0.99788499, 0.99731301, ..., 0.99881135, 1.0054692 ,\n",
       "       1.00288365])"
      ]
     },
     "execution_count": 11,
     "metadata": {},
     "output_type": "execute_result"
    }
   ],
   "source": [
    "z.compute()\n"
   ]
  },
  {
   "cell_type": "code",
   "execution_count": 12,
   "metadata": {},
   "outputs": [
    {
     "name": "stdout",
     "output_type": "stream",
     "text": [
      "CPU times: user 4 μs, sys: 1e+03 ns, total: 5 μs\n",
      "Wall time: 9.78 μs\n",
      "CPU times: user 1 μs, sys: 1 μs, total: 2 μs\n",
      "Wall time: 3.81 μs\n"
     ]
    },
    {
     "data": {
      "text/plain": [
       "100001020.04862624"
      ]
     },
     "execution_count": 12,
     "metadata": {},
     "output_type": "execute_result"
    }
   ],
   "source": [
    "y = y.persist()\n",
    "%time\n",
    "y[0, 0].compute()\n",
    "\n",
    "\n",
    "%time\n",
    "y.sum().compute()"
   ]
  }
 ],
 "metadata": {
  "kernelspec": {
   "display_name": "nersc",
   "language": "python",
   "name": "python3"
  },
  "language_info": {
   "codemirror_mode": {
    "name": "ipython",
    "version": 3
   },
   "file_extension": ".py",
   "mimetype": "text/x-python",
   "name": "python",
   "nbconvert_exporter": "python",
   "pygments_lexer": "ipython3",
   "version": "3.11.7"
  }
 },
 "nbformat": 4,
 "nbformat_minor": 2
}
