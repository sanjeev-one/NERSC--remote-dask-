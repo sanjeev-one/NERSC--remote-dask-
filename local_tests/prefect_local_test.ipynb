{
 "cells": [
  {
   "cell_type": "code",
   "execution_count": 1,
   "metadata": {},
   "outputs": [
    {
     "name": "stdout",
     "output_type": "stream",
     "text": [
      "<Client: 'tcp://10.249.2.147:8786' processes=5 threads=1280, memory=2.33 TiB>\n",
      "Dask dashboard available at: http://localhost:8787/status\n"
     ]
    },
    {
     "name": "stderr",
     "output_type": "stream",
     "text": [
      "2024-11-19 17:45:57,031 - distributed.client - ERROR - Failed to reconnect to scheduler after 30.00 seconds, closing client\n"
     ]
    }
   ],
   "source": [
    "from dask.distributed import Client, progress\n",
    "# Connect to the Dask cluster\n",
    "client = Client('localhost:8786')\n",
    "\n",
    "# Display the client details\n",
    "print(client)\n",
    "\n",
    "# Optionally, print the dashboard link\n",
    "print(f\"Dask dashboard available at: {client.dashboard_link}\")\n"
   ]
  },
  {
   "cell_type": "code",
   "execution_count": 2,
   "metadata": {},
   "outputs": [
    {
     "data": {
      "text/html": [
       "<pre style=\"white-space:pre;overflow-x:auto;line-height:normal;font-family:Menlo,'DejaVu Sans Mono',consolas,'Courier New',monospace\">17:44:33.139 | <span style=\"color: #008080; text-decoration-color: #008080\">INFO</span>    | prefect - Starting temporary server on <span style=\"color: #0000ff; text-decoration-color: #0000ff\">http://127.0.0.1:8323</span>\n",
       "See <span style=\"color: #0000ff; text-decoration-color: #0000ff\">https://docs.prefect.io/3.0/manage/self-host#self-host-a-prefect-server</span> for more information on running a dedicated Prefect server.\n",
       "</pre>\n"
      ],
      "text/plain": [
       "17:44:33.139 | \u001b[36mINFO\u001b[0m    | prefect - Starting temporary server on \u001b[94mhttp://127.0.0.1:8323\u001b[0m\n",
       "See \u001b[94mhttps://docs.prefect.io/3.0/manage/self-host#self-host-a-prefect-server\u001b[0m for more information on running a dedicated Prefect server.\n"
      ]
     },
     "metadata": {},
     "output_type": "display_data"
    },
    {
     "data": {
      "text/html": [
       "<pre style=\"white-space:pre;overflow-x:auto;line-height:normal;font-family:Menlo,'DejaVu Sans Mono',consolas,'Courier New',monospace\">17:44:36.406 | <span style=\"color: #008080; text-decoration-color: #008080\">INFO</span>    | prefect.engine - Created flow run<span style=\"color: #800080; text-decoration-color: #800080\"> 'accelerated-nyala'</span> for flow<span style=\"color: #800080; text-decoration-color: #800080; font-weight: bold\"> 'parallel-workflow'</span>\n",
       "</pre>\n"
      ],
      "text/plain": [
       "17:44:36.406 | \u001b[36mINFO\u001b[0m    | prefect.engine - Created flow run\u001b[35m 'accelerated-nyala'\u001b[0m for flow\u001b[1;35m 'parallel-workflow'\u001b[0m\n"
      ]
     },
     "metadata": {},
     "output_type": "display_data"
    },
    {
     "data": {
      "text/html": [
       "<pre style=\"white-space:pre;overflow-x:auto;line-height:normal;font-family:Menlo,'DejaVu Sans Mono',consolas,'Courier New',monospace\">17:44:36.444 | <span style=\"color: #008080; text-decoration-color: #008080\">INFO</span>    | prefect.task_runner.dask - Connecting to an existing Dask cluster at tcp://localhost:8786\n",
       "</pre>\n"
      ],
      "text/plain": [
       "17:44:36.444 | \u001b[36mINFO\u001b[0m    | prefect.task_runner.dask - Connecting to an existing Dask cluster at tcp://localhost:8786\n"
      ]
     },
     "metadata": {},
     "output_type": "display_data"
    },
    {
     "data": {
      "text/html": [
       "<pre style=\"white-space:pre;overflow-x:auto;line-height:normal;font-family:Menlo,'DejaVu Sans Mono',consolas,'Courier New',monospace\">17:44:38.304 | <span style=\"color: #d7d700; text-decoration-color: #d7d700\">WARNING</span> | Flow run<span style=\"color: #800080; text-decoration-color: #800080\"> 'accelerated-nyala'</span> - A future was garbage collected before it resolved. Please call `.wait()` or `.result()` on futures to ensure they resolve.\n",
       "</pre>\n"
      ],
      "text/plain": [
       "17:44:38.304 | \u001b[38;5;184mWARNING\u001b[0m | Flow run\u001b[35m 'accelerated-nyala'\u001b[0m - A future was garbage collected before it resolved. Please call `.wait()` or `.result()` on futures to ensure they resolve.\n"
      ]
     },
     "metadata": {},
     "output_type": "display_data"
    },
    {
     "data": {
      "text/html": [
       "<pre style=\"white-space:pre;overflow-x:auto;line-height:normal;font-family:Menlo,'DejaVu Sans Mono',consolas,'Courier New',monospace\">17:44:38.306 | <span style=\"color: #d7d700; text-decoration-color: #d7d700\">WARNING</span> | Flow run<span style=\"color: #800080; text-decoration-color: #800080\"> 'accelerated-nyala'</span> - A future was garbage collected before it resolved. Please call `.wait()` or `.result()` on futures to ensure they resolve.\n",
       "</pre>\n"
      ],
      "text/plain": [
       "17:44:38.306 | \u001b[38;5;184mWARNING\u001b[0m | Flow run\u001b[35m 'accelerated-nyala'\u001b[0m - A future was garbage collected before it resolved. Please call `.wait()` or `.result()` on futures to ensure they resolve.\n"
      ]
     },
     "metadata": {},
     "output_type": "display_data"
    },
    {
     "data": {
      "text/html": [
       "<pre style=\"white-space:pre;overflow-x:auto;line-height:normal;font-family:Menlo,'DejaVu Sans Mono',consolas,'Courier New',monospace\">17:44:38.307 | <span style=\"color: #d7d700; text-decoration-color: #d7d700\">WARNING</span> | Flow run<span style=\"color: #800080; text-decoration-color: #800080\"> 'accelerated-nyala'</span> - A future was garbage collected before it resolved. Please call `.wait()` or `.result()` on futures to ensure they resolve.\n",
       "</pre>\n"
      ],
      "text/plain": [
       "17:44:38.307 | \u001b[38;5;184mWARNING\u001b[0m | Flow run\u001b[35m 'accelerated-nyala'\u001b[0m - A future was garbage collected before it resolved. Please call `.wait()` or `.result()` on futures to ensure they resolve.\n"
      ]
     },
     "metadata": {},
     "output_type": "display_data"
    },
    {
     "data": {
      "text/html": [
       "<pre style=\"white-space:pre;overflow-x:auto;line-height:normal;font-family:Menlo,'DejaVu Sans Mono',consolas,'Courier New',monospace\">17:44:38.308 | <span style=\"color: #d7d700; text-decoration-color: #d7d700\">WARNING</span> | Flow run<span style=\"color: #800080; text-decoration-color: #800080\"> 'accelerated-nyala'</span> - A future was garbage collected before it resolved. Please call `.wait()` or `.result()` on futures to ensure they resolve.\n",
       "</pre>\n"
      ],
      "text/plain": [
       "17:44:38.308 | \u001b[38;5;184mWARNING\u001b[0m | Flow run\u001b[35m 'accelerated-nyala'\u001b[0m - A future was garbage collected before it resolved. Please call `.wait()` or `.result()` on futures to ensure they resolve.\n"
      ]
     },
     "metadata": {},
     "output_type": "display_data"
    },
    {
     "data": {
      "text/html": [
       "<pre style=\"white-space:pre;overflow-x:auto;line-height:normal;font-family:Menlo,'DejaVu Sans Mono',consolas,'Courier New',monospace\">17:44:38.309 | <span style=\"color: #d7d700; text-decoration-color: #d7d700\">WARNING</span> | Flow run<span style=\"color: #800080; text-decoration-color: #800080\"> 'accelerated-nyala'</span> - A future was garbage collected before it resolved. Please call `.wait()` or `.result()` on futures to ensure they resolve.\n",
       "</pre>\n"
      ],
      "text/plain": [
       "17:44:38.309 | \u001b[38;5;184mWARNING\u001b[0m | Flow run\u001b[35m 'accelerated-nyala'\u001b[0m - A future was garbage collected before it resolved. Please call `.wait()` or `.result()` on futures to ensure they resolve.\n"
      ]
     },
     "metadata": {},
     "output_type": "display_data"
    },
    {
     "data": {
      "text/html": [
       "<pre style=\"white-space:pre;overflow-x:auto;line-height:normal;font-family:Menlo,'DejaVu Sans Mono',consolas,'Courier New',monospace\">17:44:38.310 | <span style=\"color: #d7d700; text-decoration-color: #d7d700\">WARNING</span> | Flow run<span style=\"color: #800080; text-decoration-color: #800080\"> 'accelerated-nyala'</span> - A future was garbage collected before it resolved. Please call `.wait()` or `.result()` on futures to ensure they resolve.\n",
       "</pre>\n"
      ],
      "text/plain": [
       "17:44:38.310 | \u001b[38;5;184mWARNING\u001b[0m | Flow run\u001b[35m 'accelerated-nyala'\u001b[0m - A future was garbage collected before it resolved. Please call `.wait()` or `.result()` on futures to ensure they resolve.\n"
      ]
     },
     "metadata": {},
     "output_type": "display_data"
    },
    {
     "data": {
      "text/html": [
       "<pre style=\"white-space:pre;overflow-x:auto;line-height:normal;font-family:Menlo,'DejaVu Sans Mono',consolas,'Courier New',monospace\">17:44:38.310 | <span style=\"color: #d7d700; text-decoration-color: #d7d700\">WARNING</span> | Flow run<span style=\"color: #800080; text-decoration-color: #800080\"> 'accelerated-nyala'</span> - A future was garbage collected before it resolved. Please call `.wait()` or `.result()` on futures to ensure they resolve.\n",
       "</pre>\n"
      ],
      "text/plain": [
       "17:44:38.310 | \u001b[38;5;184mWARNING\u001b[0m | Flow run\u001b[35m 'accelerated-nyala'\u001b[0m - A future was garbage collected before it resolved. Please call `.wait()` or `.result()` on futures to ensure they resolve.\n"
      ]
     },
     "metadata": {},
     "output_type": "display_data"
    },
    {
     "data": {
      "text/html": [
       "<pre style=\"white-space:pre;overflow-x:auto;line-height:normal;font-family:Menlo,'DejaVu Sans Mono',consolas,'Courier New',monospace\">17:44:38.311 | <span style=\"color: #d7d700; text-decoration-color: #d7d700\">WARNING</span> | Flow run<span style=\"color: #800080; text-decoration-color: #800080\"> 'accelerated-nyala'</span> - A future was garbage collected before it resolved. Please call `.wait()` or `.result()` on futures to ensure they resolve.\n",
       "</pre>\n"
      ],
      "text/plain": [
       "17:44:38.311 | \u001b[38;5;184mWARNING\u001b[0m | Flow run\u001b[35m 'accelerated-nyala'\u001b[0m - A future was garbage collected before it resolved. Please call `.wait()` or `.result()` on futures to ensure they resolve.\n"
      ]
     },
     "metadata": {},
     "output_type": "display_data"
    },
    {
     "data": {
      "text/html": [
       "<pre style=\"white-space:pre;overflow-x:auto;line-height:normal;font-family:Menlo,'DejaVu Sans Mono',consolas,'Courier New',monospace\">17:44:38.312 | <span style=\"color: #d7d700; text-decoration-color: #d7d700\">WARNING</span> | Flow run<span style=\"color: #800080; text-decoration-color: #800080\"> 'accelerated-nyala'</span> - A future was garbage collected before it resolved. Please call `.wait()` or `.result()` on futures to ensure they resolve.\n",
       "</pre>\n"
      ],
      "text/plain": [
       "17:44:38.312 | \u001b[38;5;184mWARNING\u001b[0m | Flow run\u001b[35m 'accelerated-nyala'\u001b[0m - A future was garbage collected before it resolved. Please call `.wait()` or `.result()` on futures to ensure they resolve.\n"
      ]
     },
     "metadata": {},
     "output_type": "display_data"
    },
    {
     "data": {
      "text/html": [
       "<pre style=\"white-space:pre;overflow-x:auto;line-height:normal;font-family:Menlo,'DejaVu Sans Mono',consolas,'Courier New',monospace\">17:44:38.313 | <span style=\"color: #d7d700; text-decoration-color: #d7d700\">WARNING</span> | Flow run<span style=\"color: #800080; text-decoration-color: #800080\"> 'accelerated-nyala'</span> - A future was garbage collected before it resolved. Please call `.wait()` or `.result()` on futures to ensure they resolve.\n",
       "</pre>\n"
      ],
      "text/plain": [
       "17:44:38.313 | \u001b[38;5;184mWARNING\u001b[0m | Flow run\u001b[35m 'accelerated-nyala'\u001b[0m - A future was garbage collected before it resolved. Please call `.wait()` or `.result()` on futures to ensure they resolve.\n"
      ]
     },
     "metadata": {},
     "output_type": "display_data"
    },
    {
     "data": {
      "text/html": [
       "<pre style=\"white-space:pre;overflow-x:auto;line-height:normal;font-family:Menlo,'DejaVu Sans Mono',consolas,'Courier New',monospace\">17:44:38.314 | <span style=\"color: #d7d700; text-decoration-color: #d7d700\">WARNING</span> | Flow run<span style=\"color: #800080; text-decoration-color: #800080\"> 'accelerated-nyala'</span> - A future was garbage collected before it resolved. Please call `.wait()` or `.result()` on futures to ensure they resolve.\n",
       "</pre>\n"
      ],
      "text/plain": [
       "17:44:38.314 | \u001b[38;5;184mWARNING\u001b[0m | Flow run\u001b[35m 'accelerated-nyala'\u001b[0m - A future was garbage collected before it resolved. Please call `.wait()` or `.result()` on futures to ensure they resolve.\n"
      ]
     },
     "metadata": {},
     "output_type": "display_data"
    },
    {
     "data": {
      "text/html": [
       "<pre style=\"white-space:pre;overflow-x:auto;line-height:normal;font-family:Menlo,'DejaVu Sans Mono',consolas,'Courier New',monospace\">17:44:38.315 | <span style=\"color: #d7d700; text-decoration-color: #d7d700\">WARNING</span> | Flow run<span style=\"color: #800080; text-decoration-color: #800080\"> 'accelerated-nyala'</span> - A future was garbage collected before it resolved. Please call `.wait()` or `.result()` on futures to ensure they resolve.\n",
       "</pre>\n"
      ],
      "text/plain": [
       "17:44:38.315 | \u001b[38;5;184mWARNING\u001b[0m | Flow run\u001b[35m 'accelerated-nyala'\u001b[0m - A future was garbage collected before it resolved. Please call `.wait()` or `.result()` on futures to ensure they resolve.\n"
      ]
     },
     "metadata": {},
     "output_type": "display_data"
    },
    {
     "data": {
      "text/html": [
       "<pre style=\"white-space:pre;overflow-x:auto;line-height:normal;font-family:Menlo,'DejaVu Sans Mono',consolas,'Courier New',monospace\">17:44:38.444 | <span style=\"color: #008080; text-decoration-color: #008080\">INFO</span>    | Flow run<span style=\"color: #800080; text-decoration-color: #800080\"> 'accelerated-nyala'</span> - Finished in state <span style=\"color: #008000; text-decoration-color: #008000\">Completed</span>()\n",
       "</pre>\n"
      ],
      "text/plain": [
       "17:44:38.444 | \u001b[36mINFO\u001b[0m    | Flow run\u001b[35m 'accelerated-nyala'\u001b[0m - Finished in state \u001b[32mCompleted\u001b[0m()\n"
      ]
     },
     "metadata": {},
     "output_type": "display_data"
    }
   ],
   "source": [
    "\n",
    "from prefect import flow, task\n",
    "from prefect_dask import DaskTaskRunner\n",
    "\n",
    "\n",
    "#only works when running on slac ip\n",
    "# prefect config set PREFECT_API_URL=\"https://ard-modeling-service.slac.stanford.edu/api\" \n",
    "\n",
    "# Define tasks\n",
    "@task\n",
    "def fetch_data(dataset: str) -> str:\n",
    "    \"\"\"\n",
    "    Simulate fetching data for a given dataset.\n",
    "    \"\"\"\n",
    "    print(f\"Fetching data for {dataset}\")\n",
    "    return f\"data_{dataset}\"\n",
    "\n",
    "@task\n",
    "def process_data(data: str) -> str:\n",
    "    \"\"\"\n",
    "    Simulate processing of data.\n",
    "    \"\"\"\n",
    "    print(f\"Processing {data}\")\n",
    "    return f\"processed_{data}\"\n",
    "\n",
    "@task\n",
    "def save_results(result: str) -> None:\n",
    "    \"\"\"\n",
    "    Simulate saving processed data.\n",
    "    \"\"\"\n",
    "    print(f\"Saving {result}\")\n",
    "\n",
    "# Define flow\n",
    "@flow(task_runner=DaskTaskRunner(address=\"tcp://localhost:8786\"))\n",
    "def parallel_workflow(datasets: list):\n",
    "    \"\"\"\n",
    "    A workflow that fetches, processes, and saves datasets in parallel.\n",
    "    \"\"\"\n",
    "    # Fetch data in parallel\n",
    "    raw_data = [fetch_data.submit(dataset) for dataset in datasets]\n",
    "    \n",
    "    # Process data in parallel\n",
    "    processed_data = [process_data.submit(data) for data in raw_data]\n",
    "    \n",
    "    # Save results in parallel\n",
    "    [save_results.submit(result) for result in processed_data]\n",
    "\n",
    "# List of datasets\n",
    "datasets = [\"dataset1\", \"dataset2\", \"dataset3\", \"dataset4\"]\n",
    "\n",
    "# Run the workflow\n",
    "parallel_workflow(datasets)"
   ]
  },
  {
   "cell_type": "code",
   "execution_count": 3,
   "metadata": {},
   "outputs": [
    {
     "data": {
      "text/html": [
       "<pre style=\"white-space:pre;overflow-x:auto;line-height:normal;font-family:Menlo,'DejaVu Sans Mono',consolas,'Courier New',monospace\">17:44:38.495 | <span style=\"color: #008080; text-decoration-color: #008080\">INFO</span>    | prefect.engine - Created flow run<span style=\"color: #800080; text-decoration-color: #800080\"> 'dramatic-reindeer'</span> for flow<span style=\"color: #800080; text-decoration-color: #800080; font-weight: bold\"> 'dask-flow'</span>\n",
       "</pre>\n"
      ],
      "text/plain": [
       "17:44:38.495 | \u001b[36mINFO\u001b[0m    | prefect.engine - Created flow run\u001b[35m 'dramatic-reindeer'\u001b[0m for flow\u001b[1;35m 'dask-flow'\u001b[0m\n"
      ]
     },
     "metadata": {},
     "output_type": "display_data"
    },
    {
     "data": {
      "text/html": [
       "<pre style=\"white-space:pre;overflow-x:auto;line-height:normal;font-family:Menlo,'DejaVu Sans Mono',consolas,'Courier New',monospace\">17:44:38.525 | <span style=\"color: #008080; text-decoration-color: #008080\">INFO</span>    | prefect.task_runner.dask - Connecting to an existing Dask cluster at tcp://localhost:8786\n",
       "</pre>\n"
      ],
      "text/plain": [
       "17:44:38.525 | \u001b[36mINFO\u001b[0m    | prefect.task_runner.dask - Connecting to an existing Dask cluster at tcp://localhost:8786\n"
      ]
     },
     "metadata": {},
     "output_type": "display_data"
    },
    {
     "data": {
      "text/html": [
       "<pre style=\"white-space:pre;overflow-x:auto;line-height:normal;font-family:Menlo,'DejaVu Sans Mono',consolas,'Courier New',monospace\">17:44:40.830 | <span style=\"color: #d70000; text-decoration-color: #d70000\">ERROR</span>   | Flow run<span style=\"color: #800080; text-decoration-color: #800080\"> 'dramatic-reindeer'</span> - Encountered exception during execution: RuntimeError('Found incompatible versions: client: 3.1.2, server: 2.14.2. Major versions must match.')\n",
       "Traceback (most recent call last):\n",
       "  File \"/Users/sanjeevchauhan/miniforge3/envs/local/lib/python3.11/site-packages/prefect/flow_engine.py\", line 655, in run_context\n",
       "    yield self\n",
       "  File \"/Users/sanjeevchauhan/miniforge3/envs/local/lib/python3.11/site-packages/prefect/flow_engine.py\", line 699, in run_flow_sync\n",
       "    engine.call_flow_fn()\n",
       "  File \"/Users/sanjeevchauhan/miniforge3/envs/local/lib/python3.11/site-packages/prefect/flow_engine.py\", line 678, in call_flow_fn\n",
       "    result = call_with_parameters(self.flow.fn, self.parameters)\n",
       "             ^^^^^^^^^^^^^^^^^^^^^^^^^^^^^^^^^^^^^^^^^^^^^^^^^^^\n",
       "  File \"/Users/sanjeevchauhan/miniforge3/envs/local/lib/python3.11/site-packages/prefect/utilities/callables.py\", line 206, in call_with_parameters\n",
       "    return fn(*args, **kwargs)\n",
       "           ^^^^^^^^^^^^^^^^^^^\n",
       "  File \"/var/folders/mb/7p627zbj11v_2ym8j0sj95tw0000gn/T/ipykernel_82929/2766255537.py\", line 15, in dask_flow\n",
       "    return prefect_future.result()\n",
       "           ^^^^^^^^^^^^^^^^^^^^^^^\n",
       "  File \"/Users/sanjeevchauhan/miniforge3/envs/local/lib/python3.11/site-packages/prefect_dask/task_runners.py\", line 132, in result\n",
       "    future_result = self._wrapped_future.result(timeout=timeout)\n",
       "                    ^^^^^^^^^^^^^^^^^^^^^^^^^^^^^^^^^^^^^^^^^^^^\n",
       "  File \"/Users/sanjeevchauhan/miniforge3/envs/local/lib/python3.11/site-packages/distributed/client.py\", line 322, in result\n",
       "    return self.client.sync(self._result, callback_timeout=timeout)\n",
       "           ^^^^^^^^^^^^^^^^^^^^^^^^^^^^^^^^^^^^^^^^^^^^^^^^^^^^^^^^\n",
       "  File \"/Users/sanjeevchauhan/miniforge3/envs/local/lib/python3.11/site-packages/prefect_dask/client.py\", line 62, in wrapper_func\n",
       "    return run_task_sync(*args, **kwargs)\n",
       "    ^^^^^^^^^^^^^^^^^\n",
       "  File \"/global/homes/s/sanjeevc/.conda/envs/sfapi_dask_env/lib/python3.11/site-packages/prefect/task_engine.py\", line 1333, in run_task_sync\n",
       "  File \"/global/homes/s/sanjeevc/.conda/envs/sfapi_dask_env/lib/python3.11/contextlib.py\", line 137, in __enter__\n",
       "  File \"/global/homes/s/sanjeevc/.conda/envs/sfapi_dask_env/lib/python3.11/site-packages/prefect/task_engine.py\", line 732, in start\n",
       "  File \"/global/homes/s/sanjeevc/.conda/envs/sfapi_dask_env/lib/python3.11/contextlib.py\", line 137, in __enter__\n",
       "  File \"/global/homes/s/sanjeevc/.conda/envs/sfapi_dask_env/lib/python3.11/site-packages/prefect/task_engine.py\", line 655, in initialize_run\n",
       "  File \"/global/homes/s/sanjeevc/.conda/envs/sfapi_dask_env/lib/python3.11/contextlib.py\", line 137, in __enter__\n",
       "  File \"/global/homes/s/sanjeevc/.conda/envs/sfapi_dask_env/lib/python3.11/site-packages/prefect/context.py\", line 236, in get_or_create\n",
       "  File \"/global/homes/s/sanjeevc/.conda/envs/sfapi_dask_env/lib/python3.11/site-packages/prefect/context.py\", line 218, in __enter__\n",
       "  File \"/global/homes/s/sanjeevc/.conda/envs/sfapi_dask_env/lib/python3.11/site-packages/prefect/client/orchestration.py\", line 3744, in raise_for_api_version_mismatch\n",
       "RuntimeError: Found incompatible versions: client: 3.1.2, server: 2.14.2. Major versions must match.\n",
       "</pre>\n"
      ],
      "text/plain": [
       "17:44:40.830 | \u001b[38;5;160mERROR\u001b[0m   | Flow run\u001b[35m 'dramatic-reindeer'\u001b[0m - Encountered exception during execution: RuntimeError('Found incompatible versions: client: 3.1.2, server: 2.14.2. Major versions must match.')\n",
       "Traceback (most recent call last):\n",
       "  File \"/Users/sanjeevchauhan/miniforge3/envs/local/lib/python3.11/site-packages/prefect/flow_engine.py\", line 655, in run_context\n",
       "    yield self\n",
       "  File \"/Users/sanjeevchauhan/miniforge3/envs/local/lib/python3.11/site-packages/prefect/flow_engine.py\", line 699, in run_flow_sync\n",
       "    engine.call_flow_fn()\n",
       "  File \"/Users/sanjeevchauhan/miniforge3/envs/local/lib/python3.11/site-packages/prefect/flow_engine.py\", line 678, in call_flow_fn\n",
       "    result = call_with_parameters(self.flow.fn, self.parameters)\n",
       "             ^^^^^^^^^^^^^^^^^^^^^^^^^^^^^^^^^^^^^^^^^^^^^^^^^^^\n",
       "  File \"/Users/sanjeevchauhan/miniforge3/envs/local/lib/python3.11/site-packages/prefect/utilities/callables.py\", line 206, in call_with_parameters\n",
       "    return fn(*args, **kwargs)\n",
       "           ^^^^^^^^^^^^^^^^^^^\n",
       "  File \"/var/folders/mb/7p627zbj11v_2ym8j0sj95tw0000gn/T/ipykernel_82929/2766255537.py\", line 15, in dask_flow\n",
       "    return prefect_future.result()\n",
       "           ^^^^^^^^^^^^^^^^^^^^^^^\n",
       "  File \"/Users/sanjeevchauhan/miniforge3/envs/local/lib/python3.11/site-packages/prefect_dask/task_runners.py\", line 132, in result\n",
       "    future_result = self._wrapped_future.result(timeout=timeout)\n",
       "                    ^^^^^^^^^^^^^^^^^^^^^^^^^^^^^^^^^^^^^^^^^^^^\n",
       "  File \"/Users/sanjeevchauhan/miniforge3/envs/local/lib/python3.11/site-packages/distributed/client.py\", line 322, in result\n",
       "    return self.client.sync(self._result, callback_timeout=timeout)\n",
       "           ^^^^^^^^^^^^^^^^^^^^^^^^^^^^^^^^^^^^^^^^^^^^^^^^^^^^^^^^\n",
       "  File \"/Users/sanjeevchauhan/miniforge3/envs/local/lib/python3.11/site-packages/prefect_dask/client.py\", line 62, in wrapper_func\n",
       "    return run_task_sync(*args, **kwargs)\n",
       "    ^^^^^^^^^^^^^^^^^\n",
       "  File \"/global/homes/s/sanjeevc/.conda/envs/sfapi_dask_env/lib/python3.11/site-packages/prefect/task_engine.py\", line 1333, in run_task_sync\n",
       "  File \"/global/homes/s/sanjeevc/.conda/envs/sfapi_dask_env/lib/python3.11/contextlib.py\", line 137, in __enter__\n",
       "  File \"/global/homes/s/sanjeevc/.conda/envs/sfapi_dask_env/lib/python3.11/site-packages/prefect/task_engine.py\", line 732, in start\n",
       "  File \"/global/homes/s/sanjeevc/.conda/envs/sfapi_dask_env/lib/python3.11/contextlib.py\", line 137, in __enter__\n",
       "  File \"/global/homes/s/sanjeevc/.conda/envs/sfapi_dask_env/lib/python3.11/site-packages/prefect/task_engine.py\", line 655, in initialize_run\n",
       "  File \"/global/homes/s/sanjeevc/.conda/envs/sfapi_dask_env/lib/python3.11/contextlib.py\", line 137, in __enter__\n",
       "  File \"/global/homes/s/sanjeevc/.conda/envs/sfapi_dask_env/lib/python3.11/site-packages/prefect/context.py\", line 236, in get_or_create\n",
       "  File \"/global/homes/s/sanjeevc/.conda/envs/sfapi_dask_env/lib/python3.11/site-packages/prefect/context.py\", line 218, in __enter__\n",
       "  File \"/global/homes/s/sanjeevc/.conda/envs/sfapi_dask_env/lib/python3.11/site-packages/prefect/client/orchestration.py\", line 3744, in raise_for_api_version_mismatch\n",
       "RuntimeError: Found incompatible versions: client: 3.1.2, server: 2.14.2. Major versions must match.\n"
      ]
     },
     "metadata": {},
     "output_type": "display_data"
    },
    {
     "data": {
      "text/html": [
       "<pre style=\"white-space:pre;overflow-x:auto;line-height:normal;font-family:Menlo,'DejaVu Sans Mono',consolas,'Courier New',monospace\">17:44:40.979 | <span style=\"color: #d70000; text-decoration-color: #d70000\">ERROR</span>   | Flow run<span style=\"color: #800080; text-decoration-color: #800080\"> 'dramatic-reindeer'</span> - Finished in state <span style=\"color: #d70000; text-decoration-color: #d70000\">Failed</span>('Flow run encountered an exception: RuntimeError: Found incompatible versions: client: 3.1.2, server: 2.14.2. Major versions must match.')\n",
       "</pre>\n"
      ],
      "text/plain": [
       "17:44:40.979 | \u001b[38;5;160mERROR\u001b[0m   | Flow run\u001b[35m 'dramatic-reindeer'\u001b[0m - Finished in state \u001b[38;5;160mFailed\u001b[0m('Flow run encountered an exception: RuntimeError: Found incompatible versions: client: 3.1.2, server: 2.14.2. Major versions must match.')\n"
      ]
     },
     "metadata": {},
     "output_type": "display_data"
    },
    {
     "ename": "RuntimeError",
     "evalue": "Found incompatible versions: client: 3.1.2, server: 2.14.2. Major versions must match.",
     "output_type": "error",
     "traceback": [
      "\u001b[0;31m---------------------------------------------------------------------------\u001b[0m",
      "\u001b[0;31mRuntimeError\u001b[0m                              Traceback (most recent call last)",
      "Cell \u001b[0;32mIn[3], line 17\u001b[0m\n\u001b[1;32m     14\u001b[0m     prefect_future \u001b[38;5;241m=\u001b[39m compute_task\u001b[38;5;241m.\u001b[39msubmit()\n\u001b[1;32m     15\u001b[0m     \u001b[38;5;28;01mreturn\u001b[39;00m prefect_future\u001b[38;5;241m.\u001b[39mresult()\n\u001b[0;32m---> 17\u001b[0m \u001b[43mdask_flow\u001b[49m\u001b[43m(\u001b[49m\u001b[43m)\u001b[49m\n",
      "File \u001b[0;32m~/miniforge3/envs/local/lib/python3.11/site-packages/prefect/flows.py:1355\u001b[0m, in \u001b[0;36mFlow.__call__\u001b[0;34m(self, return_state, wait_for, *args, **kwargs)\u001b[0m\n\u001b[1;32m   1351\u001b[0m     \u001b[38;5;28;01mreturn\u001b[39;00m track_viz_task(\u001b[38;5;28mself\u001b[39m\u001b[38;5;241m.\u001b[39misasync, \u001b[38;5;28mself\u001b[39m\u001b[38;5;241m.\u001b[39mname, parameters)\n\u001b[1;32m   1353\u001b[0m \u001b[38;5;28;01mfrom\u001b[39;00m \u001b[38;5;21;01mprefect\u001b[39;00m\u001b[38;5;21;01m.\u001b[39;00m\u001b[38;5;21;01mflow_engine\u001b[39;00m \u001b[38;5;28;01mimport\u001b[39;00m run_flow\n\u001b[0;32m-> 1355\u001b[0m \u001b[38;5;28;01mreturn\u001b[39;00m \u001b[43mrun_flow\u001b[49m\u001b[43m(\u001b[49m\n\u001b[1;32m   1356\u001b[0m \u001b[43m    \u001b[49m\u001b[43mflow\u001b[49m\u001b[38;5;241;43m=\u001b[39;49m\u001b[38;5;28;43mself\u001b[39;49m\u001b[43m,\u001b[49m\n\u001b[1;32m   1357\u001b[0m \u001b[43m    \u001b[49m\u001b[43mparameters\u001b[49m\u001b[38;5;241;43m=\u001b[39;49m\u001b[43mparameters\u001b[49m\u001b[43m,\u001b[49m\n\u001b[1;32m   1358\u001b[0m \u001b[43m    \u001b[49m\u001b[43mwait_for\u001b[49m\u001b[38;5;241;43m=\u001b[39;49m\u001b[43mwait_for\u001b[49m\u001b[43m,\u001b[49m\n\u001b[1;32m   1359\u001b[0m \u001b[43m    \u001b[49m\u001b[43mreturn_type\u001b[49m\u001b[38;5;241;43m=\u001b[39;49m\u001b[43mreturn_type\u001b[49m\u001b[43m,\u001b[49m\n\u001b[1;32m   1360\u001b[0m \u001b[43m\u001b[49m\u001b[43m)\u001b[49m\n",
      "File \u001b[0;32m~/miniforge3/envs/local/lib/python3.11/site-packages/prefect/flow_engine.py:821\u001b[0m, in \u001b[0;36mrun_flow\u001b[0;34m(flow, flow_run, parameters, wait_for, return_type)\u001b[0m\n\u001b[1;32m    819\u001b[0m     \u001b[38;5;28;01mreturn\u001b[39;00m run_flow_async(\u001b[38;5;241m*\u001b[39m\u001b[38;5;241m*\u001b[39mkwargs)\n\u001b[1;32m    820\u001b[0m \u001b[38;5;28;01melse\u001b[39;00m:\n\u001b[0;32m--> 821\u001b[0m     \u001b[38;5;28;01mreturn\u001b[39;00m \u001b[43mrun_flow_sync\u001b[49m\u001b[43m(\u001b[49m\u001b[38;5;241;43m*\u001b[39;49m\u001b[38;5;241;43m*\u001b[39;49m\u001b[43mkwargs\u001b[49m\u001b[43m)\u001b[49m\n",
      "File \u001b[0;32m~/miniforge3/envs/local/lib/python3.11/site-packages/prefect/flow_engine.py:701\u001b[0m, in \u001b[0;36mrun_flow_sync\u001b[0;34m(flow, flow_run, parameters, wait_for, return_type)\u001b[0m\n\u001b[1;32m    698\u001b[0m         \u001b[38;5;28;01mwith\u001b[39;00m engine\u001b[38;5;241m.\u001b[39mrun_context():\n\u001b[1;32m    699\u001b[0m             engine\u001b[38;5;241m.\u001b[39mcall_flow_fn()\n\u001b[0;32m--> 701\u001b[0m \u001b[38;5;28;01mreturn\u001b[39;00m engine\u001b[38;5;241m.\u001b[39mstate \u001b[38;5;28;01mif\u001b[39;00m return_type \u001b[38;5;241m==\u001b[39m \u001b[38;5;124m\"\u001b[39m\u001b[38;5;124mstate\u001b[39m\u001b[38;5;124m\"\u001b[39m \u001b[38;5;28;01melse\u001b[39;00m \u001b[43mengine\u001b[49m\u001b[38;5;241;43m.\u001b[39;49m\u001b[43mresult\u001b[49m\u001b[43m(\u001b[49m\u001b[43m)\u001b[49m\n",
      "File \u001b[0;32m~/miniforge3/envs/local/lib/python3.11/site-packages/prefect/flow_engine.py:255\u001b[0m, in \u001b[0;36mFlowRunEngine.result\u001b[0;34m(self, raise_on_failure)\u001b[0m\n\u001b[1;32m    253\u001b[0m \u001b[38;5;28;01mif\u001b[39;00m \u001b[38;5;28mself\u001b[39m\u001b[38;5;241m.\u001b[39m_raised \u001b[38;5;129;01mis\u001b[39;00m \u001b[38;5;129;01mnot\u001b[39;00m NotSet:\n\u001b[1;32m    254\u001b[0m     \u001b[38;5;28;01mif\u001b[39;00m raise_on_failure:\n\u001b[0;32m--> 255\u001b[0m         \u001b[38;5;28;01mraise\u001b[39;00m \u001b[38;5;28mself\u001b[39m\u001b[38;5;241m.\u001b[39m_raised\n\u001b[1;32m    256\u001b[0m     \u001b[38;5;28;01mreturn\u001b[39;00m \u001b[38;5;28mself\u001b[39m\u001b[38;5;241m.\u001b[39m_raised\n\u001b[1;32m    258\u001b[0m \u001b[38;5;66;03m# This is a fall through case which leans on the existing state result mechanics to get the\u001b[39;00m\n\u001b[1;32m    259\u001b[0m \u001b[38;5;66;03m# return value. This is necessary because we currently will return a State object if the\u001b[39;00m\n\u001b[1;32m    260\u001b[0m \u001b[38;5;66;03m# the State was Prefect-created.\u001b[39;00m\n\u001b[1;32m    261\u001b[0m \u001b[38;5;66;03m# TODO: Remove the need to get the result from a State except in cases where the return value\u001b[39;00m\n\u001b[1;32m    262\u001b[0m \u001b[38;5;66;03m# is a State object.\u001b[39;00m\n",
      "File \u001b[0;32m~/miniforge3/envs/local/lib/python3.11/site-packages/prefect/flow_engine.py:655\u001b[0m, in \u001b[0;36mFlowRunEngine.run_context\u001b[0;34m(self)\u001b[0m\n\u001b[1;32m    648\u001b[0m     \u001b[38;5;28;01mwith\u001b[39;00m timeout_context(\n\u001b[1;32m    649\u001b[0m         seconds\u001b[38;5;241m=\u001b[39m\u001b[38;5;28mself\u001b[39m\u001b[38;5;241m.\u001b[39mflow\u001b[38;5;241m.\u001b[39mtimeout_seconds,\n\u001b[1;32m    650\u001b[0m         timeout_exc_type\u001b[38;5;241m=\u001b[39mFlowRunTimeoutError,\n\u001b[1;32m    651\u001b[0m     ):\n\u001b[1;32m    652\u001b[0m         \u001b[38;5;28mself\u001b[39m\u001b[38;5;241m.\u001b[39mlogger\u001b[38;5;241m.\u001b[39mdebug(\n\u001b[1;32m    653\u001b[0m             \u001b[38;5;124mf\u001b[39m\u001b[38;5;124m\"\u001b[39m\u001b[38;5;124mExecuting flow \u001b[39m\u001b[38;5;132;01m{\u001b[39;00m\u001b[38;5;28mself\u001b[39m\u001b[38;5;241m.\u001b[39mflow\u001b[38;5;241m.\u001b[39mname\u001b[38;5;132;01m!r}\u001b[39;00m\u001b[38;5;124m for flow run \u001b[39m\u001b[38;5;132;01m{\u001b[39;00m\u001b[38;5;28mself\u001b[39m\u001b[38;5;241m.\u001b[39mflow_run\u001b[38;5;241m.\u001b[39mname\u001b[38;5;132;01m!r}\u001b[39;00m\u001b[38;5;124m...\u001b[39m\u001b[38;5;124m\"\u001b[39m\n\u001b[1;32m    654\u001b[0m         )\n\u001b[0;32m--> 655\u001b[0m         \u001b[38;5;28;01myield\u001b[39;00m \u001b[38;5;28mself\u001b[39m\n\u001b[1;32m    656\u001b[0m \u001b[38;5;28;01mexcept\u001b[39;00m \u001b[38;5;167;01mTimeoutError\u001b[39;00m \u001b[38;5;28;01mas\u001b[39;00m exc:\n\u001b[1;32m    657\u001b[0m     \u001b[38;5;28mself\u001b[39m\u001b[38;5;241m.\u001b[39mhandle_timeout(exc)\n",
      "File \u001b[0;32m~/miniforge3/envs/local/lib/python3.11/site-packages/prefect/flow_engine.py:699\u001b[0m, in \u001b[0;36mrun_flow_sync\u001b[0;34m(flow, flow_run, parameters, wait_for, return_type)\u001b[0m\n\u001b[1;32m    697\u001b[0m     \u001b[38;5;28;01mwhile\u001b[39;00m engine\u001b[38;5;241m.\u001b[39mis_running():\n\u001b[1;32m    698\u001b[0m         \u001b[38;5;28;01mwith\u001b[39;00m engine\u001b[38;5;241m.\u001b[39mrun_context():\n\u001b[0;32m--> 699\u001b[0m             \u001b[43mengine\u001b[49m\u001b[38;5;241;43m.\u001b[39;49m\u001b[43mcall_flow_fn\u001b[49m\u001b[43m(\u001b[49m\u001b[43m)\u001b[49m\n\u001b[1;32m    701\u001b[0m \u001b[38;5;28;01mreturn\u001b[39;00m engine\u001b[38;5;241m.\u001b[39mstate \u001b[38;5;28;01mif\u001b[39;00m return_type \u001b[38;5;241m==\u001b[39m \u001b[38;5;124m\"\u001b[39m\u001b[38;5;124mstate\u001b[39m\u001b[38;5;124m\"\u001b[39m \u001b[38;5;28;01melse\u001b[39;00m engine\u001b[38;5;241m.\u001b[39mresult()\n",
      "File \u001b[0;32m~/miniforge3/envs/local/lib/python3.11/site-packages/prefect/flow_engine.py:678\u001b[0m, in \u001b[0;36mFlowRunEngine.call_flow_fn\u001b[0;34m(self)\u001b[0m\n\u001b[1;32m    676\u001b[0m     \u001b[38;5;28;01mreturn\u001b[39;00m _call_flow_fn()\n\u001b[1;32m    677\u001b[0m \u001b[38;5;28;01melse\u001b[39;00m:\n\u001b[0;32m--> 678\u001b[0m     result \u001b[38;5;241m=\u001b[39m \u001b[43mcall_with_parameters\u001b[49m\u001b[43m(\u001b[49m\u001b[38;5;28;43mself\u001b[39;49m\u001b[38;5;241;43m.\u001b[39;49m\u001b[43mflow\u001b[49m\u001b[38;5;241;43m.\u001b[39;49m\u001b[43mfn\u001b[49m\u001b[43m,\u001b[49m\u001b[43m \u001b[49m\u001b[38;5;28;43mself\u001b[39;49m\u001b[38;5;241;43m.\u001b[39;49m\u001b[43mparameters\u001b[49m\u001b[43m)\u001b[49m\n\u001b[1;32m    679\u001b[0m     \u001b[38;5;28mself\u001b[39m\u001b[38;5;241m.\u001b[39mhandle_success(result)\n",
      "File \u001b[0;32m~/miniforge3/envs/local/lib/python3.11/site-packages/prefect/utilities/callables.py:206\u001b[0m, in \u001b[0;36mcall_with_parameters\u001b[0;34m(fn, parameters)\u001b[0m\n\u001b[1;32m    198\u001b[0m \u001b[38;5;250m\u001b[39m\u001b[38;5;124;03m\"\"\"\u001b[39;00m\n\u001b[1;32m    199\u001b[0m \u001b[38;5;124;03mCall a function with parameters extracted with `get_call_parameters`\u001b[39;00m\n\u001b[1;32m    200\u001b[0m \n\u001b[0;32m   (...)\u001b[0m\n\u001b[1;32m    203\u001b[0m \u001b[38;5;124;03mthe args/kwargs using `parameters_to_positional_and_keyword` directly\u001b[39;00m\n\u001b[1;32m    204\u001b[0m \u001b[38;5;124;03m\"\"\"\u001b[39;00m\n\u001b[1;32m    205\u001b[0m args, kwargs \u001b[38;5;241m=\u001b[39m parameters_to_args_kwargs(fn, parameters)\n\u001b[0;32m--> 206\u001b[0m \u001b[38;5;28;01mreturn\u001b[39;00m \u001b[43mfn\u001b[49m\u001b[43m(\u001b[49m\u001b[38;5;241;43m*\u001b[39;49m\u001b[43margs\u001b[49m\u001b[43m,\u001b[49m\u001b[43m \u001b[49m\u001b[38;5;241;43m*\u001b[39;49m\u001b[38;5;241;43m*\u001b[39;49m\u001b[43mkwargs\u001b[49m\u001b[43m)\u001b[49m\n",
      "Cell \u001b[0;32mIn[3], line 15\u001b[0m, in \u001b[0;36mdask_flow\u001b[0;34m()\u001b[0m\n\u001b[1;32m     12\u001b[0m \u001b[38;5;129m@flow\u001b[39m(task_runner\u001b[38;5;241m=\u001b[39mDaskTaskRunner(address\u001b[38;5;241m=\u001b[39m\u001b[38;5;124m\"\u001b[39m\u001b[38;5;124mtcp://localhost:8786\u001b[39m\u001b[38;5;124m\"\u001b[39m))\n\u001b[1;32m     13\u001b[0m \u001b[38;5;28;01mdef\u001b[39;00m \u001b[38;5;21mdask_flow\u001b[39m():\n\u001b[1;32m     14\u001b[0m     prefect_future \u001b[38;5;241m=\u001b[39m compute_task\u001b[38;5;241m.\u001b[39msubmit()\n\u001b[0;32m---> 15\u001b[0m     \u001b[38;5;28;01mreturn\u001b[39;00m \u001b[43mprefect_future\u001b[49m\u001b[38;5;241;43m.\u001b[39;49m\u001b[43mresult\u001b[49m\u001b[43m(\u001b[49m\u001b[43m)\u001b[49m\n",
      "File \u001b[0;32m~/miniforge3/envs/local/lib/python3.11/site-packages/prefect_dask/task_runners.py:132\u001b[0m, in \u001b[0;36mPrefectDaskFuture.result\u001b[0;34m(self, timeout, raise_on_failure)\u001b[0m\n\u001b[1;32m    130\u001b[0m \u001b[38;5;28;01mif\u001b[39;00m \u001b[38;5;129;01mnot\u001b[39;00m \u001b[38;5;28mself\u001b[39m\u001b[38;5;241m.\u001b[39m_final_state:\n\u001b[1;32m    131\u001b[0m     \u001b[38;5;28;01mtry\u001b[39;00m:\n\u001b[0;32m--> 132\u001b[0m         future_result \u001b[38;5;241m=\u001b[39m \u001b[38;5;28;43mself\u001b[39;49m\u001b[38;5;241;43m.\u001b[39;49m\u001b[43m_wrapped_future\u001b[49m\u001b[38;5;241;43m.\u001b[39;49m\u001b[43mresult\u001b[49m\u001b[43m(\u001b[49m\u001b[43mtimeout\u001b[49m\u001b[38;5;241;43m=\u001b[39;49m\u001b[43mtimeout\u001b[49m\u001b[43m)\u001b[49m\n\u001b[1;32m    133\u001b[0m     \u001b[38;5;28;01mexcept\u001b[39;00m distributed\u001b[38;5;241m.\u001b[39mTimeoutError \u001b[38;5;28;01mas\u001b[39;00m exc:\n\u001b[1;32m    134\u001b[0m         \u001b[38;5;28;01mraise\u001b[39;00m \u001b[38;5;167;01mTimeoutError\u001b[39;00m(\n\u001b[1;32m    135\u001b[0m             \u001b[38;5;124mf\u001b[39m\u001b[38;5;124m\"\u001b[39m\u001b[38;5;124mTask run \u001b[39m\u001b[38;5;132;01m{\u001b[39;00m\u001b[38;5;28mself\u001b[39m\u001b[38;5;241m.\u001b[39mtask_run_id\u001b[38;5;132;01m}\u001b[39;00m\u001b[38;5;124m did not complete within \u001b[39m\u001b[38;5;132;01m{\u001b[39;00mtimeout\u001b[38;5;132;01m}\u001b[39;00m\u001b[38;5;124m seconds\u001b[39m\u001b[38;5;124m\"\u001b[39m\n\u001b[1;32m    136\u001b[0m         ) \u001b[38;5;28;01mfrom\u001b[39;00m \u001b[38;5;21;01mexc\u001b[39;00m\n",
      "File \u001b[0;32m~/miniforge3/envs/local/lib/python3.11/site-packages/distributed/client.py:322\u001b[0m, in \u001b[0;36mFuture.result\u001b[0;34m(self, timeout)\u001b[0m\n\u001b[1;32m    320\u001b[0m \u001b[38;5;28mself\u001b[39m\u001b[38;5;241m.\u001b[39m_verify_initialized()\n\u001b[1;32m    321\u001b[0m \u001b[38;5;28;01mwith\u001b[39;00m shorten_traceback():\n\u001b[0;32m--> 322\u001b[0m     \u001b[38;5;28;01mreturn\u001b[39;00m \u001b[38;5;28;43mself\u001b[39;49m\u001b[38;5;241;43m.\u001b[39;49m\u001b[43mclient\u001b[49m\u001b[38;5;241;43m.\u001b[39;49m\u001b[43msync\u001b[49m\u001b[43m(\u001b[49m\u001b[38;5;28;43mself\u001b[39;49m\u001b[38;5;241;43m.\u001b[39;49m\u001b[43m_result\u001b[49m\u001b[43m,\u001b[49m\u001b[43m \u001b[49m\u001b[43mcallback_timeout\u001b[49m\u001b[38;5;241;43m=\u001b[39;49m\u001b[43mtimeout\u001b[49m\u001b[43m)\u001b[49m\n",
      "File \u001b[0;32m~/miniforge3/envs/local/lib/python3.11/site-packages/prefect_dask/client.py:62\u001b[0m, in \u001b[0;36mwrapper_func\u001b[0;34m()\u001b[0m\n\u001b[1;32m     60\u001b[0m     \u001b[38;5;28;01mreturn\u001b[39;00m asyncio\u001b[38;5;241m.\u001b[39mrun(run_task_async(\u001b[38;5;241m*\u001b[39margs, \u001b[38;5;241m*\u001b[39m\u001b[38;5;241m*\u001b[39mkwargs))\n\u001b[1;32m     61\u001b[0m \u001b[38;5;28;01melse\u001b[39;00m:\n\u001b[0;32m---> 62\u001b[0m     \u001b[38;5;28;01mreturn\u001b[39;00m run_task_sync(\u001b[38;5;241m*\u001b[39margs, \u001b[38;5;241m*\u001b[39m\u001b[38;5;241m*\u001b[39mkwargs)\n",
      "File \u001b[0;32m/global/homes/s/sanjeevc/.conda/envs/sfapi_dask_env/lib/python3.11/site-packages/prefect/task_engine.py:1333\u001b[0m, in \u001b[0;36mrun_task_sync\u001b[0;34m()\u001b[0m\n",
      "File \u001b[0;32m/global/homes/s/sanjeevc/.conda/envs/sfapi_dask_env/lib/python3.11/contextlib.py:137\u001b[0m, in \u001b[0;36m__enter__\u001b[0;34m()\u001b[0m\n",
      "File \u001b[0;32m/global/homes/s/sanjeevc/.conda/envs/sfapi_dask_env/lib/python3.11/site-packages/prefect/task_engine.py:732\u001b[0m, in \u001b[0;36mstart\u001b[0;34m()\u001b[0m\n",
      "File \u001b[0;32m/global/homes/s/sanjeevc/.conda/envs/sfapi_dask_env/lib/python3.11/contextlib.py:137\u001b[0m, in \u001b[0;36m__enter__\u001b[0;34m()\u001b[0m\n",
      "File \u001b[0;32m/global/homes/s/sanjeevc/.conda/envs/sfapi_dask_env/lib/python3.11/site-packages/prefect/task_engine.py:655\u001b[0m, in \u001b[0;36minitialize_run\u001b[0;34m()\u001b[0m\n",
      "File \u001b[0;32m/global/homes/s/sanjeevc/.conda/envs/sfapi_dask_env/lib/python3.11/contextlib.py:137\u001b[0m, in \u001b[0;36m__enter__\u001b[0;34m()\u001b[0m\n",
      "File \u001b[0;32m/global/homes/s/sanjeevc/.conda/envs/sfapi_dask_env/lib/python3.11/site-packages/prefect/context.py:236\u001b[0m, in \u001b[0;36mget_or_create\u001b[0;34m()\u001b[0m\n",
      "File \u001b[0;32m/global/homes/s/sanjeevc/.conda/envs/sfapi_dask_env/lib/python3.11/site-packages/prefect/context.py:218\u001b[0m, in \u001b[0;36m__enter__\u001b[0;34m()\u001b[0m\n",
      "File \u001b[0;32m/global/homes/s/sanjeevc/.conda/envs/sfapi_dask_env/lib/python3.11/site-packages/prefect/client/orchestration.py:3744\u001b[0m, in \u001b[0;36mraise_for_api_version_mismatch\u001b[0;34m()\u001b[0m\n",
      "\u001b[0;31mRuntimeError\u001b[0m: Found incompatible versions: client: 3.1.2, server: 2.14.2. Major versions must match."
     ]
    }
   ],
   "source": [
    "import dask\n",
    "from prefect import flow, task\n",
    "from prefect_dask import DaskTaskRunner, get_dask_client\n",
    "\n",
    "@task\n",
    "def compute_task():\n",
    "    with get_dask_client() as client:\n",
    "        df = dask.datasets.timeseries(\"2000\", \"2001\", partition_freq=\"4w\")\n",
    "        summary_df = df.describe().compute().result()\n",
    "    return summary_df\n",
    "\n",
    "@flow(task_runner=DaskTaskRunner(address=\"tcp://localhost:8786\"))\n",
    "def dask_flow():\n",
    "    prefect_future = compute_task.submit()\n",
    "    return prefect_future.result()\n",
    "\n",
    "dask_flow()\n"
   ]
  },
  {
   "cell_type": "code",
   "execution_count": null,
   "metadata": {},
   "outputs": [],
   "source": []
  },
  {
   "cell_type": "code",
   "execution_count": null,
   "metadata": {},
   "outputs": [],
   "source": []
  }
 ],
 "metadata": {
  "kernelspec": {
   "display_name": "Python 3 (ipykernel)",
   "language": "python",
   "name": "python3"
  },
  "language_info": {
   "codemirror_mode": {
    "name": "ipython",
    "version": 3
   },
   "file_extension": ".py",
   "mimetype": "text/x-python",
   "name": "python",
   "nbconvert_exporter": "python",
   "pygments_lexer": "ipython3",
   "version": "3.11.7"
  }
 },
 "nbformat": 4,
 "nbformat_minor": 4
}
