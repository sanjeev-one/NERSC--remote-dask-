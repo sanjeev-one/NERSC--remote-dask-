{
 "cells": [
  {
   "cell_type": "code",
   "execution_count": 1,
   "metadata": {},
   "outputs": [
    {
     "data": {
      "text/html": [
       "<pre style=\"white-space:pre;overflow-x:auto;line-height:normal;font-family:Menlo,'DejaVu Sans Mono',consolas,'Courier New',monospace\">16:08:04.153 | <span style=\"color: #008080; text-decoration-color: #008080\">INFO</span>    | prefect - Starting temporary server on <span style=\"color: #0000ff; text-decoration-color: #0000ff\">http://127.0.0.1:8694</span>\n",
       "See <span style=\"color: #0000ff; text-decoration-color: #0000ff\">https://docs.prefect.io/3.0/manage/self-host#self-host-a-prefect-server</span> for more information on running a dedicated Prefect server.\n",
       "</pre>\n"
      ],
      "text/plain": [
       "16:08:04.153 | \u001b[36mINFO\u001b[0m    | prefect - Starting temporary server on \u001b[94mhttp://127.0.0.1:8694\u001b[0m\n",
       "See \u001b[94mhttps://docs.prefect.io/3.0/manage/self-host#self-host-a-prefect-server\u001b[0m for more information on running a dedicated Prefect server.\n"
      ]
     },
     "metadata": {},
     "output_type": "display_data"
    },
    {
     "data": {
      "text/html": [
       "<pre style=\"white-space:pre;overflow-x:auto;line-height:normal;font-family:Menlo,'DejaVu Sans Mono',consolas,'Courier New',monospace\">16:08:07.275 | <span style=\"color: #008080; text-decoration-color: #008080\">INFO</span>    | prefect.engine - Created flow run<span style=\"color: #800080; text-decoration-color: #800080\"> 'authentic-collie'</span> for flow<span style=\"color: #800080; text-decoration-color: #800080; font-weight: bold\"> 'parallel-workflow'</span>\n",
       "</pre>\n"
      ],
      "text/plain": [
       "16:08:07.275 | \u001b[36mINFO\u001b[0m    | prefect.engine - Created flow run\u001b[35m 'authentic-collie'\u001b[0m for flow\u001b[1;35m 'parallel-workflow'\u001b[0m\n"
      ]
     },
     "metadata": {},
     "output_type": "display_data"
    },
    {
     "data": {
      "text/html": [
       "<pre style=\"white-space:pre;overflow-x:auto;line-height:normal;font-family:Menlo,'DejaVu Sans Mono',consolas,'Courier New',monospace\">16:08:07.304 | <span style=\"color: #008080; text-decoration-color: #008080\">INFO</span>    | prefect.task_runner.dask - Creating a new Dask cluster with `distributed.deploy.local.LocalCluster`\n",
       "</pre>\n"
      ],
      "text/plain": [
       "16:08:07.304 | \u001b[36mINFO\u001b[0m    | prefect.task_runner.dask - Creating a new Dask cluster with `distributed.deploy.local.LocalCluster`\n"
      ]
     },
     "metadata": {},
     "output_type": "display_data"
    },
    {
     "data": {
      "text/html": [
       "<pre style=\"white-space:pre;overflow-x:auto;line-height:normal;font-family:Menlo,'DejaVu Sans Mono',consolas,'Courier New',monospace\">16:08:07.700 | <span style=\"color: #008080; text-decoration-color: #008080\">INFO</span>    | distributed.http.proxy - To route to workers diagnostics web server please install jupyter-server-proxy: python -m pip install jupyter-server-proxy\n",
       "</pre>\n"
      ],
      "text/plain": [
       "16:08:07.700 | \u001b[36mINFO\u001b[0m    | distributed.http.proxy - To route to workers diagnostics web server please install jupyter-server-proxy: python -m pip install jupyter-server-proxy\n"
      ]
     },
     "metadata": {},
     "output_type": "display_data"
    },
    {
     "data": {
      "text/html": [
       "<pre style=\"white-space:pre;overflow-x:auto;line-height:normal;font-family:Menlo,'DejaVu Sans Mono',consolas,'Courier New',monospace\">16:08:07.714 | <span style=\"color: #008080; text-decoration-color: #008080\">INFO</span>    | distributed.scheduler - State start\n",
       "</pre>\n"
      ],
      "text/plain": [
       "16:08:07.714 | \u001b[36mINFO\u001b[0m    | distributed.scheduler - State start\n"
      ]
     },
     "metadata": {},
     "output_type": "display_data"
    },
    {
     "data": {
      "text/html": [
       "<pre style=\"white-space:pre;overflow-x:auto;line-height:normal;font-family:Menlo,'DejaVu Sans Mono',consolas,'Courier New',monospace\">16:08:07.718 | <span style=\"color: #008080; text-decoration-color: #008080\">INFO</span>    | distributed.scheduler -   Scheduler at:     tcp://127.0.0.1:58685\n",
       "</pre>\n"
      ],
      "text/plain": [
       "16:08:07.718 | \u001b[36mINFO\u001b[0m    | distributed.scheduler -   Scheduler at:     tcp://127.0.0.1:58685\n"
      ]
     },
     "metadata": {},
     "output_type": "display_data"
    },
    {
     "data": {
      "text/html": [
       "<pre style=\"white-space:pre;overflow-x:auto;line-height:normal;font-family:Menlo,'DejaVu Sans Mono',consolas,'Courier New',monospace\">16:08:07.719 | <span style=\"color: #008080; text-decoration-color: #008080\">INFO</span>    | distributed.scheduler -   dashboard at:  <span style=\"color: #0000ff; text-decoration-color: #0000ff\">http://127.0.0.1:8787/status</span>\n",
       "</pre>\n"
      ],
      "text/plain": [
       "16:08:07.719 | \u001b[36mINFO\u001b[0m    | distributed.scheduler -   dashboard at:  \u001b[94mhttp://127.0.0.1:8787/status\u001b[0m\n"
      ]
     },
     "metadata": {},
     "output_type": "display_data"
    },
    {
     "data": {
      "text/html": [
       "<pre style=\"white-space:pre;overflow-x:auto;line-height:normal;font-family:Menlo,'DejaVu Sans Mono',consolas,'Courier New',monospace\">16:08:07.720 | <span style=\"color: #008080; text-decoration-color: #008080\">INFO</span>    | distributed.scheduler - Registering Worker plugin shuffle\n",
       "</pre>\n"
      ],
      "text/plain": [
       "16:08:07.720 | \u001b[36mINFO\u001b[0m    | distributed.scheduler - Registering Worker plugin shuffle\n"
      ]
     },
     "metadata": {},
     "output_type": "display_data"
    },
    {
     "data": {
      "text/html": [
       "<pre style=\"white-space:pre;overflow-x:auto;line-height:normal;font-family:Menlo,'DejaVu Sans Mono',consolas,'Courier New',monospace\">16:08:07.736 | <span style=\"color: #008080; text-decoration-color: #008080\">INFO</span>    | distributed.nanny -         Start Nanny at: 'tcp://127.0.0.1:58688'\n",
       "</pre>\n"
      ],
      "text/plain": [
       "16:08:07.736 | \u001b[36mINFO\u001b[0m    | distributed.nanny -         Start Nanny at: 'tcp://127.0.0.1:58688'\n"
      ]
     },
     "metadata": {},
     "output_type": "display_data"
    },
    {
     "data": {
      "text/html": [
       "<pre style=\"white-space:pre;overflow-x:auto;line-height:normal;font-family:Menlo,'DejaVu Sans Mono',consolas,'Courier New',monospace\">16:08:07.749 | <span style=\"color: #008080; text-decoration-color: #008080\">INFO</span>    | distributed.nanny -         Start Nanny at: 'tcp://127.0.0.1:58690'\n",
       "</pre>\n"
      ],
      "text/plain": [
       "16:08:07.749 | \u001b[36mINFO\u001b[0m    | distributed.nanny -         Start Nanny at: 'tcp://127.0.0.1:58690'\n"
      ]
     },
     "metadata": {},
     "output_type": "display_data"
    },
    {
     "data": {
      "text/html": [
       "<pre style=\"white-space:pre;overflow-x:auto;line-height:normal;font-family:Menlo,'DejaVu Sans Mono',consolas,'Courier New',monospace\">16:08:07.800 | <span style=\"color: #008080; text-decoration-color: #008080\">INFO</span>    | distributed.nanny -         Start Nanny at: 'tcp://127.0.0.1:58692'\n",
       "</pre>\n"
      ],
      "text/plain": [
       "16:08:07.800 | \u001b[36mINFO\u001b[0m    | distributed.nanny -         Start Nanny at: 'tcp://127.0.0.1:58692'\n"
      ]
     },
     "metadata": {},
     "output_type": "display_data"
    },
    {
     "data": {
      "text/html": [
       "<pre style=\"white-space:pre;overflow-x:auto;line-height:normal;font-family:Menlo,'DejaVu Sans Mono',consolas,'Courier New',monospace\">16:08:07.820 | <span style=\"color: #008080; text-decoration-color: #008080\">INFO</span>    | distributed.nanny -         Start Nanny at: 'tcp://127.0.0.1:58694'\n",
       "</pre>\n"
      ],
      "text/plain": [
       "16:08:07.820 | \u001b[36mINFO\u001b[0m    | distributed.nanny -         Start Nanny at: 'tcp://127.0.0.1:58694'\n"
      ]
     },
     "metadata": {},
     "output_type": "display_data"
    },
    {
     "data": {
      "text/html": [
       "<pre style=\"white-space:pre;overflow-x:auto;line-height:normal;font-family:Menlo,'DejaVu Sans Mono',consolas,'Courier New',monospace\">16:08:08.528 | <span style=\"color: #008080; text-decoration-color: #008080\">INFO</span>    | distributed.scheduler - Register worker &lt;WorkerState 'tcp://127.0.0.1:58703', name: 3, status: init, memory: 0, processing: 0&gt;\n",
       "</pre>\n"
      ],
      "text/plain": [
       "16:08:08.528 | \u001b[36mINFO\u001b[0m    | distributed.scheduler - Register worker <WorkerState 'tcp://127.0.0.1:58703', name: 3, status: init, memory: 0, processing: 0>\n"
      ]
     },
     "metadata": {},
     "output_type": "display_data"
    },
    {
     "data": {
      "text/html": [
       "<pre style=\"white-space:pre;overflow-x:auto;line-height:normal;font-family:Menlo,'DejaVu Sans Mono',consolas,'Courier New',monospace\">16:08:08.752 | <span style=\"color: #008080; text-decoration-color: #008080\">INFO</span>    | distributed.scheduler - Starting worker compute stream, tcp://127.0.0.1:58703\n",
       "</pre>\n"
      ],
      "text/plain": [
       "16:08:08.752 | \u001b[36mINFO\u001b[0m    | distributed.scheduler - Starting worker compute stream, tcp://127.0.0.1:58703\n"
      ]
     },
     "metadata": {},
     "output_type": "display_data"
    },
    {
     "data": {
      "text/html": [
       "<pre style=\"white-space:pre;overflow-x:auto;line-height:normal;font-family:Menlo,'DejaVu Sans Mono',consolas,'Courier New',monospace\">16:08:08.754 | <span style=\"color: #008080; text-decoration-color: #008080\">INFO</span>    | distributed.core - Starting established connection to tcp://127.0.0.1:58707\n",
       "</pre>\n"
      ],
      "text/plain": [
       "16:08:08.754 | \u001b[36mINFO\u001b[0m    | distributed.core - Starting established connection to tcp://127.0.0.1:58707\n"
      ]
     },
     "metadata": {},
     "output_type": "display_data"
    },
    {
     "data": {
      "text/html": [
       "<pre style=\"white-space:pre;overflow-x:auto;line-height:normal;font-family:Menlo,'DejaVu Sans Mono',consolas,'Courier New',monospace\">16:08:08.759 | <span style=\"color: #008080; text-decoration-color: #008080\">INFO</span>    | distributed.scheduler - Register worker &lt;WorkerState 'tcp://127.0.0.1:58696', name: 1, status: init, memory: 0, processing: 0&gt;\n",
       "</pre>\n"
      ],
      "text/plain": [
       "16:08:08.759 | \u001b[36mINFO\u001b[0m    | distributed.scheduler - Register worker <WorkerState 'tcp://127.0.0.1:58696', name: 1, status: init, memory: 0, processing: 0>\n"
      ]
     },
     "metadata": {},
     "output_type": "display_data"
    },
    {
     "data": {
      "text/html": [
       "<pre style=\"white-space:pre;overflow-x:auto;line-height:normal;font-family:Menlo,'DejaVu Sans Mono',consolas,'Courier New',monospace\">16:08:08.761 | <span style=\"color: #008080; text-decoration-color: #008080\">INFO</span>    | distributed.scheduler - Starting worker compute stream, tcp://127.0.0.1:58696\n",
       "</pre>\n"
      ],
      "text/plain": [
       "16:08:08.761 | \u001b[36mINFO\u001b[0m    | distributed.scheduler - Starting worker compute stream, tcp://127.0.0.1:58696\n"
      ]
     },
     "metadata": {},
     "output_type": "display_data"
    },
    {
     "data": {
      "text/html": [
       "<pre style=\"white-space:pre;overflow-x:auto;line-height:normal;font-family:Menlo,'DejaVu Sans Mono',consolas,'Courier New',monospace\">16:08:08.762 | <span style=\"color: #008080; text-decoration-color: #008080\">INFO</span>    | distributed.core - Starting established connection to tcp://127.0.0.1:58700\n",
       "</pre>\n"
      ],
      "text/plain": [
       "16:08:08.762 | \u001b[36mINFO\u001b[0m    | distributed.core - Starting established connection to tcp://127.0.0.1:58700\n"
      ]
     },
     "metadata": {},
     "output_type": "display_data"
    },
    {
     "data": {
      "text/html": [
       "<pre style=\"white-space:pre;overflow-x:auto;line-height:normal;font-family:Menlo,'DejaVu Sans Mono',consolas,'Courier New',monospace\">16:08:08.763 | <span style=\"color: #008080; text-decoration-color: #008080\">INFO</span>    | distributed.scheduler - Register worker &lt;WorkerState 'tcp://127.0.0.1:58697', name: 0, status: init, memory: 0, processing: 0&gt;\n",
       "</pre>\n"
      ],
      "text/plain": [
       "16:08:08.763 | \u001b[36mINFO\u001b[0m    | distributed.scheduler - Register worker <WorkerState 'tcp://127.0.0.1:58697', name: 0, status: init, memory: 0, processing: 0>\n"
      ]
     },
     "metadata": {},
     "output_type": "display_data"
    },
    {
     "data": {
      "text/html": [
       "<pre style=\"white-space:pre;overflow-x:auto;line-height:normal;font-family:Menlo,'DejaVu Sans Mono',consolas,'Courier New',monospace\">16:08:08.764 | <span style=\"color: #008080; text-decoration-color: #008080\">INFO</span>    | distributed.scheduler - Starting worker compute stream, tcp://127.0.0.1:58697\n",
       "</pre>\n"
      ],
      "text/plain": [
       "16:08:08.764 | \u001b[36mINFO\u001b[0m    | distributed.scheduler - Starting worker compute stream, tcp://127.0.0.1:58697\n"
      ]
     },
     "metadata": {},
     "output_type": "display_data"
    },
    {
     "data": {
      "text/html": [
       "<pre style=\"white-space:pre;overflow-x:auto;line-height:normal;font-family:Menlo,'DejaVu Sans Mono',consolas,'Courier New',monospace\">16:08:08.765 | <span style=\"color: #008080; text-decoration-color: #008080\">INFO</span>    | distributed.core - Starting established connection to tcp://127.0.0.1:58701\n",
       "</pre>\n"
      ],
      "text/plain": [
       "16:08:08.765 | \u001b[36mINFO\u001b[0m    | distributed.core - Starting established connection to tcp://127.0.0.1:58701\n"
      ]
     },
     "metadata": {},
     "output_type": "display_data"
    },
    {
     "data": {
      "text/html": [
       "<pre style=\"white-space:pre;overflow-x:auto;line-height:normal;font-family:Menlo,'DejaVu Sans Mono',consolas,'Courier New',monospace\">16:08:08.766 | <span style=\"color: #008080; text-decoration-color: #008080\">INFO</span>    | distributed.scheduler - Register worker &lt;WorkerState 'tcp://127.0.0.1:58702', name: 2, status: init, memory: 0, processing: 0&gt;\n",
       "</pre>\n"
      ],
      "text/plain": [
       "16:08:08.766 | \u001b[36mINFO\u001b[0m    | distributed.scheduler - Register worker <WorkerState 'tcp://127.0.0.1:58702', name: 2, status: init, memory: 0, processing: 0>\n"
      ]
     },
     "metadata": {},
     "output_type": "display_data"
    },
    {
     "data": {
      "text/html": [
       "<pre style=\"white-space:pre;overflow-x:auto;line-height:normal;font-family:Menlo,'DejaVu Sans Mono',consolas,'Courier New',monospace\">16:08:08.767 | <span style=\"color: #008080; text-decoration-color: #008080\">INFO</span>    | distributed.scheduler - Starting worker compute stream, tcp://127.0.0.1:58702\n",
       "</pre>\n"
      ],
      "text/plain": [
       "16:08:08.767 | \u001b[36mINFO\u001b[0m    | distributed.scheduler - Starting worker compute stream, tcp://127.0.0.1:58702\n"
      ]
     },
     "metadata": {},
     "output_type": "display_data"
    },
    {
     "data": {
      "text/html": [
       "<pre style=\"white-space:pre;overflow-x:auto;line-height:normal;font-family:Menlo,'DejaVu Sans Mono',consolas,'Courier New',monospace\">16:08:08.767 | <span style=\"color: #008080; text-decoration-color: #008080\">INFO</span>    | distributed.core - Starting established connection to tcp://127.0.0.1:58705\n",
       "</pre>\n"
      ],
      "text/plain": [
       "16:08:08.767 | \u001b[36mINFO\u001b[0m    | distributed.core - Starting established connection to tcp://127.0.0.1:58705\n"
      ]
     },
     "metadata": {},
     "output_type": "display_data"
    },
    {
     "data": {
      "text/html": [
       "<pre style=\"white-space:pre;overflow-x:auto;line-height:normal;font-family:Menlo,'DejaVu Sans Mono',consolas,'Courier New',monospace\">16:08:08.780 | <span style=\"color: #008080; text-decoration-color: #008080\">INFO</span>    | distributed.scheduler - Receive client connection: PrefectDaskClient-44654ea0-a634-11ef-87c1-8e0c55860905\n",
       "</pre>\n"
      ],
      "text/plain": [
       "16:08:08.780 | \u001b[36mINFO\u001b[0m    | distributed.scheduler - Receive client connection: PrefectDaskClient-44654ea0-a634-11ef-87c1-8e0c55860905\n"
      ]
     },
     "metadata": {},
     "output_type": "display_data"
    },
    {
     "data": {
      "text/html": [
       "<pre style=\"white-space:pre;overflow-x:auto;line-height:normal;font-family:Menlo,'DejaVu Sans Mono',consolas,'Courier New',monospace\">16:08:08.781 | <span style=\"color: #008080; text-decoration-color: #008080\">INFO</span>    | distributed.core - Starting established connection to tcp://127.0.0.1:58708\n",
       "</pre>\n"
      ],
      "text/plain": [
       "16:08:08.781 | \u001b[36mINFO\u001b[0m    | distributed.core - Starting established connection to tcp://127.0.0.1:58708\n"
      ]
     },
     "metadata": {},
     "output_type": "display_data"
    },
    {
     "data": {
      "text/html": [
       "<pre style=\"white-space:pre;overflow-x:auto;line-height:normal;font-family:Menlo,'DejaVu Sans Mono',consolas,'Courier New',monospace\">16:08:08.785 | <span style=\"color: #008080; text-decoration-color: #008080\">INFO</span>    | prefect.task_runner.dask - The Dask dashboard is available at <span style=\"color: #0000ff; text-decoration-color: #0000ff\">http://127.0.0.1:8787/status</span>\n",
       "</pre>\n"
      ],
      "text/plain": [
       "16:08:08.785 | \u001b[36mINFO\u001b[0m    | prefect.task_runner.dask - The Dask dashboard is available at \u001b[94mhttp://127.0.0.1:8787/status\u001b[0m\n"
      ]
     },
     "metadata": {},
     "output_type": "display_data"
    },
    {
     "data": {
      "text/html": [
       "<pre style=\"white-space:pre;overflow-x:auto;line-height:normal;font-family:Menlo,'DejaVu Sans Mono',consolas,'Courier New',monospace\">16:08:08.862 | <span style=\"color: #d7d700; text-decoration-color: #d7d700\">WARNING</span> | Flow run<span style=\"color: #800080; text-decoration-color: #800080\"> 'authentic-collie'</span> - A future was garbage collected before it resolved. Please call `.wait()` or `.result()` on futures to ensure they resolve.\n",
       "</pre>\n"
      ],
      "text/plain": [
       "16:08:08.862 | \u001b[38;5;184mWARNING\u001b[0m | Flow run\u001b[35m 'authentic-collie'\u001b[0m - A future was garbage collected before it resolved. Please call `.wait()` or `.result()` on futures to ensure they resolve.\n"
      ]
     },
     "metadata": {},
     "output_type": "display_data"
    },
    {
     "data": {
      "text/html": [
       "<pre style=\"white-space:pre;overflow-x:auto;line-height:normal;font-family:Menlo,'DejaVu Sans Mono',consolas,'Courier New',monospace\">16:08:08.871 | <span style=\"color: #d7d700; text-decoration-color: #d7d700\">WARNING</span> | Flow run<span style=\"color: #800080; text-decoration-color: #800080\"> 'authentic-collie'</span> - A future was garbage collected before it resolved. Please call `.wait()` or `.result()` on futures to ensure they resolve.\n",
       "</pre>\n"
      ],
      "text/plain": [
       "16:08:08.871 | \u001b[38;5;184mWARNING\u001b[0m | Flow run\u001b[35m 'authentic-collie'\u001b[0m - A future was garbage collected before it resolved. Please call `.wait()` or `.result()` on futures to ensure they resolve.\n"
      ]
     },
     "metadata": {},
     "output_type": "display_data"
    },
    {
     "data": {
      "text/html": [
       "<pre style=\"white-space:pre;overflow-x:auto;line-height:normal;font-family:Menlo,'DejaVu Sans Mono',consolas,'Courier New',monospace\">16:08:08.873 | <span style=\"color: #d7d700; text-decoration-color: #d7d700\">WARNING</span> | Flow run<span style=\"color: #800080; text-decoration-color: #800080\"> 'authentic-collie'</span> - A future was garbage collected before it resolved. Please call `.wait()` or `.result()` on futures to ensure they resolve.\n",
       "</pre>\n"
      ],
      "text/plain": [
       "16:08:08.873 | \u001b[38;5;184mWARNING\u001b[0m | Flow run\u001b[35m 'authentic-collie'\u001b[0m - A future was garbage collected before it resolved. Please call `.wait()` or `.result()` on futures to ensure they resolve.\n"
      ]
     },
     "metadata": {},
     "output_type": "display_data"
    },
    {
     "data": {
      "text/html": [
       "<pre style=\"white-space:pre;overflow-x:auto;line-height:normal;font-family:Menlo,'DejaVu Sans Mono',consolas,'Courier New',monospace\">16:08:08.874 | <span style=\"color: #d7d700; text-decoration-color: #d7d700\">WARNING</span> | Flow run<span style=\"color: #800080; text-decoration-color: #800080\"> 'authentic-collie'</span> - A future was garbage collected before it resolved. Please call `.wait()` or `.result()` on futures to ensure they resolve.\n",
       "</pre>\n"
      ],
      "text/plain": [
       "16:08:08.874 | \u001b[38;5;184mWARNING\u001b[0m | Flow run\u001b[35m 'authentic-collie'\u001b[0m - A future was garbage collected before it resolved. Please call `.wait()` or `.result()` on futures to ensure they resolve.\n"
      ]
     },
     "metadata": {},
     "output_type": "display_data"
    },
    {
     "data": {
      "text/html": [
       "<pre style=\"white-space:pre;overflow-x:auto;line-height:normal;font-family:Menlo,'DejaVu Sans Mono',consolas,'Courier New',monospace\">16:08:08.875 | <span style=\"color: #d7d700; text-decoration-color: #d7d700\">WARNING</span> | Flow run<span style=\"color: #800080; text-decoration-color: #800080\"> 'authentic-collie'</span> - A future was garbage collected before it resolved. Please call `.wait()` or `.result()` on futures to ensure they resolve.\n",
       "</pre>\n"
      ],
      "text/plain": [
       "16:08:08.875 | \u001b[38;5;184mWARNING\u001b[0m | Flow run\u001b[35m 'authentic-collie'\u001b[0m - A future was garbage collected before it resolved. Please call `.wait()` or `.result()` on futures to ensure they resolve.\n"
      ]
     },
     "metadata": {},
     "output_type": "display_data"
    },
    {
     "data": {
      "text/html": [
       "<pre style=\"white-space:pre;overflow-x:auto;line-height:normal;font-family:Menlo,'DejaVu Sans Mono',consolas,'Courier New',monospace\">16:08:08.876 | <span style=\"color: #d7d700; text-decoration-color: #d7d700\">WARNING</span> | Flow run<span style=\"color: #800080; text-decoration-color: #800080\"> 'authentic-collie'</span> - A future was garbage collected before it resolved. Please call `.wait()` or `.result()` on futures to ensure they resolve.\n",
       "</pre>\n"
      ],
      "text/plain": [
       "16:08:08.876 | \u001b[38;5;184mWARNING\u001b[0m | Flow run\u001b[35m 'authentic-collie'\u001b[0m - A future was garbage collected before it resolved. Please call `.wait()` or `.result()` on futures to ensure they resolve.\n"
      ]
     },
     "metadata": {},
     "output_type": "display_data"
    },
    {
     "data": {
      "text/html": [
       "<pre style=\"white-space:pre;overflow-x:auto;line-height:normal;font-family:Menlo,'DejaVu Sans Mono',consolas,'Courier New',monospace\">16:08:08.878 | <span style=\"color: #d7d700; text-decoration-color: #d7d700\">WARNING</span> | Flow run<span style=\"color: #800080; text-decoration-color: #800080\"> 'authentic-collie'</span> - A future was garbage collected before it resolved. Please call `.wait()` or `.result()` on futures to ensure they resolve.\n",
       "</pre>\n"
      ],
      "text/plain": [
       "16:08:08.878 | \u001b[38;5;184mWARNING\u001b[0m | Flow run\u001b[35m 'authentic-collie'\u001b[0m - A future was garbage collected before it resolved. Please call `.wait()` or `.result()` on futures to ensure they resolve.\n"
      ]
     },
     "metadata": {},
     "output_type": "display_data"
    },
    {
     "data": {
      "text/html": [
       "<pre style=\"white-space:pre;overflow-x:auto;line-height:normal;font-family:Menlo,'DejaVu Sans Mono',consolas,'Courier New',monospace\">16:08:08.881 | <span style=\"color: #d7d700; text-decoration-color: #d7d700\">WARNING</span> | Flow run<span style=\"color: #800080; text-decoration-color: #800080\"> 'authentic-collie'</span> - A future was garbage collected before it resolved. Please call `.wait()` or `.result()` on futures to ensure they resolve.\n",
       "</pre>\n"
      ],
      "text/plain": [
       "16:08:08.881 | \u001b[38;5;184mWARNING\u001b[0m | Flow run\u001b[35m 'authentic-collie'\u001b[0m - A future was garbage collected before it resolved. Please call `.wait()` or `.result()` on futures to ensure they resolve.\n"
      ]
     },
     "metadata": {},
     "output_type": "display_data"
    },
    {
     "data": {
      "text/html": [
       "<pre style=\"white-space:pre;overflow-x:auto;line-height:normal;font-family:Menlo,'DejaVu Sans Mono',consolas,'Courier New',monospace\">16:08:08.882 | <span style=\"color: #d7d700; text-decoration-color: #d7d700\">WARNING</span> | Flow run<span style=\"color: #800080; text-decoration-color: #800080\"> 'authentic-collie'</span> - A future was garbage collected before it resolved. Please call `.wait()` or `.result()` on futures to ensure they resolve.\n",
       "</pre>\n"
      ],
      "text/plain": [
       "16:08:08.882 | \u001b[38;5;184mWARNING\u001b[0m | Flow run\u001b[35m 'authentic-collie'\u001b[0m - A future was garbage collected before it resolved. Please call `.wait()` or `.result()` on futures to ensure they resolve.\n"
      ]
     },
     "metadata": {},
     "output_type": "display_data"
    },
    {
     "data": {
      "text/html": [
       "<pre style=\"white-space:pre;overflow-x:auto;line-height:normal;font-family:Menlo,'DejaVu Sans Mono',consolas,'Courier New',monospace\">16:08:08.883 | <span style=\"color: #d7d700; text-decoration-color: #d7d700\">WARNING</span> | Flow run<span style=\"color: #800080; text-decoration-color: #800080\"> 'authentic-collie'</span> - A future was garbage collected before it resolved. Please call `.wait()` or `.result()` on futures to ensure they resolve.\n",
       "</pre>\n"
      ],
      "text/plain": [
       "16:08:08.883 | \u001b[38;5;184mWARNING\u001b[0m | Flow run\u001b[35m 'authentic-collie'\u001b[0m - A future was garbage collected before it resolved. Please call `.wait()` or `.result()` on futures to ensure they resolve.\n"
      ]
     },
     "metadata": {},
     "output_type": "display_data"
    },
    {
     "data": {
      "text/html": [
       "<pre style=\"white-space:pre;overflow-x:auto;line-height:normal;font-family:Menlo,'DejaVu Sans Mono',consolas,'Courier New',monospace\">16:08:08.884 | <span style=\"color: #d7d700; text-decoration-color: #d7d700\">WARNING</span> | Flow run<span style=\"color: #800080; text-decoration-color: #800080\"> 'authentic-collie'</span> - A future was garbage collected before it resolved. Please call `.wait()` or `.result()` on futures to ensure they resolve.\n",
       "</pre>\n"
      ],
      "text/plain": [
       "16:08:08.884 | \u001b[38;5;184mWARNING\u001b[0m | Flow run\u001b[35m 'authentic-collie'\u001b[0m - A future was garbage collected before it resolved. Please call `.wait()` or `.result()` on futures to ensure they resolve.\n"
      ]
     },
     "metadata": {},
     "output_type": "display_data"
    },
    {
     "data": {
      "text/html": [
       "<pre style=\"white-space:pre;overflow-x:auto;line-height:normal;font-family:Menlo,'DejaVu Sans Mono',consolas,'Courier New',monospace\">16:08:08.894 | <span style=\"color: #d7d700; text-decoration-color: #d7d700\">WARNING</span> | Flow run<span style=\"color: #800080; text-decoration-color: #800080\"> 'authentic-collie'</span> - A future was garbage collected before it resolved. Please call `.wait()` or `.result()` on futures to ensure they resolve.\n",
       "</pre>\n"
      ],
      "text/plain": [
       "16:08:08.894 | \u001b[38;5;184mWARNING\u001b[0m | Flow run\u001b[35m 'authentic-collie'\u001b[0m - A future was garbage collected before it resolved. Please call `.wait()` or `.result()` on futures to ensure they resolve.\n"
      ]
     },
     "metadata": {},
     "output_type": "display_data"
    },
    {
     "data": {
      "text/html": [
       "<pre style=\"white-space:pre;overflow-x:auto;line-height:normal;font-family:Menlo,'DejaVu Sans Mono',consolas,'Courier New',monospace\">16:08:08.940 | <span style=\"color: #008080; text-decoration-color: #008080\">INFO</span>    | distributed.scheduler - Remove client PrefectDaskClient-44654ea0-a634-11ef-87c1-8e0c55860905\n",
       "</pre>\n"
      ],
      "text/plain": [
       "16:08:08.940 | \u001b[36mINFO\u001b[0m    | distributed.scheduler - Remove client PrefectDaskClient-44654ea0-a634-11ef-87c1-8e0c55860905\n"
      ]
     },
     "metadata": {},
     "output_type": "display_data"
    },
    {
     "data": {
      "text/html": [
       "<pre style=\"white-space:pre;overflow-x:auto;line-height:normal;font-family:Menlo,'DejaVu Sans Mono',consolas,'Courier New',monospace\">16:08:08.941 | <span style=\"color: #008080; text-decoration-color: #008080\">INFO</span>    | distributed.core - Received 'close-stream' from tcp://127.0.0.1:58708; closing.\n",
       "</pre>\n"
      ],
      "text/plain": [
       "16:08:08.941 | \u001b[36mINFO\u001b[0m    | distributed.core - Received 'close-stream' from tcp://127.0.0.1:58708; closing.\n"
      ]
     },
     "metadata": {},
     "output_type": "display_data"
    },
    {
     "data": {
      "text/html": [
       "<pre style=\"white-space:pre;overflow-x:auto;line-height:normal;font-family:Menlo,'DejaVu Sans Mono',consolas,'Courier New',monospace\">16:08:08.942 | <span style=\"color: #008080; text-decoration-color: #008080\">INFO</span>    | distributed.scheduler - Remove client PrefectDaskClient-44654ea0-a634-11ef-87c1-8e0c55860905\n",
       "</pre>\n"
      ],
      "text/plain": [
       "16:08:08.942 | \u001b[36mINFO\u001b[0m    | distributed.scheduler - Remove client PrefectDaskClient-44654ea0-a634-11ef-87c1-8e0c55860905\n"
      ]
     },
     "metadata": {},
     "output_type": "display_data"
    },
    {
     "data": {
      "text/html": [
       "<pre style=\"white-space:pre;overflow-x:auto;line-height:normal;font-family:Menlo,'DejaVu Sans Mono',consolas,'Courier New',monospace\">16:08:08.944 | <span style=\"color: #008080; text-decoration-color: #008080\">INFO</span>    | distributed.scheduler - Close client connection: PrefectDaskClient-44654ea0-a634-11ef-87c1-8e0c55860905\n",
       "</pre>\n"
      ],
      "text/plain": [
       "16:08:08.944 | \u001b[36mINFO\u001b[0m    | distributed.scheduler - Close client connection: PrefectDaskClient-44654ea0-a634-11ef-87c1-8e0c55860905\n"
      ]
     },
     "metadata": {},
     "output_type": "display_data"
    },
    {
     "data": {
      "text/html": [
       "<pre style=\"white-space:pre;overflow-x:auto;line-height:normal;font-family:Menlo,'DejaVu Sans Mono',consolas,'Courier New',monospace\">16:08:08.947 | <span style=\"color: #008080; text-decoration-color: #008080\">INFO</span>    | distributed.nanny - Closing Nanny at 'tcp://127.0.0.1:58688'. Reason: nanny-close\n",
       "</pre>\n"
      ],
      "text/plain": [
       "16:08:08.947 | \u001b[36mINFO\u001b[0m    | distributed.nanny - Closing Nanny at 'tcp://127.0.0.1:58688'. Reason: nanny-close\n"
      ]
     },
     "metadata": {},
     "output_type": "display_data"
    },
    {
     "data": {
      "text/html": [
       "<pre style=\"white-space:pre;overflow-x:auto;line-height:normal;font-family:Menlo,'DejaVu Sans Mono',consolas,'Courier New',monospace\">16:08:08.949 | <span style=\"color: #008080; text-decoration-color: #008080\">INFO</span>    | distributed.nanny - Nanny asking worker to close. Reason: nanny-close\n",
       "</pre>\n"
      ],
      "text/plain": [
       "16:08:08.949 | \u001b[36mINFO\u001b[0m    | distributed.nanny - Nanny asking worker to close. Reason: nanny-close\n"
      ]
     },
     "metadata": {},
     "output_type": "display_data"
    },
    {
     "data": {
      "text/html": [
       "<pre style=\"white-space:pre;overflow-x:auto;line-height:normal;font-family:Menlo,'DejaVu Sans Mono',consolas,'Courier New',monospace\">16:08:08.950 | <span style=\"color: #008080; text-decoration-color: #008080\">INFO</span>    | distributed.nanny - Closing Nanny at 'tcp://127.0.0.1:58690'. Reason: nanny-close\n",
       "</pre>\n"
      ],
      "text/plain": [
       "16:08:08.950 | \u001b[36mINFO\u001b[0m    | distributed.nanny - Closing Nanny at 'tcp://127.0.0.1:58690'. Reason: nanny-close\n"
      ]
     },
     "metadata": {},
     "output_type": "display_data"
    },
    {
     "data": {
      "text/html": [
       "<pre style=\"white-space:pre;overflow-x:auto;line-height:normal;font-family:Menlo,'DejaVu Sans Mono',consolas,'Courier New',monospace\">16:08:08.951 | <span style=\"color: #008080; text-decoration-color: #008080\">INFO</span>    | distributed.nanny - Nanny asking worker to close. Reason: nanny-close\n",
       "</pre>\n"
      ],
      "text/plain": [
       "16:08:08.951 | \u001b[36mINFO\u001b[0m    | distributed.nanny - Nanny asking worker to close. Reason: nanny-close\n"
      ]
     },
     "metadata": {},
     "output_type": "display_data"
    },
    {
     "data": {
      "text/html": [
       "<pre style=\"white-space:pre;overflow-x:auto;line-height:normal;font-family:Menlo,'DejaVu Sans Mono',consolas,'Courier New',monospace\">16:08:08.952 | <span style=\"color: #008080; text-decoration-color: #008080\">INFO</span>    | distributed.nanny - Closing Nanny at 'tcp://127.0.0.1:58692'. Reason: nanny-close\n",
       "</pre>\n"
      ],
      "text/plain": [
       "16:08:08.952 | \u001b[36mINFO\u001b[0m    | distributed.nanny - Closing Nanny at 'tcp://127.0.0.1:58692'. Reason: nanny-close\n"
      ]
     },
     "metadata": {},
     "output_type": "display_data"
    },
    {
     "data": {
      "text/html": [
       "<pre style=\"white-space:pre;overflow-x:auto;line-height:normal;font-family:Menlo,'DejaVu Sans Mono',consolas,'Courier New',monospace\">16:08:08.952 | <span style=\"color: #008080; text-decoration-color: #008080\">INFO</span>    | distributed.nanny - Nanny asking worker to close. Reason: nanny-close\n",
       "</pre>\n"
      ],
      "text/plain": [
       "16:08:08.952 | \u001b[36mINFO\u001b[0m    | distributed.nanny - Nanny asking worker to close. Reason: nanny-close\n"
      ]
     },
     "metadata": {},
     "output_type": "display_data"
    },
    {
     "data": {
      "text/html": [
       "<pre style=\"white-space:pre;overflow-x:auto;line-height:normal;font-family:Menlo,'DejaVu Sans Mono',consolas,'Courier New',monospace\">16:08:08.979 | <span style=\"color: #008080; text-decoration-color: #008080\">INFO</span>    | distributed.nanny - Closing Nanny at 'tcp://127.0.0.1:58694'. Reason: nanny-close\n",
       "</pre>\n"
      ],
      "text/plain": [
       "16:08:08.979 | \u001b[36mINFO\u001b[0m    | distributed.nanny - Closing Nanny at 'tcp://127.0.0.1:58694'. Reason: nanny-close\n"
      ]
     },
     "metadata": {},
     "output_type": "display_data"
    },
    {
     "data": {
      "text/html": [
       "<pre style=\"white-space:pre;overflow-x:auto;line-height:normal;font-family:Menlo,'DejaVu Sans Mono',consolas,'Courier New',monospace\">16:08:08.980 | <span style=\"color: #008080; text-decoration-color: #008080\">INFO</span>    | distributed.nanny - Nanny asking worker to close. Reason: nanny-close\n",
       "</pre>\n"
      ],
      "text/plain": [
       "16:08:08.980 | \u001b[36mINFO\u001b[0m    | distributed.nanny - Nanny asking worker to close. Reason: nanny-close\n"
      ]
     },
     "metadata": {},
     "output_type": "display_data"
    },
    {
     "name": "stderr",
     "output_type": "stream",
     "text": [
      "2024-11-19 16:08:09,757 - distributed.worker.state_machine - WARNING - Async instruction for <Task cancelled name=\"execute('fetch_data-21705a32c6696da7fee3ce92e9cdf8e3')\" coro=<Worker.execute() done, defined at /Users/sanjeevchauhan/miniforge3/envs/nersc2/lib/python3.11/site-packages/distributed/worker_state_machine.py:3615>> ended with CancelledError\n",
      "2024-11-19 16:08:09,758 - distributed.worker.state_machine - WARNING - Async instruction for <Task cancelled name=\"execute('fetch_data-25c42144b483427a63eab6cf110d7f5c')\" coro=<Worker.execute() done, defined at /Users/sanjeevchauhan/miniforge3/envs/nersc2/lib/python3.11/site-packages/distributed/worker_state_machine.py:3615>> ended with CancelledError\n"
     ]
    },
    {
     "data": {
      "text/html": [
       "<pre style=\"white-space:pre;overflow-x:auto;line-height:normal;font-family:Menlo,'DejaVu Sans Mono',consolas,'Courier New',monospace\">16:08:09.762 | <span style=\"color: #008080; text-decoration-color: #008080\">INFO</span>    | distributed.core - Received 'close-stream' from tcp://127.0.0.1:58700; closing.\n",
       "</pre>\n"
      ],
      "text/plain": [
       "16:08:09.762 | \u001b[36mINFO\u001b[0m    | distributed.core - Received 'close-stream' from tcp://127.0.0.1:58700; closing.\n"
      ]
     },
     "metadata": {},
     "output_type": "display_data"
    },
    {
     "data": {
      "text/html": [
       "<pre style=\"white-space:pre;overflow-x:auto;line-height:normal;font-family:Menlo,'DejaVu Sans Mono',consolas,'Courier New',monospace\">16:08:09.763 | <span style=\"color: #008080; text-decoration-color: #008080\">INFO</span>    | distributed.scheduler - Remove worker &lt;WorkerState 'tcp://127.0.0.1:58696', name: 1, status: closing, memory: 0, processing: 0&gt; (stimulus_id='handle-worker-cleanup-1731992889.7630131')\n",
       "</pre>\n"
      ],
      "text/plain": [
       "16:08:09.763 | \u001b[36mINFO\u001b[0m    | distributed.scheduler - Remove worker <WorkerState 'tcp://127.0.0.1:58696', name: 1, status: closing, memory: 0, processing: 0> (stimulus_id='handle-worker-cleanup-1731992889.7630131')\n"
      ]
     },
     "metadata": {},
     "output_type": "display_data"
    },
    {
     "data": {
      "text/html": [
       "<pre style=\"white-space:pre;overflow-x:auto;line-height:normal;font-family:Menlo,'DejaVu Sans Mono',consolas,'Courier New',monospace\">16:08:09.764 | <span style=\"color: #008080; text-decoration-color: #008080\">INFO</span>    | distributed.core - Received 'close-stream' from tcp://127.0.0.1:58701; closing.\n",
       "</pre>\n"
      ],
      "text/plain": [
       "16:08:09.764 | \u001b[36mINFO\u001b[0m    | distributed.core - Received 'close-stream' from tcp://127.0.0.1:58701; closing.\n"
      ]
     },
     "metadata": {},
     "output_type": "display_data"
    },
    {
     "data": {
      "text/html": [
       "<pre style=\"white-space:pre;overflow-x:auto;line-height:normal;font-family:Menlo,'DejaVu Sans Mono',consolas,'Courier New',monospace\">16:08:09.767 | <span style=\"color: #008080; text-decoration-color: #008080\">INFO</span>    | distributed.scheduler - Remove worker &lt;WorkerState 'tcp://127.0.0.1:58697', name: 0, status: closing, memory: 0, processing: 0&gt; (stimulus_id='handle-worker-cleanup-1731992889.767105')\n",
       "</pre>\n"
      ],
      "text/plain": [
       "16:08:09.767 | \u001b[36mINFO\u001b[0m    | distributed.scheduler - Remove worker <WorkerState 'tcp://127.0.0.1:58697', name: 0, status: closing, memory: 0, processing: 0> (stimulus_id='handle-worker-cleanup-1731992889.767105')\n"
      ]
     },
     "metadata": {},
     "output_type": "display_data"
    },
    {
     "name": "stderr",
     "output_type": "stream",
     "text": [
      "2024-11-19 16:08:09,776 - distributed.worker.state_machine - WARNING - Async instruction for <Task cancelled name=\"execute('fetch_data-d12eac6b39c0b5b8ef6b32624296da7c')\" coro=<Worker.execute() done, defined at /Users/sanjeevchauhan/miniforge3/envs/nersc2/lib/python3.11/site-packages/distributed/worker_state_machine.py:3615>> ended with CancelledError\n"
     ]
    },
    {
     "data": {
      "text/html": [
       "<pre style=\"white-space:pre;overflow-x:auto;line-height:normal;font-family:Menlo,'DejaVu Sans Mono',consolas,'Courier New',monospace\">16:08:09.845 | <span style=\"color: #008080; text-decoration-color: #008080\">INFO</span>    | distributed.core - Received 'close-stream' from tcp://127.0.0.1:58705; closing.\n",
       "</pre>\n"
      ],
      "text/plain": [
       "16:08:09.845 | \u001b[36mINFO\u001b[0m    | distributed.core - Received 'close-stream' from tcp://127.0.0.1:58705; closing.\n"
      ]
     },
     "metadata": {},
     "output_type": "display_data"
    },
    {
     "data": {
      "text/html": [
       "<pre style=\"white-space:pre;overflow-x:auto;line-height:normal;font-family:Menlo,'DejaVu Sans Mono',consolas,'Courier New',monospace\">16:08:09.848 | <span style=\"color: #008080; text-decoration-color: #008080\">INFO</span>    | distributed.scheduler - Remove worker &lt;WorkerState 'tcp://127.0.0.1:58702', name: 2, status: closing, memory: 0, processing: 0&gt; (stimulus_id='handle-worker-cleanup-1731992889.848246')\n",
       "</pre>\n"
      ],
      "text/plain": [
       "16:08:09.848 | \u001b[36mINFO\u001b[0m    | distributed.scheduler - Remove worker <WorkerState 'tcp://127.0.0.1:58702', name: 2, status: closing, memory: 0, processing: 0> (stimulus_id='handle-worker-cleanup-1731992889.848246')\n"
      ]
     },
     "metadata": {},
     "output_type": "display_data"
    },
    {
     "name": "stderr",
     "output_type": "stream",
     "text": [
      "2024-11-19 16:08:09,850 - distributed.worker.state_machine - WARNING - Async instruction for <Task cancelled name=\"execute('fetch_data-ad7e397167fdc8f83781038601929c8c')\" coro=<Worker.execute() done, defined at /Users/sanjeevchauhan/miniforge3/envs/nersc2/lib/python3.11/site-packages/distributed/worker_state_machine.py:3615>> ended with CancelledError\n",
      "2024-11-19 16:08:09,874 - distributed.worker - ERROR - Failed to communicate with scheduler during heartbeat.\n",
      "Traceback (most recent call last):\n",
      "  File \"/Users/sanjeevchauhan/miniforge3/envs/nersc2/lib/python3.11/site-packages/distributed/comm/tcp.py\", line 225, in read\n",
      "    frames_nosplit_nbytes_bin = await stream.read_bytes(fmt_size)\n",
      "                                ^^^^^^^^^^^^^^^^^^^^^^^^^^^^^^^^^\n",
      "tornado.iostream.StreamClosedError: Stream is closed\n",
      "\n",
      "The above exception was the direct cause of the following exception:\n",
      "\n",
      "Traceback (most recent call last):\n",
      "  File \"/Users/sanjeevchauhan/miniforge3/envs/nersc2/lib/python3.11/site-packages/distributed/worker.py\", line 1252, in heartbeat\n",
      "    response = await retry_operation(\n",
      "               ^^^^^^^^^^^^^^^^^^^^^^\n",
      "  File \"/Users/sanjeevchauhan/miniforge3/envs/nersc2/lib/python3.11/site-packages/distributed/utils_comm.py\", line 455, in retry_operation\n",
      "    return await retry(\n",
      "           ^^^^^^^^^^^^\n",
      "  File \"/Users/sanjeevchauhan/miniforge3/envs/nersc2/lib/python3.11/site-packages/distributed/utils_comm.py\", line 434, in retry\n",
      "    return await coro()\n",
      "           ^^^^^^^^^^^^\n",
      "  File \"/Users/sanjeevchauhan/miniforge3/envs/nersc2/lib/python3.11/site-packages/distributed/core.py\", line 1394, in send_recv_from_rpc\n",
      "    return await send_recv(comm=comm, op=key, **kwargs)\n",
      "           ^^^^^^^^^^^^^^^^^^^^^^^^^^^^^^^^^^^^^^^^^^^^\n",
      "  File \"/Users/sanjeevchauhan/miniforge3/envs/nersc2/lib/python3.11/site-packages/distributed/core.py\", line 1153, in send_recv\n",
      "    response = await comm.read(deserializers=deserializers)\n",
      "               ^^^^^^^^^^^^^^^^^^^^^^^^^^^^^^^^^^^^^^^^^^^^\n",
      "  File \"/Users/sanjeevchauhan/miniforge3/envs/nersc2/lib/python3.11/site-packages/distributed/comm/tcp.py\", line 237, in read\n",
      "    convert_stream_closed_error(self, e)\n",
      "  File \"/Users/sanjeevchauhan/miniforge3/envs/nersc2/lib/python3.11/site-packages/distributed/comm/tcp.py\", line 142, in convert_stream_closed_error\n",
      "    raise CommClosedError(f\"in {obj}: {exc}\") from exc\n",
      "distributed.comm.core.CommClosedError: in <TCP (closed) ConnectionPool.heartbeat_worker local=tcp://127.0.0.1:58711 remote=tcp://127.0.0.1:58685>: Stream is closed\n"
     ]
    },
    {
     "data": {
      "text/html": [
       "<pre style=\"white-space:pre;overflow-x:auto;line-height:normal;font-family:Menlo,'DejaVu Sans Mono',consolas,'Courier New',monospace\">16:08:09.898 | <span style=\"color: #008080; text-decoration-color: #008080\">INFO</span>    | distributed.core - Received 'close-stream' from tcp://127.0.0.1:58707; closing.\n",
       "</pre>\n"
      ],
      "text/plain": [
       "16:08:09.898 | \u001b[36mINFO\u001b[0m    | distributed.core - Received 'close-stream' from tcp://127.0.0.1:58707; closing.\n"
      ]
     },
     "metadata": {},
     "output_type": "display_data"
    },
    {
     "data": {
      "text/html": [
       "<pre style=\"white-space:pre;overflow-x:auto;line-height:normal;font-family:Menlo,'DejaVu Sans Mono',consolas,'Courier New',monospace\">16:08:09.899 | <span style=\"color: #008080; text-decoration-color: #008080\">INFO</span>    | distributed.scheduler - Remove worker &lt;WorkerState 'tcp://127.0.0.1:58703', name: 3, status: closing, memory: 0, processing: 0&gt; (stimulus_id='handle-worker-cleanup-1731992889.89936')\n",
       "</pre>\n"
      ],
      "text/plain": [
       "16:08:09.899 | \u001b[36mINFO\u001b[0m    | distributed.scheduler - Remove worker <WorkerState 'tcp://127.0.0.1:58703', name: 3, status: closing, memory: 0, processing: 0> (stimulus_id='handle-worker-cleanup-1731992889.89936')\n"
      ]
     },
     "metadata": {},
     "output_type": "display_data"
    },
    {
     "data": {
      "text/html": [
       "<pre style=\"white-space:pre;overflow-x:auto;line-height:normal;font-family:Menlo,'DejaVu Sans Mono',consolas,'Courier New',monospace\">16:08:09.900 | <span style=\"color: #008080; text-decoration-color: #008080\">INFO</span>    | distributed.scheduler - Lost all workers\n",
       "</pre>\n"
      ],
      "text/plain": [
       "16:08:09.900 | \u001b[36mINFO\u001b[0m    | distributed.scheduler - Lost all workers\n"
      ]
     },
     "metadata": {},
     "output_type": "display_data"
    },
    {
     "name": "stderr",
     "output_type": "stream",
     "text": [
      "16:08:11.435 | \u001b[36mINFO\u001b[0m    | prefect - Starting temporary server on \u001b[94mhttp://127.0.0.1:8640\u001b[0m\n",
      "See \u001b[94mhttps://docs.prefect.io/3.0/manage/self-host#self-host-a-prefect-server\u001b[0m for more information on running a dedicated Prefect server.\n",
      "16:08:11.445 | \u001b[36mINFO\u001b[0m    | prefect - Starting temporary server on \u001b[94mhttp://127.0.0.1:8593\u001b[0m\n",
      "See \u001b[94mhttps://docs.prefect.io/3.0/manage/self-host#self-host-a-prefect-server\u001b[0m for more information on running a dedicated Prefect server.\n",
      "16:08:11.489 | \u001b[36mINFO\u001b[0m    | prefect - Starting temporary server on \u001b[94mhttp://127.0.0.1:8844\u001b[0m\n",
      "See \u001b[94mhttps://docs.prefect.io/3.0/manage/self-host#self-host-a-prefect-server\u001b[0m for more information on running a dedicated Prefect server.\n",
      "16:08:11.511 | \u001b[36mINFO\u001b[0m    | prefect - Starting temporary server on \u001b[94mhttp://127.0.0.1:8483\u001b[0m\n",
      "See \u001b[94mhttps://docs.prefect.io/3.0/manage/self-host#self-host-a-prefect-server\u001b[0m for more information on running a dedicated Prefect server.\n"
     ]
    },
    {
     "data": {
      "text/html": [
       "<pre style=\"white-space:pre;overflow-x:auto;line-height:normal;font-family:Menlo,'DejaVu Sans Mono',consolas,'Courier New',monospace\">16:08:12.150 | <span style=\"color: #d7d700; text-decoration-color: #d7d700\">WARNING</span> | distributed.nanny - Worker process still alive after 3.1999992370605472 seconds, killing\n",
       "</pre>\n"
      ],
      "text/plain": [
       "16:08:12.150 | \u001b[38;5;184mWARNING\u001b[0m | distributed.nanny - Worker process still alive after 3.1999992370605472 seconds, killing\n"
      ]
     },
     "metadata": {},
     "output_type": "display_data"
    },
    {
     "data": {
      "text/html": [
       "<pre style=\"white-space:pre;overflow-x:auto;line-height:normal;font-family:Menlo,'DejaVu Sans Mono',consolas,'Courier New',monospace\">16:08:12.154 | <span style=\"color: #d7d700; text-decoration-color: #d7d700\">WARNING</span> | distributed.nanny - Worker process still alive after 3.2 seconds, killing\n",
       "</pre>\n"
      ],
      "text/plain": [
       "16:08:12.154 | \u001b[38;5;184mWARNING\u001b[0m | distributed.nanny - Worker process still alive after 3.2 seconds, killing\n"
      ]
     },
     "metadata": {},
     "output_type": "display_data"
    },
    {
     "data": {
      "text/html": [
       "<pre style=\"white-space:pre;overflow-x:auto;line-height:normal;font-family:Menlo,'DejaVu Sans Mono',consolas,'Courier New',monospace\">16:08:12.180 | <span style=\"color: #d7d700; text-decoration-color: #d7d700\">WARNING</span> | distributed.nanny - Worker process still alive after 3.2 seconds, killing\n",
       "</pre>\n"
      ],
      "text/plain": [
       "16:08:12.180 | \u001b[38;5;184mWARNING\u001b[0m | distributed.nanny - Worker process still alive after 3.2 seconds, killing\n"
      ]
     },
     "metadata": {},
     "output_type": "display_data"
    },
    {
     "data": {
      "text/html": [
       "<pre style=\"white-space:pre;overflow-x:auto;line-height:normal;font-family:Menlo,'DejaVu Sans Mono',consolas,'Courier New',monospace\">16:08:12.184 | <span style=\"color: #d7d700; text-decoration-color: #d7d700\">WARNING</span> | distributed.nanny - Worker process still alive after 3.2 seconds, killing\n",
       "</pre>\n"
      ],
      "text/plain": [
       "16:08:12.184 | \u001b[38;5;184mWARNING\u001b[0m | distributed.nanny - Worker process still alive after 3.2 seconds, killing\n"
      ]
     },
     "metadata": {},
     "output_type": "display_data"
    },
    {
     "data": {
      "text/html": [
       "<pre style=\"white-space:pre;overflow-x:auto;line-height:normal;font-family:Menlo,'DejaVu Sans Mono',consolas,'Courier New',monospace\">16:08:12.194 | <span style=\"color: #008080; text-decoration-color: #008080\">INFO</span>    | distributed.nanny - Worker process 67548 was killed by signal 9\n",
       "</pre>\n"
      ],
      "text/plain": [
       "16:08:12.194 | \u001b[36mINFO\u001b[0m    | distributed.nanny - Worker process 67548 was killed by signal 9\n"
      ]
     },
     "metadata": {},
     "output_type": "display_data"
    },
    {
     "data": {
      "text/html": [
       "<pre style=\"white-space:pre;overflow-x:auto;line-height:normal;font-family:Menlo,'DejaVu Sans Mono',consolas,'Courier New',monospace\">16:08:12.677 | <span style=\"color: #008080; text-decoration-color: #008080\">INFO</span>    | distributed.nanny - Worker process 67547 was killed by signal 9\n",
       "</pre>\n"
      ],
      "text/plain": [
       "16:08:12.677 | \u001b[36mINFO\u001b[0m    | distributed.nanny - Worker process 67547 was killed by signal 9\n"
      ]
     },
     "metadata": {},
     "output_type": "display_data"
    },
    {
     "data": {
      "text/html": [
       "<pre style=\"white-space:pre;overflow-x:auto;line-height:normal;font-family:Menlo,'DejaVu Sans Mono',consolas,'Courier New',monospace\">16:08:12.701 | <span style=\"color: #008080; text-decoration-color: #008080\">INFO</span>    | distributed.nanny - Worker process 67549 was killed by signal 9\n",
       "</pre>\n"
      ],
      "text/plain": [
       "16:08:12.701 | \u001b[36mINFO\u001b[0m    | distributed.nanny - Worker process 67549 was killed by signal 9\n"
      ]
     },
     "metadata": {},
     "output_type": "display_data"
    },
    {
     "data": {
      "text/html": [
       "<pre style=\"white-space:pre;overflow-x:auto;line-height:normal;font-family:Menlo,'DejaVu Sans Mono',consolas,'Courier New',monospace\">16:08:12.713 | <span style=\"color: #008080; text-decoration-color: #008080\">INFO</span>    | distributed.nanny - Worker process 67550 was killed by signal 9\n",
       "</pre>\n"
      ],
      "text/plain": [
       "16:08:12.713 | \u001b[36mINFO\u001b[0m    | distributed.nanny - Worker process 67550 was killed by signal 9\n"
      ]
     },
     "metadata": {},
     "output_type": "display_data"
    },
    {
     "data": {
      "text/html": [
       "<pre style=\"white-space:pre;overflow-x:auto;line-height:normal;font-family:Menlo,'DejaVu Sans Mono',consolas,'Courier New',monospace\">16:08:12.786 | <span style=\"color: #008080; text-decoration-color: #008080\">INFO</span>    | distributed.scheduler - Scheduler closing due to unknown reason...\n",
       "</pre>\n"
      ],
      "text/plain": [
       "16:08:12.786 | \u001b[36mINFO\u001b[0m    | distributed.scheduler - Scheduler closing due to unknown reason...\n"
      ]
     },
     "metadata": {},
     "output_type": "display_data"
    },
    {
     "data": {
      "text/html": [
       "<pre style=\"white-space:pre;overflow-x:auto;line-height:normal;font-family:Menlo,'DejaVu Sans Mono',consolas,'Courier New',monospace\">16:08:12.789 | <span style=\"color: #008080; text-decoration-color: #008080\">INFO</span>    | distributed.scheduler - Scheduler closing all comms\n",
       "</pre>\n"
      ],
      "text/plain": [
       "16:08:12.789 | \u001b[36mINFO\u001b[0m    | distributed.scheduler - Scheduler closing all comms\n"
      ]
     },
     "metadata": {},
     "output_type": "display_data"
    },
    {
     "data": {
      "text/html": [
       "<pre style=\"white-space:pre;overflow-x:auto;line-height:normal;font-family:Menlo,'DejaVu Sans Mono',consolas,'Courier New',monospace\">16:08:12.795 | <span style=\"color: #008080; text-decoration-color: #008080\">INFO</span>    | Flow run<span style=\"color: #800080; text-decoration-color: #800080\"> 'authentic-collie'</span> - Finished in state <span style=\"color: #008000; text-decoration-color: #008000\">Completed</span>()\n",
       "</pre>\n"
      ],
      "text/plain": [
       "16:08:12.795 | \u001b[36mINFO\u001b[0m    | Flow run\u001b[35m 'authentic-collie'\u001b[0m - Finished in state \u001b[32mCompleted\u001b[0m()\n"
      ]
     },
     "metadata": {},
     "output_type": "display_data"
    }
   ],
   "source": [
    "\n",
    "from prefect import flow, task\n",
    "from prefect_dask import DaskTaskRunner\n",
    "\n",
    "\n",
    "#only works when running on slac ip\n",
    "# prefect config set PREFECT_API_URL=\"https://ard-modeling-service.slac.stanford.edu/api\" \n",
    "\n",
    "# Define tasks\n",
    "@task\n",
    "def fetch_data(dataset: str) -> str:\n",
    "    \"\"\"\n",
    "    Simulate fetching data for a given dataset.\n",
    "    \"\"\"\n",
    "    print(f\"Fetching data for {dataset}\")\n",
    "    return f\"data_{dataset}\"\n",
    "\n",
    "@task\n",
    "def process_data(data: str) -> str:\n",
    "    \"\"\"\n",
    "    Simulate processing of data.\n",
    "    \"\"\"\n",
    "    print(f\"Processing {data}\")\n",
    "    return f\"processed_{data}\"\n",
    "\n",
    "@task\n",
    "def save_results(result: str) -> None:\n",
    "    \"\"\"\n",
    "    Simulate saving processed data.\n",
    "    \"\"\"\n",
    "    print(f\"Saving {result}\")\n",
    "\n",
    "# Define flow\n",
    "@flow(task_runner=DaskTaskRunner())\n",
    "def parallel_workflow(datasets: list):\n",
    "    \"\"\"\n",
    "    A workflow that fetches, processes, and saves datasets in parallel.\n",
    "    \"\"\"\n",
    "    # Fetch data in parallel\n",
    "    raw_data = [fetch_data.submit(dataset) for dataset in datasets]\n",
    "    \n",
    "    # Process data in parallel\n",
    "    processed_data = [process_data.submit(data) for data in raw_data]\n",
    "    \n",
    "    # Save results in parallel\n",
    "    [save_results.submit(result) for result in processed_data]\n",
    "\n",
    "\n",
    "\n",
    "datasets = [\"dataset1\", \"dataset2\", \"dataset3\", \"dataset4\"]\n",
    "parallel_workflow(datasets)"
   ]
  }
 ],
 "metadata": {
  "kernelspec": {
   "display_name": "nersc2",
   "language": "python",
   "name": "python3"
  },
  "language_info": {
   "codemirror_mode": {
    "name": "ipython",
    "version": 3
   },
   "file_extension": ".py",
   "mimetype": "text/x-python",
   "name": "python",
   "nbconvert_exporter": "python",
   "pygments_lexer": "ipython3",
   "version": "3.11.7"
  }
 },
 "nbformat": 4,
 "nbformat_minor": 2
}
