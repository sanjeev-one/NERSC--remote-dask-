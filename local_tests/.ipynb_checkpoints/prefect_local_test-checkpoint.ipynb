{
 "cells": [
  {
   "cell_type": "code",
   "execution_count": null,
   "metadata": {},
   "outputs": [
    {
     "name": "stdout",
     "output_type": "stream",
     "text": [
      "Requirement already satisfied: prefect==2.14.2 in /Users/sanjeevchauhan/.pyenv/versions/3.11.0/lib/python3.11/site-packages (2.14.2)\n",
      "Requirement already satisfied: aiosqlite>=0.17.0 in /Users/sanjeevchauhan/.pyenv/versions/3.11.0/lib/python3.11/site-packages (from prefect==2.14.2) (0.20.0)\n",
      "Requirement already satisfied: alembic<2.0.0,>=1.7.5 in /Users/sanjeevchauhan/.pyenv/versions/3.11.0/lib/python3.11/site-packages (from prefect==2.14.2) (1.14.0)\n",
      "Requirement already satisfied: apprise<2.0.0,>=1.1.0 in /Users/sanjeevchauhan/.pyenv/versions/3.11.0/lib/python3.11/site-packages (from prefect==2.14.2) (1.9.0)\n",
      "Requirement already satisfied: asyncpg>=0.23 in /Users/sanjeevchauhan/.pyenv/versions/3.11.0/lib/python3.11/site-packages (from prefect==2.14.2) (0.30.0)\n",
      "Requirement already satisfied: click<8.2,>=8.0 in /Users/sanjeevchauhan/.pyenv/versions/3.11.0/lib/python3.11/site-packages (from prefect==2.14.2) (8.1.7)\n",
      "Requirement already satisfied: cryptography>=36.0.1 in /Users/sanjeevchauhan/.pyenv/versions/3.11.0/lib/python3.11/site-packages (from prefect==2.14.2) (43.0.3)\n",
      "Requirement already satisfied: dateparser<2.0.0,>=1.1.1 in /Users/sanjeevchauhan/.pyenv/versions/3.11.0/lib/python3.11/site-packages (from prefect==2.14.2) (1.2.0)\n",
      "Requirement already satisfied: docker<7.0,>=4.0 in /Users/sanjeevchauhan/.pyenv/versions/3.11.0/lib/python3.11/site-packages (from prefect==2.14.2) (6.1.3)\n",
      "Requirement already satisfied: graphviz>=0.20.1 in /Users/sanjeevchauhan/.pyenv/versions/3.11.0/lib/python3.11/site-packages (from prefect==2.14.2) (0.20.3)\n",
      "Requirement already satisfied: griffe>=0.20.0 in /Users/sanjeevchauhan/.pyenv/versions/3.11.0/lib/python3.11/site-packages (from prefect==2.14.2) (1.5.1)\n",
      "Requirement already satisfied: jinja2<4.0.0,>=3.0.0 in /Users/sanjeevchauhan/.pyenv/versions/3.11.0/lib/python3.11/site-packages (from prefect==2.14.2) (3.1.3)\n",
      "Requirement already satisfied: kubernetes<29.0.0,>=24.2.0 in /Users/sanjeevchauhan/.pyenv/versions/3.11.0/lib/python3.11/site-packages (from prefect==2.14.2) (28.1.0)\n",
      "Requirement already satisfied: pytz<2024,>=2021.1 in /Users/sanjeevchauhan/.pyenv/versions/3.11.0/lib/python3.11/site-packages (from prefect==2.14.2) (2023.4)\n",
      "Requirement already satisfied: readchar<5.0.0,>=4.0.0 in /Users/sanjeevchauhan/.pyenv/versions/3.11.0/lib/python3.11/site-packages (from prefect==2.14.2) (4.2.1)\n",
      "Requirement already satisfied: sqlalchemy!=1.4.33,<3.0.0,>=1.4.22 in /Users/sanjeevchauhan/.pyenv/versions/3.11.0/lib/python3.11/site-packages (from sqlalchemy[asyncio]!=1.4.33,<3.0.0,>=1.4.22->prefect==2.14.2) (2.0.36)\n",
      "Requirement already satisfied: typer>=0.4.2 in /Users/sanjeevchauhan/.pyenv/versions/3.11.0/lib/python3.11/site-packages (from prefect==2.14.2) (0.13.1)\n",
      "Requirement already satisfied: anyio<4.0.0,>=3.7.1 in /Users/sanjeevchauhan/.pyenv/versions/3.11.0/lib/python3.11/site-packages (from prefect==2.14.2) (3.7.1)\n",
      "Requirement already satisfied: asgi-lifespan<3.0,>=1.0 in /Users/sanjeevchauhan/.pyenv/versions/3.11.0/lib/python3.11/site-packages (from prefect==2.14.2) (2.1.0)\n",
      "Requirement already satisfied: cloudpickle<3.0,>=2.0 in /Users/sanjeevchauhan/.pyenv/versions/3.11.0/lib/python3.11/site-packages (from prefect==2.14.2) (2.2.1)\n",
      "Requirement already satisfied: coolname<3.0.0,>=1.0.4 in /Users/sanjeevchauhan/.pyenv/versions/3.11.0/lib/python3.11/site-packages (from prefect==2.14.2) (2.2.0)\n",
      "Requirement already satisfied: croniter<2.0.0,>=1.0.12 in /Users/sanjeevchauhan/.pyenv/versions/3.11.0/lib/python3.11/site-packages (from prefect==2.14.2) (1.4.1)\n",
      "Requirement already satisfied: fsspec>=2022.5.0 in /Users/sanjeevchauhan/.pyenv/versions/3.11.0/lib/python3.11/site-packages (from prefect==2.14.2) (2024.3.1)\n",
      "Requirement already satisfied: httpcore<2.0.0,>=0.15.0 in /Users/sanjeevchauhan/.pyenv/versions/3.11.0/lib/python3.11/site-packages (from prefect==2.14.2) (1.0.6)\n",
      "Requirement already satisfied: httpx!=0.23.2,>=0.23 in /Users/sanjeevchauhan/.pyenv/versions/3.11.0/lib/python3.11/site-packages (from httpx[http2]!=0.23.2,>=0.23->prefect==2.14.2) (0.27.2)\n",
      "Requirement already satisfied: jsonpatch<2.0,>=1.32 in /Users/sanjeevchauhan/.pyenv/versions/3.11.0/lib/python3.11/site-packages (from prefect==2.14.2) (1.33)\n",
      "Requirement already satisfied: jsonschema<5.0.0,>=3.2.0 in /Users/sanjeevchauhan/.pyenv/versions/3.11.0/lib/python3.11/site-packages (from prefect==2.14.2) (4.21.1)\n",
      "Requirement already satisfied: orjson<4.0,>=3.7 in /Users/sanjeevchauhan/.pyenv/versions/3.11.0/lib/python3.11/site-packages (from prefect==2.14.2) (3.10.11)\n",
      "Requirement already satisfied: packaging<24.3,>=21.3 in /Users/sanjeevchauhan/.pyenv/versions/3.11.0/lib/python3.11/site-packages (from prefect==2.14.2) (24.0)\n",
      "Requirement already satisfied: pathspec>=0.8.0 in /Users/sanjeevchauhan/.pyenv/versions/3.11.0/lib/python3.11/site-packages (from prefect==2.14.2) (0.12.1)\n",
      "Requirement already satisfied: pendulum<3.0.0,>=2.1.2 in /Users/sanjeevchauhan/.pyenv/versions/3.11.0/lib/python3.11/site-packages (from prefect==2.14.2) (2.1.2)\n",
      "Requirement already satisfied: pydantic!=2.0.0,!=2.0.1,!=2.1.0,<3.0.0,>=1.10.0 in /Users/sanjeevchauhan/.pyenv/versions/3.11.0/lib/python3.11/site-packages (from pydantic[email]!=2.0.0,!=2.0.1,!=2.1.0,<3.0.0,>=1.10.0->prefect==2.14.2) (2.9.2)\n",
      "Requirement already satisfied: python-dateutil<3.0.0,>=2.8.2 in /Users/sanjeevchauhan/.pyenv/versions/3.11.0/lib/python3.11/site-packages (from prefect==2.14.2) (2.9.0.post0)\n",
      "Requirement already satisfied: python-slugify<9.0,>=5.0 in /Users/sanjeevchauhan/.pyenv/versions/3.11.0/lib/python3.11/site-packages (from prefect==2.14.2) (8.0.4)\n",
      "Requirement already satisfied: pyyaml<7.0.0,>=5.4.1 in /Users/sanjeevchauhan/.pyenv/versions/3.11.0/lib/python3.11/site-packages (from prefect==2.14.2) (6.0.1)\n",
      "Requirement already satisfied: rich<14.0,>=11.0 in /Users/sanjeevchauhan/.pyenv/versions/3.11.0/lib/python3.11/site-packages (from prefect==2.14.2) (13.7.1)\n",
      "Requirement already satisfied: ruamel.yaml>=0.17.0 in /Users/sanjeevchauhan/.pyenv/versions/3.11.0/lib/python3.11/site-packages (from prefect==2.14.2) (0.18.6)\n",
      "Requirement already satisfied: sniffio<2.0.0,>=1.3.0 in /Users/sanjeevchauhan/.pyenv/versions/3.11.0/lib/python3.11/site-packages (from prefect==2.14.2) (1.3.1)\n",
      "Requirement already satisfied: starlette<0.28.0,>=0.27.0 in /Users/sanjeevchauhan/.pyenv/versions/3.11.0/lib/python3.11/site-packages (from prefect==2.14.2) (0.27.0)\n",
      "Requirement already satisfied: toml>=0.10.0 in /Users/sanjeevchauhan/.pyenv/versions/3.11.0/lib/python3.11/site-packages (from prefect==2.14.2) (0.10.2)\n",
      "Requirement already satisfied: typing-extensions<5.0.0,>=4.5.0 in /Users/sanjeevchauhan/.pyenv/versions/3.11.0/lib/python3.11/site-packages (from prefect==2.14.2) (4.11.0)\n",
      "Requirement already satisfied: ujson<6.0.0,>=5.8.0 in /Users/sanjeevchauhan/.pyenv/versions/3.11.0/lib/python3.11/site-packages (from prefect==2.14.2) (5.10.0)\n",
      "Requirement already satisfied: uvicorn>=0.14.0 in /Users/sanjeevchauhan/.pyenv/versions/3.11.0/lib/python3.11/site-packages (from prefect==2.14.2) (0.32.0)\n",
      "Requirement already satisfied: websockets<12.0,>=10.4 in /Users/sanjeevchauhan/.pyenv/versions/3.11.0/lib/python3.11/site-packages (from prefect==2.14.2) (11.0.3)\n",
      "Requirement already satisfied: Mako in /Users/sanjeevchauhan/.pyenv/versions/3.11.0/lib/python3.11/site-packages (from alembic<2.0.0,>=1.7.5->prefect==2.14.2) (1.3.6)\n",
      "Requirement already satisfied: idna>=2.8 in /Users/sanjeevchauhan/.pyenv/versions/3.11.0/lib/python3.11/site-packages (from anyio<4.0.0,>=3.7.1->prefect==2.14.2) (3.7)\n",
      "Requirement already satisfied: certifi in /Users/sanjeevchauhan/.pyenv/versions/3.11.0/lib/python3.11/site-packages (from apprise<2.0.0,>=1.1.0->prefect==2.14.2) (2024.2.2)\n",
      "Requirement already satisfied: requests in /Users/sanjeevchauhan/.pyenv/versions/3.11.0/lib/python3.11/site-packages (from apprise<2.0.0,>=1.1.0->prefect==2.14.2) (2.32.3)\n",
      "Requirement already satisfied: requests-oauthlib in /Users/sanjeevchauhan/.pyenv/versions/3.11.0/lib/python3.11/site-packages (from apprise<2.0.0,>=1.1.0->prefect==2.14.2) (1.3.1)\n",
      "Requirement already satisfied: markdown in /Users/sanjeevchauhan/.pyenv/versions/3.11.0/lib/python3.11/site-packages (from apprise<2.0.0,>=1.1.0->prefect==2.14.2) (3.7)\n",
      "Requirement already satisfied: cffi>=1.12 in /Users/sanjeevchauhan/.pyenv/versions/3.11.0/lib/python3.11/site-packages (from cryptography>=36.0.1->prefect==2.14.2) (1.17.1)\n",
      "Requirement already satisfied: regex!=2019.02.19,!=2021.8.27 in /Users/sanjeevchauhan/.pyenv/versions/3.11.0/lib/python3.11/site-packages (from dateparser<2.0.0,>=1.1.1->prefect==2.14.2) (2023.12.25)\n",
      "Requirement already satisfied: tzlocal in /Users/sanjeevchauhan/.pyenv/versions/3.11.0/lib/python3.11/site-packages (from dateparser<2.0.0,>=1.1.1->prefect==2.14.2) (5.2)\n",
      "Requirement already satisfied: urllib3>=1.26.0 in /Users/sanjeevchauhan/.pyenv/versions/3.11.0/lib/python3.11/site-packages (from docker<7.0,>=4.0->prefect==2.14.2) (1.26.20)\n",
      "Requirement already satisfied: websocket-client>=0.32.0 in /Users/sanjeevchauhan/.pyenv/versions/3.11.0/lib/python3.11/site-packages (from docker<7.0,>=4.0->prefect==2.14.2) (1.8.0)\n",
      "Requirement already satisfied: colorama>=0.4 in /Users/sanjeevchauhan/.pyenv/versions/3.11.0/lib/python3.11/site-packages (from griffe>=0.20.0->prefect==2.14.2) (0.4.6)\n",
      "Requirement already satisfied: h11<0.15,>=0.13 in /Users/sanjeevchauhan/.pyenv/versions/3.11.0/lib/python3.11/site-packages (from httpcore<2.0.0,>=0.15.0->prefect==2.14.2) (0.14.0)\n",
      "Requirement already satisfied: h2<5,>=3 in /Users/sanjeevchauhan/.pyenv/versions/3.11.0/lib/python3.11/site-packages (from httpx[http2]!=0.23.2,>=0.23->prefect==2.14.2) (4.1.0)\n",
      "Requirement already satisfied: MarkupSafe>=2.0 in /Users/sanjeevchauhan/.pyenv/versions/3.11.0/lib/python3.11/site-packages (from jinja2<4.0.0,>=3.0.0->prefect==2.14.2) (2.1.5)\n",
      "Requirement already satisfied: jsonpointer>=1.9 in /Users/sanjeevchauhan/.pyenv/versions/3.11.0/lib/python3.11/site-packages (from jsonpatch<2.0,>=1.32->prefect==2.14.2) (3.0.0)\n",
      "Requirement already satisfied: attrs>=22.2.0 in /Users/sanjeevchauhan/.pyenv/versions/3.11.0/lib/python3.11/site-packages (from jsonschema<5.0.0,>=3.2.0->prefect==2.14.2) (23.2.0)\n",
      "Requirement already satisfied: jsonschema-specifications>=2023.03.6 in /Users/sanjeevchauhan/.pyenv/versions/3.11.0/lib/python3.11/site-packages (from jsonschema<5.0.0,>=3.2.0->prefect==2.14.2) (2023.12.1)\n",
      "Requirement already satisfied: referencing>=0.28.4 in /Users/sanjeevchauhan/.pyenv/versions/3.11.0/lib/python3.11/site-packages (from jsonschema<5.0.0,>=3.2.0->prefect==2.14.2) (0.34.0)\n",
      "Requirement already satisfied: rpds-py>=0.7.1 in /Users/sanjeevchauhan/.pyenv/versions/3.11.0/lib/python3.11/site-packages (from jsonschema<5.0.0,>=3.2.0->prefect==2.14.2) (0.18.0)\n",
      "Requirement already satisfied: six>=1.9.0 in /Users/sanjeevchauhan/.pyenv/versions/3.11.0/lib/python3.11/site-packages (from kubernetes<29.0.0,>=24.2.0->prefect==2.14.2) (1.16.0)\n",
      "Requirement already satisfied: google-auth>=1.0.1 in /Users/sanjeevchauhan/.pyenv/versions/3.11.0/lib/python3.11/site-packages (from kubernetes<29.0.0,>=24.2.0->prefect==2.14.2) (2.35.0)\n",
      "Requirement already satisfied: oauthlib>=3.2.2 in /Users/sanjeevchauhan/.pyenv/versions/3.11.0/lib/python3.11/site-packages (from kubernetes<29.0.0,>=24.2.0->prefect==2.14.2) (3.2.2)\n",
      "Requirement already satisfied: pytzdata>=2020.1 in /Users/sanjeevchauhan/.pyenv/versions/3.11.0/lib/python3.11/site-packages (from pendulum<3.0.0,>=2.1.2->prefect==2.14.2) (2020.1)\n",
      "Requirement already satisfied: annotated-types>=0.6.0 in /Users/sanjeevchauhan/.pyenv/versions/3.11.0/lib/python3.11/site-packages (from pydantic!=2.0.0,!=2.0.1,!=2.1.0,<3.0.0,>=1.10.0->pydantic[email]!=2.0.0,!=2.0.1,!=2.1.0,<3.0.0,>=1.10.0->prefect==2.14.2) (0.7.0)\n",
      "Requirement already satisfied: pydantic-core==2.23.4 in /Users/sanjeevchauhan/.pyenv/versions/3.11.0/lib/python3.11/site-packages (from pydantic!=2.0.0,!=2.0.1,!=2.1.0,<3.0.0,>=1.10.0->pydantic[email]!=2.0.0,!=2.0.1,!=2.1.0,<3.0.0,>=1.10.0->prefect==2.14.2) (2.23.4)\n",
      "Requirement already satisfied: email-validator>=2.0.0 in /Users/sanjeevchauhan/.pyenv/versions/3.11.0/lib/python3.11/site-packages (from pydantic[email]!=2.0.0,!=2.0.1,!=2.1.0,<3.0.0,>=1.10.0->prefect==2.14.2) (2.2.0)\n",
      "Requirement already satisfied: text-unidecode>=1.3 in /Users/sanjeevchauhan/.pyenv/versions/3.11.0/lib/python3.11/site-packages (from python-slugify<9.0,>=5.0->prefect==2.14.2) (1.3)\n",
      "Requirement already satisfied: markdown-it-py>=2.2.0 in /Users/sanjeevchauhan/.pyenv/versions/3.11.0/lib/python3.11/site-packages (from rich<14.0,>=11.0->prefect==2.14.2) (3.0.0)\n",
      "Requirement already satisfied: pygments<3.0.0,>=2.13.0 in /Users/sanjeevchauhan/.pyenv/versions/3.11.0/lib/python3.11/site-packages (from rich<14.0,>=11.0->prefect==2.14.2) (2.17.2)\n",
      "Requirement already satisfied: ruamel.yaml.clib>=0.2.7 in /Users/sanjeevchauhan/.pyenv/versions/3.11.0/lib/python3.11/site-packages (from ruamel.yaml>=0.17.0->prefect==2.14.2) (0.2.12)\n",
      "Requirement already satisfied: greenlet!=0.4.17 in /Users/sanjeevchauhan/.pyenv/versions/3.11.0/lib/python3.11/site-packages (from sqlalchemy[asyncio]!=1.4.33,<3.0.0,>=1.4.22->prefect==2.14.2) (3.1.1)\n",
      "Requirement already satisfied: shellingham>=1.3.0 in /Users/sanjeevchauhan/.pyenv/versions/3.11.0/lib/python3.11/site-packages (from typer>=0.4.2->prefect==2.14.2) (1.5.4)\n",
      "Requirement already satisfied: pycparser in /Users/sanjeevchauhan/.pyenv/versions/3.11.0/lib/python3.11/site-packages (from cffi>=1.12->cryptography>=36.0.1->prefect==2.14.2) (2.22)\n",
      "Requirement already satisfied: dnspython>=2.0.0 in /Users/sanjeevchauhan/.pyenv/versions/3.11.0/lib/python3.11/site-packages (from email-validator>=2.0.0->pydantic[email]!=2.0.0,!=2.0.1,!=2.1.0,<3.0.0,>=1.10.0->prefect==2.14.2) (2.7.0)\n",
      "Requirement already satisfied: cachetools<6.0,>=2.0.0 in /Users/sanjeevchauhan/.pyenv/versions/3.11.0/lib/python3.11/site-packages (from google-auth>=1.0.1->kubernetes<29.0.0,>=24.2.0->prefect==2.14.2) (5.3.3)\n",
      "Requirement already satisfied: pyasn1-modules>=0.2.1 in /Users/sanjeevchauhan/.pyenv/versions/3.11.0/lib/python3.11/site-packages (from google-auth>=1.0.1->kubernetes<29.0.0,>=24.2.0->prefect==2.14.2) (0.4.1)\n",
      "Requirement already satisfied: rsa<5,>=3.1.4 in /Users/sanjeevchauhan/.pyenv/versions/3.11.0/lib/python3.11/site-packages (from google-auth>=1.0.1->kubernetes<29.0.0,>=24.2.0->prefect==2.14.2) (4.9)\n",
      "Requirement already satisfied: hyperframe<7,>=6.0 in /Users/sanjeevchauhan/.pyenv/versions/3.11.0/lib/python3.11/site-packages (from h2<5,>=3->httpx[http2]!=0.23.2,>=0.23->prefect==2.14.2) (6.0.1)\n",
      "Requirement already satisfied: hpack<5,>=4.0 in /Users/sanjeevchauhan/.pyenv/versions/3.11.0/lib/python3.11/site-packages (from h2<5,>=3->httpx[http2]!=0.23.2,>=0.23->prefect==2.14.2) (4.0.0)\n",
      "Requirement already satisfied: mdurl~=0.1 in /Users/sanjeevchauhan/.pyenv/versions/3.11.0/lib/python3.11/site-packages (from markdown-it-py>=2.2.0->rich<14.0,>=11.0->prefect==2.14.2) (0.1.2)\n",
      "Requirement already satisfied: charset-normalizer<4,>=2 in /Users/sanjeevchauhan/.pyenv/versions/3.11.0/lib/python3.11/site-packages (from requests->apprise<2.0.0,>=1.1.0->prefect==2.14.2) (3.3.2)\n",
      "Requirement already satisfied: pyasn1<0.7.0,>=0.4.6 in /Users/sanjeevchauhan/.pyenv/versions/3.11.0/lib/python3.11/site-packages (from pyasn1-modules>=0.2.1->google-auth>=1.0.1->kubernetes<29.0.0,>=24.2.0->prefect==2.14.2) (0.6.1)\n"
     ]
    }
   ],
   "source": [
    "from dask.distributed import Client, progress\n",
    "# Connect to the Dask cluster\n",
    "client = Client('localhost:8786')\n",
    "\n",
    "# Display the client details\n",
    "print(client)\n",
    "\n",
    "# Optionally, print the dashboard link\n",
    "print(f\"Dask dashboard available at: {client.dashboard_link}\")\n"
   ]
  },
  {
   "cell_type": "code",
   "execution_count": null,
   "metadata": {},
   "outputs": [],
   "source": [
    "\n",
    "from prefect import flow, task\n",
    "from prefect_dask import DaskTaskRunner\n",
    "\n",
    "\n",
    "#only works when running on slac ip\n",
    "# prefect config set PREFECT_API_URL=\"https://ard-modeling-service.slac.stanford.edu/api\" \n",
    "\n",
    "# Define tasks\n",
    "@task\n",
    "def fetch_data(dataset: str) -> str:\n",
    "    \"\"\"\n",
    "    Simulate fetching data for a given dataset.\n",
    "    \"\"\"\n",
    "    print(f\"Fetching data for {dataset}\")\n",
    "    return f\"data_{dataset}\"\n",
    "\n",
    "@task\n",
    "def process_data(data: str) -> str:\n",
    "    \"\"\"\n",
    "    Simulate processing of data.\n",
    "    \"\"\"\n",
    "    print(f\"Processing {data}\")\n",
    "    return f\"processed_{data}\"\n",
    "\n",
    "@task\n",
    "def save_results(result: str) -> None:\n",
    "    \"\"\"\n",
    "    Simulate saving processed data.\n",
    "    \"\"\"\n",
    "    print(f\"Saving {result}\")\n",
    "\n",
    "# Define flow\n",
    "@flow(task_runner=DaskTaskRunner(address=\"tcp://localhost:8786\"))\n",
    "def parallel_workflow(datasets: list):\n",
    "    \"\"\"\n",
    "    A workflow that fetches, processes, and saves datasets in parallel.\n",
    "    \"\"\"\n",
    "    # Fetch data in parallel\n",
    "    raw_data = [fetch_data.submit(dataset) for dataset in datasets]\n",
    "    \n",
    "    # Process data in parallel\n",
    "    processed_data = [process_data.submit(data) for data in raw_data]\n",
    "    \n",
    "    # Save results in parallel\n",
    "    [save_results.submit(result) for result in processed_data]\n",
    "\n",
    "# List of datasets\n",
    "datasets = [\"dataset1\", \"dataset2\", \"dataset3\", \"dataset4\"]\n",
    "\n",
    "# Run the workflow\n",
    "parallel_workflow(datasets)"
   ]
  },
  {
   "cell_type": "code",
   "execution_count": 19,
   "metadata": {},
   "outputs": [
    {
     "data": {
      "text/html": [
       "<pre style=\"white-space:pre;overflow-x:auto;line-height:normal;font-family:Menlo,'DejaVu Sans Mono',consolas,'Courier New',monospace\">17:35:29.716 | <span style=\"color: #008080; text-decoration-color: #008080\">INFO</span>    | prefect.engine - Created flow run<span style=\"color: #800080; text-decoration-color: #800080\"> 'courageous-wrasse'</span> for flow<span style=\"color: #800080; text-decoration-color: #800080; font-weight: bold\"> 'dask-flow'</span>\n",
       "</pre>\n"
      ],
      "text/plain": [
       "17:35:29.716 | \u001b[36mINFO\u001b[0m    | prefect.engine - Created flow run\u001b[35m 'courageous-wrasse'\u001b[0m for flow\u001b[1;35m 'dask-flow'\u001b[0m\n"
      ]
     },
     "metadata": {},
     "output_type": "display_data"
    },
    {
     "data": {
      "text/html": [
       "<pre style=\"white-space:pre;overflow-x:auto;line-height:normal;font-family:Menlo,'DejaVu Sans Mono',consolas,'Courier New',monospace\">17:35:29.787 | <span style=\"color: #008080; text-decoration-color: #008080\">INFO</span>    | prefect.task_runner.dask - Connecting to an existing Dask cluster at tcp://localhost:8786\n",
       "</pre>\n"
      ],
      "text/plain": [
       "17:35:29.787 | \u001b[36mINFO\u001b[0m    | prefect.task_runner.dask - Connecting to an existing Dask cluster at tcp://localhost:8786\n"
      ]
     },
     "metadata": {},
     "output_type": "display_data"
    },
    {
     "data": {
      "text/html": [
       "<pre style=\"white-space:pre;overflow-x:auto;line-height:normal;font-family:Menlo,'DejaVu Sans Mono',consolas,'Courier New',monospace\">17:35:32.147 | <span style=\"color: #d70000; text-decoration-color: #d70000\">ERROR</span>   | Flow run<span style=\"color: #800080; text-decoration-color: #800080\"> 'courageous-wrasse'</span> - Encountered exception during execution: RuntimeError('Found incompatible versions: client: 3.1.2, server: 2.14.2. Major versions must match.')\n",
       "Traceback (most recent call last):\n",
       "  File \"/Users/sanjeevchauhan/miniforge3/envs/local_nersc/lib/python3.11/site-packages/prefect/flow_engine.py\", line 655, in run_context\n",
       "    yield self\n",
       "  File \"/Users/sanjeevchauhan/miniforge3/envs/local_nersc/lib/python3.11/site-packages/prefect/flow_engine.py\", line 699, in run_flow_sync\n",
       "    engine.call_flow_fn()\n",
       "  File \"/Users/sanjeevchauhan/miniforge3/envs/local_nersc/lib/python3.11/site-packages/prefect/flow_engine.py\", line 678, in call_flow_fn\n",
       "    result = call_with_parameters(self.flow.fn, self.parameters)\n",
       "             ^^^^^^^^^^^^^^^^^^^^^^^^^^^^^^^^^^^^^^^^^^^^^^^^^^^\n",
       "  File \"/Users/sanjeevchauhan/miniforge3/envs/local_nersc/lib/python3.11/site-packages/prefect/utilities/callables.py\", line 206, in call_with_parameters\n",
       "    return fn(*args, **kwargs)\n",
       "           ^^^^^^^^^^^^^^^^^^^\n",
       "  File \"/var/folders/mb/7p627zbj11v_2ym8j0sj95tw0000gn/T/ipykernel_76289/2766255537.py\", line 15, in dask_flow\n",
       "    return prefect_future.result()\n",
       "           ^^^^^^^^^^^^^^^^^^^^^^^\n",
       "  File \"/Users/sanjeevchauhan/miniforge3/envs/local_nersc/lib/python3.11/site-packages/prefect_dask/task_runners.py\", line 132, in result\n",
       "    future_result = self._wrapped_future.result(timeout=timeout)\n",
       "                    ^^^^^^^^^^^^^^^^^^^^^^^^^^^^^^^^^^^^^^^^^^^^\n",
       "  File \"/Users/sanjeevchauhan/miniforge3/envs/local_nersc/lib/python3.11/site-packages/distributed/client.py\", line 322, in result\n",
       "    return self.client.sync(self._result, callback_timeout=timeout)\n",
       "           ^^^^^^^^^^^^^^^^^^^^^^^^^^^^^^^^^^^^^^^^^^^^^^^^^^^^^^^^\n",
       "  File \"/Users/sanjeevchauhan/miniforge3/envs/local_nersc/lib/python3.11/site-packages/prefect_dask/client.py\", line 62, in wrapper_func\n",
       "    return run_task_sync(*args, **kwargs)\n",
       "    ^^^^^^^^^^^^^^^^^\n",
       "  File \"/global/homes/s/sanjeevc/.conda/envs/sfapi_dask_env/lib/python3.11/site-packages/prefect/task_engine.py\", line 1333, in run_task_sync\n",
       "  File \"/global/homes/s/sanjeevc/.conda/envs/sfapi_dask_env/lib/python3.11/contextlib.py\", line 137, in __enter__\n",
       "  File \"/global/homes/s/sanjeevc/.conda/envs/sfapi_dask_env/lib/python3.11/site-packages/prefect/task_engine.py\", line 732, in start\n",
       "  File \"/global/homes/s/sanjeevc/.conda/envs/sfapi_dask_env/lib/python3.11/contextlib.py\", line 137, in __enter__\n",
       "  File \"/global/homes/s/sanjeevc/.conda/envs/sfapi_dask_env/lib/python3.11/site-packages/prefect/task_engine.py\", line 655, in initialize_run\n",
       "  File \"/global/homes/s/sanjeevc/.conda/envs/sfapi_dask_env/lib/python3.11/contextlib.py\", line 137, in __enter__\n",
       "  File \"/global/homes/s/sanjeevc/.conda/envs/sfapi_dask_env/lib/python3.11/site-packages/prefect/context.py\", line 236, in get_or_create\n",
       "  File \"/global/homes/s/sanjeevc/.conda/envs/sfapi_dask_env/lib/python3.11/site-packages/prefect/context.py\", line 218, in __enter__\n",
       "  File \"/global/homes/s/sanjeevc/.conda/envs/sfapi_dask_env/lib/python3.11/site-packages/prefect/client/orchestration.py\", line 3744, in raise_for_api_version_mismatch\n",
       "RuntimeError: Found incompatible versions: client: 3.1.2, server: 2.14.2. Major versions must match.\n",
       "</pre>\n"
      ],
      "text/plain": [
       "17:35:32.147 | \u001b[38;5;160mERROR\u001b[0m   | Flow run\u001b[35m 'courageous-wrasse'\u001b[0m - Encountered exception during execution: RuntimeError('Found incompatible versions: client: 3.1.2, server: 2.14.2. Major versions must match.')\n",
       "Traceback (most recent call last):\n",
       "  File \"/Users/sanjeevchauhan/miniforge3/envs/local_nersc/lib/python3.11/site-packages/prefect/flow_engine.py\", line 655, in run_context\n",
       "    yield self\n",
       "  File \"/Users/sanjeevchauhan/miniforge3/envs/local_nersc/lib/python3.11/site-packages/prefect/flow_engine.py\", line 699, in run_flow_sync\n",
       "    engine.call_flow_fn()\n",
       "  File \"/Users/sanjeevchauhan/miniforge3/envs/local_nersc/lib/python3.11/site-packages/prefect/flow_engine.py\", line 678, in call_flow_fn\n",
       "    result = call_with_parameters(self.flow.fn, self.parameters)\n",
       "             ^^^^^^^^^^^^^^^^^^^^^^^^^^^^^^^^^^^^^^^^^^^^^^^^^^^\n",
       "  File \"/Users/sanjeevchauhan/miniforge3/envs/local_nersc/lib/python3.11/site-packages/prefect/utilities/callables.py\", line 206, in call_with_parameters\n",
       "    return fn(*args, **kwargs)\n",
       "           ^^^^^^^^^^^^^^^^^^^\n",
       "  File \"/var/folders/mb/7p627zbj11v_2ym8j0sj95tw0000gn/T/ipykernel_76289/2766255537.py\", line 15, in dask_flow\n",
       "    return prefect_future.result()\n",
       "           ^^^^^^^^^^^^^^^^^^^^^^^\n",
       "  File \"/Users/sanjeevchauhan/miniforge3/envs/local_nersc/lib/python3.11/site-packages/prefect_dask/task_runners.py\", line 132, in result\n",
       "    future_result = self._wrapped_future.result(timeout=timeout)\n",
       "                    ^^^^^^^^^^^^^^^^^^^^^^^^^^^^^^^^^^^^^^^^^^^^\n",
       "  File \"/Users/sanjeevchauhan/miniforge3/envs/local_nersc/lib/python3.11/site-packages/distributed/client.py\", line 322, in result\n",
       "    return self.client.sync(self._result, callback_timeout=timeout)\n",
       "           ^^^^^^^^^^^^^^^^^^^^^^^^^^^^^^^^^^^^^^^^^^^^^^^^^^^^^^^^\n",
       "  File \"/Users/sanjeevchauhan/miniforge3/envs/local_nersc/lib/python3.11/site-packages/prefect_dask/client.py\", line 62, in wrapper_func\n",
       "    return run_task_sync(*args, **kwargs)\n",
       "    ^^^^^^^^^^^^^^^^^\n",
       "  File \"/global/homes/s/sanjeevc/.conda/envs/sfapi_dask_env/lib/python3.11/site-packages/prefect/task_engine.py\", line 1333, in run_task_sync\n",
       "  File \"/global/homes/s/sanjeevc/.conda/envs/sfapi_dask_env/lib/python3.11/contextlib.py\", line 137, in __enter__\n",
       "  File \"/global/homes/s/sanjeevc/.conda/envs/sfapi_dask_env/lib/python3.11/site-packages/prefect/task_engine.py\", line 732, in start\n",
       "  File \"/global/homes/s/sanjeevc/.conda/envs/sfapi_dask_env/lib/python3.11/contextlib.py\", line 137, in __enter__\n",
       "  File \"/global/homes/s/sanjeevc/.conda/envs/sfapi_dask_env/lib/python3.11/site-packages/prefect/task_engine.py\", line 655, in initialize_run\n",
       "  File \"/global/homes/s/sanjeevc/.conda/envs/sfapi_dask_env/lib/python3.11/contextlib.py\", line 137, in __enter__\n",
       "  File \"/global/homes/s/sanjeevc/.conda/envs/sfapi_dask_env/lib/python3.11/site-packages/prefect/context.py\", line 236, in get_or_create\n",
       "  File \"/global/homes/s/sanjeevc/.conda/envs/sfapi_dask_env/lib/python3.11/site-packages/prefect/context.py\", line 218, in __enter__\n",
       "  File \"/global/homes/s/sanjeevc/.conda/envs/sfapi_dask_env/lib/python3.11/site-packages/prefect/client/orchestration.py\", line 3744, in raise_for_api_version_mismatch\n",
       "RuntimeError: Found incompatible versions: client: 3.1.2, server: 2.14.2. Major versions must match.\n"
      ]
     },
     "metadata": {},
     "output_type": "display_data"
    },
    {
     "data": {
      "text/html": [
       "<pre style=\"white-space:pre;overflow-x:auto;line-height:normal;font-family:Menlo,'DejaVu Sans Mono',consolas,'Courier New',monospace\">17:35:32.293 | <span style=\"color: #d70000; text-decoration-color: #d70000\">ERROR</span>   | Flow run<span style=\"color: #800080; text-decoration-color: #800080\"> 'courageous-wrasse'</span> - Finished in state <span style=\"color: #d70000; text-decoration-color: #d70000\">Failed</span>('Flow run encountered an exception: RuntimeError: Found incompatible versions: client: 3.1.2, server: 2.14.2. Major versions must match.')\n",
       "</pre>\n"
      ],
      "text/plain": [
       "17:35:32.293 | \u001b[38;5;160mERROR\u001b[0m   | Flow run\u001b[35m 'courageous-wrasse'\u001b[0m - Finished in state \u001b[38;5;160mFailed\u001b[0m('Flow run encountered an exception: RuntimeError: Found incompatible versions: client: 3.1.2, server: 2.14.2. Major versions must match.')\n"
      ]
     },
     "metadata": {},
     "output_type": "display_data"
    },
    {
     "ename": "RuntimeError",
     "evalue": "Found incompatible versions: client: 3.1.2, server: 2.14.2. Major versions must match.",
     "output_type": "error",
     "traceback": [
      "\u001b[0;31m---------------------------------------------------------------------------\u001b[0m",
      "\u001b[0;31mRuntimeError\u001b[0m                              Traceback (most recent call last)",
      "Cell \u001b[0;32mIn[19], line 17\u001b[0m\n\u001b[1;32m     14\u001b[0m     prefect_future \u001b[38;5;241m=\u001b[39m compute_task\u001b[38;5;241m.\u001b[39msubmit()\n\u001b[1;32m     15\u001b[0m     \u001b[38;5;28;01mreturn\u001b[39;00m prefect_future\u001b[38;5;241m.\u001b[39mresult()\n\u001b[0;32m---> 17\u001b[0m \u001b[43mdask_flow\u001b[49m\u001b[43m(\u001b[49m\u001b[43m)\u001b[49m\n",
      "File \u001b[0;32m~/miniforge3/envs/local_nersc/lib/python3.11/site-packages/prefect/flows.py:1355\u001b[0m, in \u001b[0;36mFlow.__call__\u001b[0;34m(self, return_state, wait_for, *args, **kwargs)\u001b[0m\n\u001b[1;32m   1351\u001b[0m     \u001b[38;5;28;01mreturn\u001b[39;00m track_viz_task(\u001b[38;5;28mself\u001b[39m\u001b[38;5;241m.\u001b[39misasync, \u001b[38;5;28mself\u001b[39m\u001b[38;5;241m.\u001b[39mname, parameters)\n\u001b[1;32m   1353\u001b[0m \u001b[38;5;28;01mfrom\u001b[39;00m \u001b[38;5;21;01mprefect\u001b[39;00m\u001b[38;5;21;01m.\u001b[39;00m\u001b[38;5;21;01mflow_engine\u001b[39;00m \u001b[38;5;28;01mimport\u001b[39;00m run_flow\n\u001b[0;32m-> 1355\u001b[0m \u001b[38;5;28;01mreturn\u001b[39;00m \u001b[43mrun_flow\u001b[49m\u001b[43m(\u001b[49m\n\u001b[1;32m   1356\u001b[0m \u001b[43m    \u001b[49m\u001b[43mflow\u001b[49m\u001b[38;5;241;43m=\u001b[39;49m\u001b[38;5;28;43mself\u001b[39;49m\u001b[43m,\u001b[49m\n\u001b[1;32m   1357\u001b[0m \u001b[43m    \u001b[49m\u001b[43mparameters\u001b[49m\u001b[38;5;241;43m=\u001b[39;49m\u001b[43mparameters\u001b[49m\u001b[43m,\u001b[49m\n\u001b[1;32m   1358\u001b[0m \u001b[43m    \u001b[49m\u001b[43mwait_for\u001b[49m\u001b[38;5;241;43m=\u001b[39;49m\u001b[43mwait_for\u001b[49m\u001b[43m,\u001b[49m\n\u001b[1;32m   1359\u001b[0m \u001b[43m    \u001b[49m\u001b[43mreturn_type\u001b[49m\u001b[38;5;241;43m=\u001b[39;49m\u001b[43mreturn_type\u001b[49m\u001b[43m,\u001b[49m\n\u001b[1;32m   1360\u001b[0m \u001b[43m\u001b[49m\u001b[43m)\u001b[49m\n",
      "File \u001b[0;32m~/miniforge3/envs/local_nersc/lib/python3.11/site-packages/prefect/flow_engine.py:821\u001b[0m, in \u001b[0;36mrun_flow\u001b[0;34m(flow, flow_run, parameters, wait_for, return_type)\u001b[0m\n\u001b[1;32m    819\u001b[0m     \u001b[38;5;28;01mreturn\u001b[39;00m run_flow_async(\u001b[38;5;241m*\u001b[39m\u001b[38;5;241m*\u001b[39mkwargs)\n\u001b[1;32m    820\u001b[0m \u001b[38;5;28;01melse\u001b[39;00m:\n\u001b[0;32m--> 821\u001b[0m     \u001b[38;5;28;01mreturn\u001b[39;00m \u001b[43mrun_flow_sync\u001b[49m\u001b[43m(\u001b[49m\u001b[38;5;241;43m*\u001b[39;49m\u001b[38;5;241;43m*\u001b[39;49m\u001b[43mkwargs\u001b[49m\u001b[43m)\u001b[49m\n",
      "File \u001b[0;32m~/miniforge3/envs/local_nersc/lib/python3.11/site-packages/prefect/flow_engine.py:701\u001b[0m, in \u001b[0;36mrun_flow_sync\u001b[0;34m(flow, flow_run, parameters, wait_for, return_type)\u001b[0m\n\u001b[1;32m    698\u001b[0m         \u001b[38;5;28;01mwith\u001b[39;00m engine\u001b[38;5;241m.\u001b[39mrun_context():\n\u001b[1;32m    699\u001b[0m             engine\u001b[38;5;241m.\u001b[39mcall_flow_fn()\n\u001b[0;32m--> 701\u001b[0m \u001b[38;5;28;01mreturn\u001b[39;00m engine\u001b[38;5;241m.\u001b[39mstate \u001b[38;5;28;01mif\u001b[39;00m return_type \u001b[38;5;241m==\u001b[39m \u001b[38;5;124m\"\u001b[39m\u001b[38;5;124mstate\u001b[39m\u001b[38;5;124m\"\u001b[39m \u001b[38;5;28;01melse\u001b[39;00m \u001b[43mengine\u001b[49m\u001b[38;5;241;43m.\u001b[39;49m\u001b[43mresult\u001b[49m\u001b[43m(\u001b[49m\u001b[43m)\u001b[49m\n",
      "File \u001b[0;32m~/miniforge3/envs/local_nersc/lib/python3.11/site-packages/prefect/flow_engine.py:255\u001b[0m, in \u001b[0;36mFlowRunEngine.result\u001b[0;34m(self, raise_on_failure)\u001b[0m\n\u001b[1;32m    253\u001b[0m \u001b[38;5;28;01mif\u001b[39;00m \u001b[38;5;28mself\u001b[39m\u001b[38;5;241m.\u001b[39m_raised \u001b[38;5;129;01mis\u001b[39;00m \u001b[38;5;129;01mnot\u001b[39;00m NotSet:\n\u001b[1;32m    254\u001b[0m     \u001b[38;5;28;01mif\u001b[39;00m raise_on_failure:\n\u001b[0;32m--> 255\u001b[0m         \u001b[38;5;28;01mraise\u001b[39;00m \u001b[38;5;28mself\u001b[39m\u001b[38;5;241m.\u001b[39m_raised\n\u001b[1;32m    256\u001b[0m     \u001b[38;5;28;01mreturn\u001b[39;00m \u001b[38;5;28mself\u001b[39m\u001b[38;5;241m.\u001b[39m_raised\n\u001b[1;32m    258\u001b[0m \u001b[38;5;66;03m# This is a fall through case which leans on the existing state result mechanics to get the\u001b[39;00m\n\u001b[1;32m    259\u001b[0m \u001b[38;5;66;03m# return value. This is necessary because we currently will return a State object if the\u001b[39;00m\n\u001b[1;32m    260\u001b[0m \u001b[38;5;66;03m# the State was Prefect-created.\u001b[39;00m\n\u001b[1;32m    261\u001b[0m \u001b[38;5;66;03m# TODO: Remove the need to get the result from a State except in cases where the return value\u001b[39;00m\n\u001b[1;32m    262\u001b[0m \u001b[38;5;66;03m# is a State object.\u001b[39;00m\n",
      "File \u001b[0;32m~/miniforge3/envs/local_nersc/lib/python3.11/site-packages/prefect/flow_engine.py:655\u001b[0m, in \u001b[0;36mFlowRunEngine.run_context\u001b[0;34m(self)\u001b[0m\n\u001b[1;32m    648\u001b[0m     \u001b[38;5;28;01mwith\u001b[39;00m timeout_context(\n\u001b[1;32m    649\u001b[0m         seconds\u001b[38;5;241m=\u001b[39m\u001b[38;5;28mself\u001b[39m\u001b[38;5;241m.\u001b[39mflow\u001b[38;5;241m.\u001b[39mtimeout_seconds,\n\u001b[1;32m    650\u001b[0m         timeout_exc_type\u001b[38;5;241m=\u001b[39mFlowRunTimeoutError,\n\u001b[1;32m    651\u001b[0m     ):\n\u001b[1;32m    652\u001b[0m         \u001b[38;5;28mself\u001b[39m\u001b[38;5;241m.\u001b[39mlogger\u001b[38;5;241m.\u001b[39mdebug(\n\u001b[1;32m    653\u001b[0m             \u001b[38;5;124mf\u001b[39m\u001b[38;5;124m\"\u001b[39m\u001b[38;5;124mExecuting flow \u001b[39m\u001b[38;5;132;01m{\u001b[39;00m\u001b[38;5;28mself\u001b[39m\u001b[38;5;241m.\u001b[39mflow\u001b[38;5;241m.\u001b[39mname\u001b[38;5;132;01m!r}\u001b[39;00m\u001b[38;5;124m for flow run \u001b[39m\u001b[38;5;132;01m{\u001b[39;00m\u001b[38;5;28mself\u001b[39m\u001b[38;5;241m.\u001b[39mflow_run\u001b[38;5;241m.\u001b[39mname\u001b[38;5;132;01m!r}\u001b[39;00m\u001b[38;5;124m...\u001b[39m\u001b[38;5;124m\"\u001b[39m\n\u001b[1;32m    654\u001b[0m         )\n\u001b[0;32m--> 655\u001b[0m         \u001b[38;5;28;01myield\u001b[39;00m \u001b[38;5;28mself\u001b[39m\n\u001b[1;32m    656\u001b[0m \u001b[38;5;28;01mexcept\u001b[39;00m \u001b[38;5;167;01mTimeoutError\u001b[39;00m \u001b[38;5;28;01mas\u001b[39;00m exc:\n\u001b[1;32m    657\u001b[0m     \u001b[38;5;28mself\u001b[39m\u001b[38;5;241m.\u001b[39mhandle_timeout(exc)\n",
      "File \u001b[0;32m~/miniforge3/envs/local_nersc/lib/python3.11/site-packages/prefect/flow_engine.py:699\u001b[0m, in \u001b[0;36mrun_flow_sync\u001b[0;34m(flow, flow_run, parameters, wait_for, return_type)\u001b[0m\n\u001b[1;32m    697\u001b[0m     \u001b[38;5;28;01mwhile\u001b[39;00m engine\u001b[38;5;241m.\u001b[39mis_running():\n\u001b[1;32m    698\u001b[0m         \u001b[38;5;28;01mwith\u001b[39;00m engine\u001b[38;5;241m.\u001b[39mrun_context():\n\u001b[0;32m--> 699\u001b[0m             \u001b[43mengine\u001b[49m\u001b[38;5;241;43m.\u001b[39;49m\u001b[43mcall_flow_fn\u001b[49m\u001b[43m(\u001b[49m\u001b[43m)\u001b[49m\n\u001b[1;32m    701\u001b[0m \u001b[38;5;28;01mreturn\u001b[39;00m engine\u001b[38;5;241m.\u001b[39mstate \u001b[38;5;28;01mif\u001b[39;00m return_type \u001b[38;5;241m==\u001b[39m \u001b[38;5;124m\"\u001b[39m\u001b[38;5;124mstate\u001b[39m\u001b[38;5;124m\"\u001b[39m \u001b[38;5;28;01melse\u001b[39;00m engine\u001b[38;5;241m.\u001b[39mresult()\n",
      "File \u001b[0;32m~/miniforge3/envs/local_nersc/lib/python3.11/site-packages/prefect/flow_engine.py:678\u001b[0m, in \u001b[0;36mFlowRunEngine.call_flow_fn\u001b[0;34m(self)\u001b[0m\n\u001b[1;32m    676\u001b[0m     \u001b[38;5;28;01mreturn\u001b[39;00m _call_flow_fn()\n\u001b[1;32m    677\u001b[0m \u001b[38;5;28;01melse\u001b[39;00m:\n\u001b[0;32m--> 678\u001b[0m     result \u001b[38;5;241m=\u001b[39m \u001b[43mcall_with_parameters\u001b[49m\u001b[43m(\u001b[49m\u001b[38;5;28;43mself\u001b[39;49m\u001b[38;5;241;43m.\u001b[39;49m\u001b[43mflow\u001b[49m\u001b[38;5;241;43m.\u001b[39;49m\u001b[43mfn\u001b[49m\u001b[43m,\u001b[49m\u001b[43m \u001b[49m\u001b[38;5;28;43mself\u001b[39;49m\u001b[38;5;241;43m.\u001b[39;49m\u001b[43mparameters\u001b[49m\u001b[43m)\u001b[49m\n\u001b[1;32m    679\u001b[0m     \u001b[38;5;28mself\u001b[39m\u001b[38;5;241m.\u001b[39mhandle_success(result)\n",
      "File \u001b[0;32m~/miniforge3/envs/local_nersc/lib/python3.11/site-packages/prefect/utilities/callables.py:206\u001b[0m, in \u001b[0;36mcall_with_parameters\u001b[0;34m(fn, parameters)\u001b[0m\n\u001b[1;32m    198\u001b[0m \u001b[38;5;250m\u001b[39m\u001b[38;5;124;03m\"\"\"\u001b[39;00m\n\u001b[1;32m    199\u001b[0m \u001b[38;5;124;03mCall a function with parameters extracted with `get_call_parameters`\u001b[39;00m\n\u001b[1;32m    200\u001b[0m \n\u001b[0;32m   (...)\u001b[0m\n\u001b[1;32m    203\u001b[0m \u001b[38;5;124;03mthe args/kwargs using `parameters_to_positional_and_keyword` directly\u001b[39;00m\n\u001b[1;32m    204\u001b[0m \u001b[38;5;124;03m\"\"\"\u001b[39;00m\n\u001b[1;32m    205\u001b[0m args, kwargs \u001b[38;5;241m=\u001b[39m parameters_to_args_kwargs(fn, parameters)\n\u001b[0;32m--> 206\u001b[0m \u001b[38;5;28;01mreturn\u001b[39;00m \u001b[43mfn\u001b[49m\u001b[43m(\u001b[49m\u001b[38;5;241;43m*\u001b[39;49m\u001b[43margs\u001b[49m\u001b[43m,\u001b[49m\u001b[43m \u001b[49m\u001b[38;5;241;43m*\u001b[39;49m\u001b[38;5;241;43m*\u001b[39;49m\u001b[43mkwargs\u001b[49m\u001b[43m)\u001b[49m\n",
      "Cell \u001b[0;32mIn[19], line 15\u001b[0m, in \u001b[0;36mdask_flow\u001b[0;34m()\u001b[0m\n\u001b[1;32m     12\u001b[0m \u001b[38;5;129m@flow\u001b[39m(task_runner\u001b[38;5;241m=\u001b[39mDaskTaskRunner(address\u001b[38;5;241m=\u001b[39m\u001b[38;5;124m\"\u001b[39m\u001b[38;5;124mtcp://localhost:8786\u001b[39m\u001b[38;5;124m\"\u001b[39m))\n\u001b[1;32m     13\u001b[0m \u001b[38;5;28;01mdef\u001b[39;00m \u001b[38;5;21mdask_flow\u001b[39m():\n\u001b[1;32m     14\u001b[0m     prefect_future \u001b[38;5;241m=\u001b[39m compute_task\u001b[38;5;241m.\u001b[39msubmit()\n\u001b[0;32m---> 15\u001b[0m     \u001b[38;5;28;01mreturn\u001b[39;00m \u001b[43mprefect_future\u001b[49m\u001b[38;5;241;43m.\u001b[39;49m\u001b[43mresult\u001b[49m\u001b[43m(\u001b[49m\u001b[43m)\u001b[49m\n",
      "File \u001b[0;32m~/miniforge3/envs/local_nersc/lib/python3.11/site-packages/prefect_dask/task_runners.py:132\u001b[0m, in \u001b[0;36mPrefectDaskFuture.result\u001b[0;34m(self, timeout, raise_on_failure)\u001b[0m\n\u001b[1;32m    130\u001b[0m \u001b[38;5;28;01mif\u001b[39;00m \u001b[38;5;129;01mnot\u001b[39;00m \u001b[38;5;28mself\u001b[39m\u001b[38;5;241m.\u001b[39m_final_state:\n\u001b[1;32m    131\u001b[0m     \u001b[38;5;28;01mtry\u001b[39;00m:\n\u001b[0;32m--> 132\u001b[0m         future_result \u001b[38;5;241m=\u001b[39m \u001b[38;5;28;43mself\u001b[39;49m\u001b[38;5;241;43m.\u001b[39;49m\u001b[43m_wrapped_future\u001b[49m\u001b[38;5;241;43m.\u001b[39;49m\u001b[43mresult\u001b[49m\u001b[43m(\u001b[49m\u001b[43mtimeout\u001b[49m\u001b[38;5;241;43m=\u001b[39;49m\u001b[43mtimeout\u001b[49m\u001b[43m)\u001b[49m\n\u001b[1;32m    133\u001b[0m     \u001b[38;5;28;01mexcept\u001b[39;00m distributed\u001b[38;5;241m.\u001b[39mTimeoutError \u001b[38;5;28;01mas\u001b[39;00m exc:\n\u001b[1;32m    134\u001b[0m         \u001b[38;5;28;01mraise\u001b[39;00m \u001b[38;5;167;01mTimeoutError\u001b[39;00m(\n\u001b[1;32m    135\u001b[0m             \u001b[38;5;124mf\u001b[39m\u001b[38;5;124m\"\u001b[39m\u001b[38;5;124mTask run \u001b[39m\u001b[38;5;132;01m{\u001b[39;00m\u001b[38;5;28mself\u001b[39m\u001b[38;5;241m.\u001b[39mtask_run_id\u001b[38;5;132;01m}\u001b[39;00m\u001b[38;5;124m did not complete within \u001b[39m\u001b[38;5;132;01m{\u001b[39;00mtimeout\u001b[38;5;132;01m}\u001b[39;00m\u001b[38;5;124m seconds\u001b[39m\u001b[38;5;124m\"\u001b[39m\n\u001b[1;32m    136\u001b[0m         ) \u001b[38;5;28;01mfrom\u001b[39;00m \u001b[38;5;21;01mexc\u001b[39;00m\n",
      "File \u001b[0;32m~/miniforge3/envs/local_nersc/lib/python3.11/site-packages/distributed/client.py:322\u001b[0m, in \u001b[0;36mFuture.result\u001b[0;34m(self, timeout)\u001b[0m\n\u001b[1;32m    320\u001b[0m \u001b[38;5;28mself\u001b[39m\u001b[38;5;241m.\u001b[39m_verify_initialized()\n\u001b[1;32m    321\u001b[0m \u001b[38;5;28;01mwith\u001b[39;00m shorten_traceback():\n\u001b[0;32m--> 322\u001b[0m     \u001b[38;5;28;01mreturn\u001b[39;00m \u001b[38;5;28;43mself\u001b[39;49m\u001b[38;5;241;43m.\u001b[39;49m\u001b[43mclient\u001b[49m\u001b[38;5;241;43m.\u001b[39;49m\u001b[43msync\u001b[49m\u001b[43m(\u001b[49m\u001b[38;5;28;43mself\u001b[39;49m\u001b[38;5;241;43m.\u001b[39;49m\u001b[43m_result\u001b[49m\u001b[43m,\u001b[49m\u001b[43m \u001b[49m\u001b[43mcallback_timeout\u001b[49m\u001b[38;5;241;43m=\u001b[39;49m\u001b[43mtimeout\u001b[49m\u001b[43m)\u001b[49m\n",
      "File \u001b[0;32m~/miniforge3/envs/local_nersc/lib/python3.11/site-packages/prefect_dask/client.py:62\u001b[0m, in \u001b[0;36mwrapper_func\u001b[0;34m()\u001b[0m\n\u001b[1;32m     60\u001b[0m     \u001b[38;5;28;01mreturn\u001b[39;00m asyncio\u001b[38;5;241m.\u001b[39mrun(run_task_async(\u001b[38;5;241m*\u001b[39margs, \u001b[38;5;241m*\u001b[39m\u001b[38;5;241m*\u001b[39mkwargs))\n\u001b[1;32m     61\u001b[0m \u001b[38;5;28;01melse\u001b[39;00m:\n\u001b[0;32m---> 62\u001b[0m     \u001b[38;5;28;01mreturn\u001b[39;00m run_task_sync(\u001b[38;5;241m*\u001b[39margs, \u001b[38;5;241m*\u001b[39m\u001b[38;5;241m*\u001b[39mkwargs)\n",
      "File \u001b[0;32m/global/homes/s/sanjeevc/.conda/envs/sfapi_dask_env/lib/python3.11/site-packages/prefect/task_engine.py:1333\u001b[0m, in \u001b[0;36mrun_task_sync\u001b[0;34m()\u001b[0m\n",
      "File \u001b[0;32m/global/homes/s/sanjeevc/.conda/envs/sfapi_dask_env/lib/python3.11/contextlib.py:137\u001b[0m, in \u001b[0;36m__enter__\u001b[0;34m()\u001b[0m\n",
      "File \u001b[0;32m/global/homes/s/sanjeevc/.conda/envs/sfapi_dask_env/lib/python3.11/site-packages/prefect/task_engine.py:732\u001b[0m, in \u001b[0;36mstart\u001b[0;34m()\u001b[0m\n",
      "File \u001b[0;32m/global/homes/s/sanjeevc/.conda/envs/sfapi_dask_env/lib/python3.11/contextlib.py:137\u001b[0m, in \u001b[0;36m__enter__\u001b[0;34m()\u001b[0m\n",
      "File \u001b[0;32m/global/homes/s/sanjeevc/.conda/envs/sfapi_dask_env/lib/python3.11/site-packages/prefect/task_engine.py:655\u001b[0m, in \u001b[0;36minitialize_run\u001b[0;34m()\u001b[0m\n",
      "File \u001b[0;32m/global/homes/s/sanjeevc/.conda/envs/sfapi_dask_env/lib/python3.11/contextlib.py:137\u001b[0m, in \u001b[0;36m__enter__\u001b[0;34m()\u001b[0m\n",
      "File \u001b[0;32m/global/homes/s/sanjeevc/.conda/envs/sfapi_dask_env/lib/python3.11/site-packages/prefect/context.py:236\u001b[0m, in \u001b[0;36mget_or_create\u001b[0;34m()\u001b[0m\n",
      "File \u001b[0;32m/global/homes/s/sanjeevc/.conda/envs/sfapi_dask_env/lib/python3.11/site-packages/prefect/context.py:218\u001b[0m, in \u001b[0;36m__enter__\u001b[0;34m()\u001b[0m\n",
      "File \u001b[0;32m/global/homes/s/sanjeevc/.conda/envs/sfapi_dask_env/lib/python3.11/site-packages/prefect/client/orchestration.py:3744\u001b[0m, in \u001b[0;36mraise_for_api_version_mismatch\u001b[0;34m()\u001b[0m\n",
      "\u001b[0;31mRuntimeError\u001b[0m: Found incompatible versions: client: 3.1.2, server: 2.14.2. Major versions must match."
     ]
    }
   ],
   "source": [
    "import dask\n",
    "from prefect import flow, task\n",
    "from prefect_dask import DaskTaskRunner, get_dask_client\n",
    "\n",
    "@task\n",
    "def compute_task():\n",
    "    with get_dask_client() as client:\n",
    "        df = dask.datasets.timeseries(\"2000\", \"2001\", partition_freq=\"4w\")\n",
    "        summary_df = df.describe().compute().result()\n",
    "    return summary_df\n",
    "\n",
    "@flow(task_runner=DaskTaskRunner(address=\"tcp://localhost:8786\"))\n",
    "def dask_flow():\n",
    "    prefect_future = compute_task.submit()\n",
    "    return prefect_future.result()\n",
    "\n",
    "dask_flow()\n"
   ]
  },
  {
   "cell_type": "code",
   "execution_count": 12,
   "metadata": {},
   "outputs": [
    {
     "name": "stdout",
     "output_type": "stream",
     "text": [
      "CPU times: user 5 μs, sys: 0 ns, total: 5 μs\n",
      "Wall time: 11.9 μs\n"
     ]
    },
    {
     "data": {
      "text/html": [
       "<pre style=\"white-space:pre;overflow-x:auto;line-height:normal;font-family:Menlo,'DejaVu Sans Mono',consolas,'Courier New',monospace\">17:17:16.396 | <span style=\"color: #008080; text-decoration-color: #008080\">INFO</span>    | prefect.engine - Created flow run<span style=\"color: #800080; text-decoration-color: #800080\"> 'crazy-swine'</span> for flow<span style=\"color: #800080; text-decoration-color: #800080; font-weight: bold\"> 'download-nino-34-plumes-from-year'</span>\n",
       "</pre>\n"
      ],
      "text/plain": [
       "17:17:16.396 | \u001b[36mINFO\u001b[0m    | prefect.engine - Created flow run\u001b[35m 'crazy-swine'\u001b[0m for flow\u001b[1;35m 'download-nino-34-plumes-from-year'\u001b[0m\n"
      ]
     },
     "metadata": {},
     "output_type": "display_data"
    },
    {
     "data": {
      "text/html": [
       "<pre style=\"white-space:pre;overflow-x:auto;line-height:normal;font-family:Menlo,'DejaVu Sans Mono',consolas,'Courier New',monospace\">17:17:16.430 | <span style=\"color: #008080; text-decoration-color: #008080\">INFO</span>    | prefect.task_runner.dask - Connecting to an existing Dask cluster at tcp://localhost:8786\n",
       "</pre>\n"
      ],
      "text/plain": [
       "17:17:16.430 | \u001b[36mINFO\u001b[0m    | prefect.task_runner.dask - Connecting to an existing Dask cluster at tcp://localhost:8786\n"
      ]
     },
     "metadata": {},
     "output_type": "display_data"
    },
    {
     "data": {
      "text/html": [
       "<pre style=\"white-space:pre;overflow-x:auto;line-height:normal;font-family:Menlo,'DejaVu Sans Mono',consolas,'Courier New',monospace\">17:17:19.147 | <span style=\"color: #d70000; text-decoration-color: #d70000\">ERROR</span>   | Flow run<span style=\"color: #800080; text-decoration-color: #800080\"> 'crazy-swine'</span> - Finished in state <span style=\"color: #d70000; text-decoration-color: #d70000\">Failed</span>('12/12 states are not final.')\n",
       "</pre>\n"
      ],
      "text/plain": [
       "17:17:19.147 | \u001b[38;5;160mERROR\u001b[0m   | Flow run\u001b[35m 'crazy-swine'\u001b[0m - Finished in state \u001b[38;5;160mFailed\u001b[0m('12/12 states are not final.')\n"
      ]
     },
     "metadata": {},
     "output_type": "display_data"
    },
    {
     "data": {
      "text/plain": [
       "[Pending(message=None, type=PENDING, result=None),\n",
       " Pending(message=None, type=PENDING, result=None),\n",
       " Pending(message=None, type=PENDING, result=None),\n",
       " Pending(message=None, type=PENDING, result=None),\n",
       " Pending(message=None, type=PENDING, result=None),\n",
       " Pending(message=None, type=PENDING, result=None),\n",
       " Pending(message=None, type=PENDING, result=None),\n",
       " Pending(message=None, type=PENDING, result=None),\n",
       " Pending(message=None, type=PENDING, result=None),\n",
       " Pending(message=None, type=PENDING, result=None),\n",
       " Pending(message=None, type=PENDING, result=None),\n",
       " Pending(message=None, type=PENDING, result=None)]"
      ]
     },
     "execution_count": 12,
     "metadata": {},
     "output_type": "execute_result"
    }
   ],
   "source": []
  },
  {
   "cell_type": "code",
   "execution_count": null,
   "metadata": {},
   "outputs": [],
   "source": []
  }
 ],
 "metadata": {
  "kernelspec": {
   "display_name": "Python 3 (ipykernel)",
   "language": "python",
   "name": "python3"
  },
  "language_info": {
   "codemirror_mode": {
    "name": "ipython",
    "version": 3
   },
   "file_extension": ".py",
   "mimetype": "text/x-python",
   "name": "python",
   "nbconvert_exporter": "python",
   "pygments_lexer": "ipython3",
   "version": "3.11.7"
  }
 },
 "nbformat": 4,
 "nbformat_minor": 4
}
